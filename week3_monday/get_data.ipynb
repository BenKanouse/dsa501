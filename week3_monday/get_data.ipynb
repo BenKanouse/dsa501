{
 "cells": [
  {
   "cell_type": "code",
   "execution_count": 2,
   "metadata": {},
   "outputs": [
    {
     "name": "stdout",
     "output_type": "stream",
     "text": [
      "Downloaded dsa501_reviewer.xlsx\n",
      "Downloaded dsa501_movie.xlsx\n",
      "Downloaded dsa501_rating.xlsx\n",
      "Downloading adding_features_to_dataframes.ipynb\n",
      "Downloading string.csv\n",
      "Downloading day1_nhtsa.ipynb\n",
      "Downloading day2_numpy.ipynb\n",
      "Downloading day3_fuel_economy.ipynb\n",
      "Downloading day3_airports.ipynb\n",
      "Downloading day3_data_structures.ipynb\n",
      "Downloading file_2008.csv\n",
      "Downloading file_2018.csv\n",
      "Downloading 2019_day4_names.ipynb\n",
      "Downloading firstname.csv\n",
      "Downloading lastname.csv\n",
      "Downloading histogram1d.py\n",
      "Downloading colorny.py\n",
      "Downloading 2019_day5.ipynb\n"
     ]
    }
   ],
   "source": [
    "#  LIST OF PAIRS (URL, FILENAME)\n",
    "urlsfns = [\n",
    "('https://drive.google.com/uc?export=download&id=19354XDjueK7GK6H3RpLEwveeExxQsrxy','adding_features_to_dataframes.ipynb'),\n",
    "('http://136.183.56.191/DSA501public/string.csv','string.csv'),\n",
    "('https://drive.google.com/uc?export=download&id=1hL4kDb4bRgWJj3QK2pb9CSSvMv_UST8z','day1_nhtsa.ipynb'),\n",
    "('http://blue.math.buffalo.edu/dsa501/2019_day2_numpy.ipynb','day2_numpy.ipynb'), ('https://drive.google.com/uc?export=download&id=1SEIzbUgXmUTL2h3vjYBtV4ouwjBWOTBx','day3_fuel_economy.ipynb'), ('https://drive.google.com/uc?export=download&id=1I7u93Vxk0Xbp1iionRZR4H7Ys2vG4drQ','day3_airports.ipynb'),\n",
    "('https://drive.google.com/uc?export=download&id=16Qnvo6Nk3_DYVfQLmvjG6Zj3iewDSkz5','day3_data_structures.ipynb'),\n",
    "('http://136.183.56.191/DSA501public/file_2008.csv','file_2008.csv'),\n",
    "('http://136.183.56.191/DSA501public/file_2018.csv','file_2018.csv'),\n",
    "('https://drive.google.com/uc?export=download&id=1chtvtdlqOPDn59K8sUrjGoWg8Jn9IYmN','2019_day4_names.ipynb'),\n",
    "('http://blue.math.buffalo.edu/dsa501/firstname.csv','firstname.csv'),\n",
    "('http://blue.math.buffalo.edu/dsa501/lastname.csv','lastname.csv'),\n",
    "('http://blue.math.buffalo.edu/448/histogram1d.py','histogram1d.py'),\n",
    "('http://blue.math.buffalo.edu/448/colorny.py','colorny.py'),\n",
    "('http://blue.math.buffalo.edu/dsa501/2019_day5.ipynb','2019_day5.ipynb')\n",
    "]\n",
    "\n",
    "\n",
    "\n",
    "\n",
    "sheets = {\n",
    "'dsa501_reviewer.xlsx':'1k4YOFuixGHAXfVDTZkxzo34B-HybeJC2aKUIew7nIkQ',\n",
    "'dsa501_movie.xlsx'   :'1hKDIdwSArkrBMQxhKVw_gfTEtNzzgjJbjSrlzRHdn4U',\n",
    "'dsa501_rating.xlsx'  :'1o_rNjcVBuqwDmSICDwdgUO65lc5aLtz5D0QZEQWcCCQ'}\n",
    "\n",
    "\n",
    "\n",
    "\n",
    "#######  DON'T MODIFY BELOW THIS LINE!  ##################\n",
    "\n",
    "\n",
    "import requests\n",
    "from os.path import exists\n",
    "\n",
    "\n",
    "for sheet in sheets:\n",
    "             url = 'https://docs.google.com/spreadsheets/d/' + sheets[sheet] + '/export?format=xlsx'\n",
    "             r = requests.get(url)\n",
    "             with open(sheet,'wb') as f:\n",
    "                     f.write(r.content)\n",
    "             print('Downloaded '+sheet)\n",
    "\n",
    "\n",
    "\n",
    "\n",
    "for url,fn in urlsfns:\n",
    "\n",
    "\n",
    "    if not exists(fn):\n",
    "            r = requests.get(url)\n",
    "            print('Downloading',fn)\n",
    "            with open(fn,'w') as f:\n",
    "                    f.write(r.text)\n",
    "    else:\n",
    "            print('Skipping',fn, 'because you already have it')"
   ]
  },
  {
   "cell_type": "code",
   "execution_count": null,
   "metadata": {},
   "outputs": [],
   "source": []
  }
 ],
 "metadata": {
  "kernelspec": {
   "display_name": "Python 3",
   "language": "python",
   "name": "python3"
  },
  "language_info": {
   "codemirror_mode": {
    "name": "ipython",
    "version": 3
   },
   "file_extension": ".py",
   "mimetype": "text/x-python",
   "name": "python",
   "nbconvert_exporter": "python",
   "pygments_lexer": "ipython3",
   "version": "3.7.3"
  }
 },
 "nbformat": 4,
 "nbformat_minor": 2
}
