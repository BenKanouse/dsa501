{
 "cells": [
  {
   "cell_type": "code",
   "execution_count": 6,
   "metadata": {},
   "outputs": [
    {
     "name": "stdout",
     "output_type": "stream",
     "text": [
      "3.14153944 at 59 million points per second\n"
     ]
    }
   ],
   "source": [
    "# comment the next line out for normal version.\n",
    "from numba import jit\n",
    "import random\n",
    "import math\n",
    "from time import time\n",
    "\n",
    "# comment the next line out for normal version.\n",
    "@jit(nopython=True)\n",
    "def pi(sample_size):\n",
    "    sample_size = int(sample_size)\n",
    "    inside_circle = 0\n",
    "    \n",
    "    n = 0\n",
    "    while n < sample_size:\n",
    "        n = n + 1\n",
    "\n",
    "        x, y = random.random(), random.random()\n",
    "    \n",
    "        if (math.sqrt(x * x + y * y) < 1):\n",
    "            inside_circle = inside_circle + 1\n",
    "\n",
    "    pi = (inside_circle / sample_size) * 4\n",
    "    return(pi)\n",
    "\n",
    "tic = time()\n",
    "sample_size = 1e8\n",
    "approxpi = pi(sample_size)\n",
    "toc = time()\n",
    "print(approxpi, 'at', int(sample_size/(toc-tic)/1e6), 'million points per second')"
   ]
  },
  {
   "cell_type": "code",
   "execution_count": 2,
   "metadata": {},
   "outputs": [
    {
     "data": {
      "text/plain": [
       "100000000.0"
      ]
     },
     "execution_count": 2,
     "metadata": {},
     "output_type": "execute_result"
    }
   ],
   "source": [
    "1e8"
   ]
  },
  {
   "cell_type": "code",
   "execution_count": null,
   "metadata": {},
   "outputs": [],
   "source": []
  }
 ],
 "metadata": {
  "kernelspec": {
   "display_name": "Python 3",
   "language": "python",
   "name": "python3"
  },
  "language_info": {
   "codemirror_mode": {
    "name": "ipython",
    "version": 3
   },
   "file_extension": ".py",
   "mimetype": "text/x-python",
   "name": "python",
   "nbconvert_exporter": "python",
   "pygments_lexer": "ipython3",
   "version": "3.7.3"
  }
 },
 "nbformat": 4,
 "nbformat_minor": 2
}
