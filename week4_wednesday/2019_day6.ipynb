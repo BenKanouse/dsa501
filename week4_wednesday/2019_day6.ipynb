{
 "cells": [
  {
   "cell_type": "markdown",
   "metadata": {},
   "source": [
    "# DSA 501 Summer 2019 Day 6\n",
    "\n",
    "Some imports for your convenience:\n",
    "\n",
    "    import pandas as pd\n",
    "    import altair as alt\n",
    "    alt.renderers.enable('notebook')\n",
    "    from colorny import colorny\n",
    "    import matplotlib.pyplot as plt"
   ]
  },
  {
   "cell_type": "markdown",
   "metadata": {},
   "source": [
    "<h2>Oxycodone and hydrocodone supply</h2>\n",
    "\n",
    "<img align=left src=http://blue.math.buffalo.edu/448/oxycodone_hydrocodone_pills_per_person_per_year.png>"
   ]
  },
  {
   "cell_type": "markdown",
   "metadata": {},
   "source": [
    "## Concepts\n",
    "\n",
    "- choropleth maps: for \"intensive\" properties only\n",
    "- intensive and extensive properties\n",
    "- inner, left (outer), right (outer), and (full) outer joins\n",
    "- Why are databases factored into multiple tables?"
   ]
  },
  {
   "cell_type": "markdown",
   "metadata": {},
   "source": [
    "## Tasks\n",
    "\n",
    "- show and describe the map you made for today\n",
    "- run the downloads for today\n",
    "- make a table of intensive and extensive properties\n",
    "- load the 3 movie review tables into dataframes\n",
    "- merge the 3 tables\n",
    "- devise queries to answer questions about moview reviews\n"
   ]
  },
  {
   "cell_type": "markdown",
   "metadata": {},
   "source": [
    "## Questions\n",
    "\n",
    "- Which movie(s) had the most reviews?\n",
    "- Which movies released before 2009 had a rating greater than 3?\n",
    "- Who didn't review any movie?\n",
    "- What was the average rating of each movie?\n",
    "- What was the average rating given by each reviewer?\n",
    "- Which director had the best overall rating?\n",
    "- Which movie had the most variable ratings?"
   ]
  },
  {
   "cell_type": "markdown",
   "metadata": {},
   "source": [
    "## Milestones for today\n",
    "\n",
    "- contribution to discussion of intensive/extensive\n",
    "- choropleth map of an intensive quantity\n",
    "- each pair devise and present a query on the movie reviews"
   ]
  },
  {
   "cell_type": "markdown",
   "metadata": {},
   "source": [
    "## Syntax notes\n",
    "\n",
    "Column(s) to join on:\n",
    "\n",
    "    left_on =\n",
    "    left_index = True\n",
    "\n",
    "If you want to aggregate different columns with different functions:\n",
    "\n",
    "    .agg({'stars':'mean'})\n",
    "    .agg({'stars':['mean','count']})\n",
    "    \n",
    "Sorting\n",
    "\n",
    "    .sort_values( by='foo', ascending=False )\n",
    "    \n",
    "Value counts in a Series\n",
    "\n",
    "    .value_counts()\n",
    "    \n",
    "You can split an expression on multiple lines if you put the whole thing inside ():\n",
    "\n",
    "    ( foo\n",
    "     .bar()\n",
    "    )"
   ]
  },
  {
   "cell_type": "code",
   "execution_count": null,
   "metadata": {},
   "outputs": [],
   "source": []
  }
 ],
 "metadata": {
  "kernelspec": {
   "display_name": "Python 3",
   "language": "python",
   "name": "python3"
  },
  "language_info": {
   "codemirror_mode": {
    "name": "ipython",
    "version": 3
   },
   "file_extension": ".py",
   "mimetype": "text/x-python",
   "name": "python",
   "nbconvert_exporter": "python",
   "pygments_lexer": "ipython3",
   "version": "3.6.8"
  }
 },
 "nbformat": 4,
 "nbformat_minor": 2
}
