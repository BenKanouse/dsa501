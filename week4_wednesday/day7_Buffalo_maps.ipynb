{
 "cells": [
  {
   "cell_type": "markdown",
   "metadata": {},
   "source": [
    "### Values and Build Years of Buffalo Homes"
   ]
  },
  {
   "cell_type": "code",
   "execution_count": null,
   "metadata": {},
   "outputs": [],
   "source": [
    "import pandas as pd\n",
    "import altair as alt"
   ]
  },
  {
   "cell_type": "code",
   "execution_count": null,
   "metadata": {},
   "outputs": [],
   "source": [
    "alt.renderers.enable('notebook')\n",
    "alt.data_transformers.enable('json')"
   ]
  },
  {
   "cell_type": "code",
   "execution_count": null,
   "metadata": {},
   "outputs": [],
   "source": [
    "assessments = pd.read_csv('https://data.buffalony.gov/api/views/kckn-jafw/rows.csv?accessType=DOWNLOAD')"
   ]
  },
  {
   "cell_type": "markdown",
   "metadata": {},
   "source": [
    "### 3: Make a Histogram of 'TOTAL VALUES' or 'YEARS BUILT' of single family homes. "
   ]
  },
  {
   "cell_type": "markdown",
   "metadata": {},
   "source": [
    "#### 3.1 Subset the data using the columns listed. Explore the data and examine na's."
   ]
  },
  {
   "cell_type": "code",
   "execution_count": null,
   "metadata": {},
   "outputs": [],
   "source": [
    "assess = assessments[['STREET','LATITUDE','LONGITUDE','PROPERTY CLASS DESCRIPTION','TOTAL VALUE','YEAR BUILT']]\n"
   ]
  },
  {
   "cell_type": "markdown",
   "metadata": {},
   "source": [
    "#### 3.1 Subset to include only single family homes."
   ]
  },
  {
   "cell_type": "code",
   "execution_count": null,
   "metadata": {},
   "outputs": [],
   "source": [
    "#assess_single = "
   ]
  },
  {
   "cell_type": "markdown",
   "metadata": {},
   "source": [
    "#### 3.2 Create Histogram, using bins. "
   ]
  },
  {
   "cell_type": "code",
   "execution_count": null,
   "metadata": {},
   "outputs": [],
   "source": []
  },
  {
   "cell_type": "markdown",
   "metadata": {},
   "source": [
    "### 3.3 Here is a heatmap that combines both variables and their counts"
   ]
  },
  {
   "cell_type": "code",
   "execution_count": null,
   "metadata": {},
   "outputs": [],
   "source": [
    "ASSESS = alt.Chart(assess_single).mark_rect().encode(\n",
    "    x = alt.X('YEAR BUILT',bin = alt.Bin(maxbins = 30)),\n",
    "    y = alt.Y('TOTAL VALUE',bin = alt.Bin(maxbins = 30)),\n",
    "    color = alt.Color('count()' , scale = alt.Scale(type = 'log', base = 10)),\n",
    "    tooltip = ['count(YEAR BUILT):Q'],\n",
    "    ).properties(width = 500, height = 500)\n"
   ]
  },
  {
   "cell_type": "code",
   "execution_count": null,
   "metadata": {},
   "outputs": [],
   "source": []
  },
  {
   "cell_type": "markdown",
   "metadata": {},
   "source": [
    "### 4: Map Homes of Interest"
   ]
  },
  {
   "cell_type": "markdown",
   "metadata": {},
   "source": [
    "#### 4.1 Display a map of Buffalo"
   ]
  },
  {
   "cell_type": "code",
   "execution_count": null,
   "metadata": {},
   "outputs": [],
   "source": [
    "import json\n",
    "import requests"
   ]
  },
  {
   "cell_type": "code",
   "execution_count": null,
   "metadata": {},
   "outputs": [],
   "source": [
    "alt.data_transformers.enable('json')"
   ]
  },
  {
   "cell_type": "code",
   "execution_count": null,
   "metadata": {},
   "outputs": [],
   "source": [
    "url = 'https://data.buffalony.gov/api/geospatial/ts8p-7v76?method=export&format=GeoJSON'\n",
    "data = requests.get(url)\n",
    "map_json = data.text\n",
    "#buf_map_data = json.loads(map_json)\n"
   ]
  },
  {
   "cell_type": "code",
   "execution_count": null,
   "metadata": {},
   "outputs": [],
   "source": [
    "BUFFALO = alt.Chart(alt.Data(values=map_json)).mark_geoshape(\n",
    "        stroke='black',\n",
    "        strokeWidth=1,clip = True\n",
    "    ).encode(\n",
    "    ).properties(\n",
    "        width=600,\n",
    "        height=600) "
   ]
  },
  {
   "cell_type": "code",
   "execution_count": null,
   "metadata": {},
   "outputs": [],
   "source": [
    "#BUFFALO"
   ]
  },
  {
   "cell_type": "markdown",
   "metadata": {},
   "source": [
    "#### 4.2 Pick an area of interest from the heatmap. Subset assess_single to represent this area. Make a scatter plot of the subsetted Dataframe using latitude and longitude."
   ]
  },
  {
   "cell_type": "code",
   "execution_count": null,
   "metadata": {},
   "outputs": [],
   "source": [
    "#myassess = assess_single[]"
   ]
  },
  {
   "cell_type": "code",
   "execution_count": null,
   "metadata": {},
   "outputs": [],
   "source": [
    "#MYASSESS = alt.Chart"
   ]
  },
  {
   "cell_type": "markdown",
   "metadata": {},
   "source": [
    "#### 4.3 Layer the scatter plot on the map of Buffalo."
   ]
  },
  {
   "cell_type": "code",
   "execution_count": null,
   "metadata": {},
   "outputs": [],
   "source": [
    "#BUFFALO + MYASSESS"
   ]
  },
  {
   "cell_type": "markdown",
   "metadata": {},
   "source": [
    "\n",
    "\n",
    "\n",
    "\n",
    "### 5: Selections in altair"
   ]
  },
  {
   "cell_type": "code",
   "execution_count": null,
   "metadata": {},
   "outputs": [],
   "source": [
    "\n",
    "color_specs = alt.Color('count()' , scale = alt.Scale(type = 'log', base = 10))\n",
    "sel = alt.selection(type = 'interval')\n",
    " \n",
    "ASSESS = alt.Chart().mark_rect().encode(\n",
    "    x = 'valuebins:O',\n",
    "    y = 'yearbins:O',\n",
    "    tooltip = ['count(YEAR BUILT):Q'], \n",
    "    color = alt.condition(sel, color_specs, alt.value('lightgray'))\n",
    ").project(\n",
    "    type = 'identity',reflectX = True\n",
    ").properties(width = 400, height = 400\n",
    ").add_selection(sel)\n",
    "\n"
   ]
  },
  {
   "cell_type": "code",
   "execution_count": null,
   "metadata": {},
   "outputs": [],
   "source": [
    "ASSESS_sel = alt.Chart().mark_circle(opacity = .4,size = 8).encode(\n",
    "    longitude = 'LONGITUDE:Q',\n",
    "    latitude = 'LATITUDE:Q',\n",
    "    tooltip = ['STREET:N']).properties(\n",
    "    width = 400, \n",
    "    height = 400).transform_filter(sel)"
   ]
  },
  {
   "cell_type": "code",
   "execution_count": null,
   "metadata": {},
   "outputs": [],
   "source": [
    "alt.vconcat(ASSESS, ASSESS_sel+ BUFFALO, data = assess_single).transform_bin(\n",
    "    \"yearbins\",\n",
    "    field=\"YEAR BUILT\",\n",
    "    bin=alt.Bin(maxbins=40)).transform_bin('valuebins',field = 'TOTAL VALUE',bin=alt.Bin(maxbins=40)).configure_view(\n",
    "    strokeWidth=0)\n",
    "  \n"
   ]
  }
 ],
 "metadata": {
  "kernelspec": {
   "display_name": "Python [conda env:root] *",
   "language": "python",
   "name": "conda-root-py"
  },
  "language_info": {
   "codemirror_mode": {
    "name": "ipython",
    "version": 3
   },
   "file_extension": ".py",
   "mimetype": "text/x-python",
   "name": "python",
   "nbconvert_exporter": "python",
   "pygments_lexer": "ipython3",
   "version": "3.6.8"
  }
 },
 "nbformat": 4,
 "nbformat_minor": 2
}
