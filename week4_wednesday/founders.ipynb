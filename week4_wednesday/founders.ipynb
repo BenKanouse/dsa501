{
 "cells": [
  {
   "cell_type": "code",
   "execution_count": 1,
   "metadata": {},
   "outputs": [],
   "source": [
    "import time\n",
    "import json\n",
    "import pandas as pd\n",
    "import altair as alt\n",
    "import nltk"
   ]
  },
  {
   "cell_type": "code",
   "execution_count": 42,
   "metadata": {},
   "outputs": [
    {
     "name": "stdout",
     "output_type": "stream",
     "text": [
      "1.2946760654449463\n"
     ]
    }
   ],
   "source": [
    "tic = time.time()\n",
    "with open('founders-online-metadata.json', encoding='UTF-8') as f:\n",
    "    j1 = json.load(f)\n",
    "toc = time.time()\n",
    "print(toc-tic)"
   ]
  },
  {
   "cell_type": "code",
   "execution_count": 43,
   "metadata": {},
   "outputs": [
    {
     "data": {
      "text/plain": [
       "{'title': 'To George Washington from Anonymous, August 1780',\n",
       " 'permalink': 'https://founders.archives.gov/documents/Washington/99-01-02-03139',\n",
       " 'project': 'Washington Papers',\n",
       " 'authors': ['Anonymous'],\n",
       " 'recipients': ['Washington, George'],\n",
       " 'date-from': '1780-08-01',\n",
       " 'date-to': '1780-08-31'}"
      ]
     },
     "execution_count": 43,
     "metadata": {},
     "output_type": "execute_result"
    }
   ],
   "source": [
    "j1[100000]"
   ]
  },
  {
   "cell_type": "code",
   "execution_count": 44,
   "metadata": {},
   "outputs": [],
   "source": [
    "from bs4 import BeautifulSoup\n",
    "import requests"
   ]
  },
  {
   "cell_type": "code",
   "execution_count": 48,
   "metadata": {},
   "outputs": [
    {
     "data": {
      "text/plain": [
       "'August 1780\\n\\nAs to the Navil Strengtht within the hook thare is the gard Ship within the one Sixty fore it is Reported\\n                            that the renown is Sumware A Bout hel gate the Bland frigate Lyes in the [Â\\xa0Â\\xa0Â\\xa0] as to the fort at Brooklin I am told it is Near finnisht that it Is Mounted with havy Cannon and a larg Bumproof Making in it arrivals thare has\\n                            Bin None lately they lay thare has Bin two fals imBarcations or motion to imBark which is not dun the army is Stil on long\\n                            Island and have all the flat Bots With them.'"
      ]
     },
     "metadata": {},
     "output_type": "display_data"
    }
   ],
   "source": [
    "page = requests.get(j1[100000]['permalink']).text.encode('UTF-8')\n",
    "page = BeautifulSoup(page)\n",
    "\n",
    "display(page.find(class_='innerdiv docbody').text.strip())\n"
   ]
  },
  {
   "cell_type": "code",
   "execution_count": null,
   "metadata": {},
   "outputs": [],
   "source": []
  }
 ],
 "metadata": {
  "kernelspec": {
   "display_name": "Python 3",
   "language": "python",
   "name": "python3"
  },
  "language_info": {
   "codemirror_mode": {
    "name": "ipython",
    "version": 3
   },
   "file_extension": ".py",
   "mimetype": "text/x-python",
   "name": "python",
   "nbconvert_exporter": "python",
   "pygments_lexer": "ipython3",
   "version": "3.7.3"
  }
 },
 "nbformat": 4,
 "nbformat_minor": 2
}
