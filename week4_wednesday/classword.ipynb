{
 "cells": [
  {
   "cell_type": "code",
   "execution_count": 25,
   "metadata": {},
   "outputs": [],
   "source": [
    "\n",
    "import requests\n",
    "import csv\n",
    "from bs4 import BeautifulSoup\n",
    "import pandas as pd\n",
    "import html5lib"
   ]
  },
  {
   "cell_type": "code",
   "execution_count": 36,
   "metadata": {},
   "outputs": [],
   "source": [
    "page = requests.get('https://web.archive.org/web/20121007172955/https://www.nga.gov/collection/anZ1.htm')\n",
    "soup = BeautifulSoup(page.text, 'html.parser')\n",
    "\n",
    "last_links = soup.find(class_='AlphaNav')\n",
    "last_links.decompose()\n",
    "\n",
    "f = csv.writer(open('z-artist-names.csv', 'w'))\n",
    "f.writerow(['Name', 'Link'])\n",
    "\n",
    "artist_name_list = soup.find(class_='BodyText')\n",
    "artist_name_list_items = artist_name_list.find_all('a')\n",
    "\n",
    "for artist_name in artist_name_list_items:\n",
    "    names = artist_name.contents[0]\n",
    "    links = 'https://web.archive.org' + artist_name.get('href')\n",
    "    f.writerow([names, links])\n",
    "\n"
   ]
  },
  {
   "cell_type": "code",
   "execution_count": 37,
   "metadata": {},
   "outputs": [],
   "source": [
    "import requests\n",
    "import csv\n",
    "from bs4 import BeautifulSoup\n",
    "\n",
    "\n",
    "f = csv.writer(open('z-artist-names2.csv', 'w'))\n",
    "f.writerow(['Name', 'Link'])\n",
    "\n",
    "pages = []\n",
    "\n",
    "for i in range(1, 5):\n",
    "    url = 'https://web.archive.org/web/20121007172955/https://www.nga.gov/collection/anZ' + str(i) + '.htm'\n",
    "    pages.append(url)\n",
    "\n",
    "\n",
    "for item in pages:\n",
    "    page = requests.get(item)\n",
    "    soup = BeautifulSoup(page.text, 'html.parser')\n",
    "\n",
    "    last_links = soup.find(class_='AlphaNav')\n",
    "    last_links.decompose()\n",
    "\n",
    "    artist_name_list = soup.find(class_='BodyText')\n",
    "    artist_name_list_items = artist_name_list.find_all('a')\n",
    "\n",
    "    for artist_name in artist_name_list_items:\n",
    "        names = artist_name.contents[0]\n",
    "        links = 'https://web.archive.org' + artist_name.get('href')\n",
    "\n",
    "        f.writerow([names, links])"
   ]
  },
  {
   "cell_type": "code",
   "execution_count": 40,
   "metadata": {},
   "outputs": [
    {
     "data": {
      "text/plain": [
       "'<HTML>\\n<HEAD>\\n  <link rel=StyleSheet href=websched.css type=text/css>\\n  <TITLE>Buffalo State - Undergraduate Course Listings for Fall 2019           </TITLE>\\n</HEAD>\\n<BODY>\\n<img src=\"isas_logo.png\" height=92 width=400><BR>\\n<DIV class=hdrorange>BUFFALO STATE</DIV>\\n<DIV class=hdrorange>FALL 2019            <SPAN class=hdrblack>UNDERGRADUATE </SPAN> COURSE LISTINGS</DIV>\\n<DIV class=hdrorange>AUGUST 26, 2019 - DECEMBER 12, 2019</DIV>\\n<DIV class=hdrblack>Last Updated  8/ 7/2019  4:13 PM</DIV>\\n<DIV class=legends>\\nClick on the links below to view all available undergraduate course listings for each department.</DIV>\\n<DIV class=advcddesc>Move the cursor over the advisement codes (ADV CD) for a full description of each code\\'s meaning.<b><font color=red> NEW! Move the cursor over the reserve option for a full description of its meaning.</font></b></DIV>\\n<DIV class=infopage>Note: these course listings are updated at approximately 8AM, 12PM, and 6PM every day. Once registration starts, links to lists of Open and Closed Course Sections and the Addendum for Course Changes will be available on the <a href=http://registrar.buffalostate.edu/courses>Registrar\\'s Office Course Offerings</a> page.</DIV>\\n<DIV class=booklink><a href=http://buffalostate.bncollege.com/webapp/wcs/stores/servlet/TBWizardView?catalogId=10001&storeId=19062&langId=-1 target=_blank>Find your textbooks and course materials here.</a></DIV>\\n<SPAN class=navlink><i> Return to</i></SPAN>\\n<SPAN class=navlink><a href=http://ecatalog.buffalostate.edu/undergraduate/>Undergraduate Catalog</a></SPAN>\\n<SPAN class=navlink><a href=http://registrar.buffalostate.edu/courses>Course information page</a></SPAN>\\n<SPAN class=navlink><a href=http://registrar.buffalostate.edu>Registrar\\'s Home</a></SPAN>\\n<SPAN class=navlink><a href=http://www.buffalostate.edu>Buffalo State Home</a></SPAN>\\n<DIV CLASS=deptlist>\\n<A HREF=201930-ug-academic-affair.html>ACADEMIC AFFAIRS</A><BR>\\n<A HREF=201930-ug-african-america.html>AFRICAN AMERICAN STUDIES</A><BR>\\n<A HREF=201930-ug-anthropology.html>ANTHROPOLOGY</A><BR>\\n<A HREF=201930-ug-art-and-design.html>ART &amp; DESIGN</A><BR>\\n<A HREF=201930-ug-biology.html>BIOLOGY</A><BR>\\n<A HREF=201930-ug-business.html>BUSINESS</A><BR>\\n<A HREF=201930-ug-butler-library.html>BUTLER LIBRARY</A><BR>\\n<A HREF=201930-ug-career-and-tech.html>CAREER AND TECHNICAL EDUCATION</A><BR>\\n<A HREF=201930-ug-chemistry.html>CHEMISTRY</A><BR>\\n<A HREF=201930-ug-coaching-and-ph.html>COACHING AND PHYSICAL EDUCATION</A><BR>\\n<A HREF=201930-ug-communication.html>COMMUNICATION</A><BR>\\n<A HREF=201930-ug-computer-inform.html>COMPUTER INFORMATION SYSTEMS</A><BR>\\n<A HREF=201930-ug-creative-studie.html>CREATIVE STUDIES</A><BR>\\n<A HREF=201930-ug-criminal-justic.html>CRIMINAL JUSTICE</A><BR>\\n<A HREF=201930-ug-earth-sciences-.html>EARTH SCIENCES AND SCIENCE EDUCATION</A><BR>\\n<A HREF=201930-ug-economics-and-f.html>ECONOMICS AND FINANCE</A><BR>\\n<A HREF=201930-ug-elementary-educ.html>ELEMENTARY EDUCATION AND READING</A><BR>\\n<A HREF=201930-ug-engineering-tec.html>ENGINEERING TECHNOLOGY</A><BR>\\n<A HREF=201930-ug-english.html>ENGLISH</A><BR>\\n<A HREF=201930-ug-exceptional-edu.html>EXCEPTIONAL EDUCATION</A><BR>\\n<A HREF=201930-ug-fashion-and-tex.html>FASHION AND TEXTILE TECHNOLOGY</A><BR>\\n<A HREF=201930-ug-geography-and-p.html>GEOGRAPHY AND PLANNING</A><BR>\\n<A HREF=201930-ug-health,-nutriti.html>HEALTH, NUTRITION, AND DIETETICS</A><BR>\\n<A HREF=201930-ug-history-and-soc.html>HISTORY AND SOCIAL STUDIES EDUCATION</A><BR>\\n<A HREF=201930-ug-honors.html>HONORS</A><BR>\\n<A HREF=201930-ug-hospitality-and.html>HOSPITALITY AND TOURISM</A><BR>\\n<A HREF=201930-ug-mathematics.html>MATHEMATICS</A><BR>\\n<A HREF=201930-ug-modern-and-clas.html>MODERN AND CLASSICAL LANGUAGES</A><BR>\\n<A HREF=201930-ug-museum-studies.html>MUSEUM STUDIES</A><BR>\\n<A HREF=201930-ug-music.html>MUSIC</A><BR>\\n<A HREF=201930-ug-national-studen.html>NATIONAL STUDENT EXCHANGE</A><BR>\\n<A HREF=201930-ug-philosophy-and-.html>PHILOSOPHY AND HUMANITIES</A><BR>\\n<A HREF=201930-ug-physics.html>PHYSICS</A><BR>\\n<A HREF=201930-ug-political-scien.html>POLITICAL SCIENCE</A><BR>\\n<A HREF=201930-ug-psychology.html>PSYCHOLOGY</A><BR>\\n<A HREF=201930-ug-public-administ.html>PUBLIC ADMINISTRATION</A><BR>\\n<A HREF=201930-ug-school-of-arts-.html>SCHOOL OF ARTS AND HUMANITIES</A><BR>\\n<A HREF=201930-ug-social-and-psyc.html>SOCIAL AND PSYCHOLOGICAL FOUNDATIONS OF EDUCATION</A><BR>\\n<A HREF=201930-ug-social-work.html>SOCIAL WORK</A><BR>\\n<A HREF=201930-ug-sociology.html>SOCIOLOGY</A><BR>\\n<A HREF=201930-ug-speech-language.html>SPEECH LANGUAGE PATHOLOGY</A><BR>\\n<A HREF=201930-ug-television-and-.html>TELEVISION AND FILM ARTS</A><BR>\\n<A HREF=201930-ug-theater.html>THEATER</A><BR>\\n<A HREF=201930-ug-women-and-gende.html>WOMEN AND GENDER STUDIES</A><BR>\\n\\n</DIV>\\n</BODY>\\n</HTML>'"
      ]
     },
     "execution_count": 40,
     "metadata": {},
     "output_type": "execute_result"
    }
   ],
   "source": [
    "page = requests.get('http://bscintra.buffalostate.edu/msched/201930-courses_ug.html')\n",
    "page.text"
   ]
  },
  {
   "cell_type": "code",
   "execution_count": null,
   "metadata": {},
   "outputs": [],
   "source": []
  }
 ],
 "metadata": {
  "kernelspec": {
   "display_name": "Python 3",
   "language": "python",
   "name": "python3"
  },
  "language_info": {
   "codemirror_mode": {
    "name": "ipython",
    "version": 3
   },
   "file_extension": ".py",
   "mimetype": "text/x-python",
   "name": "python",
   "nbconvert_exporter": "python",
   "pygments_lexer": "ipython3",
   "version": "3.7.3"
  }
 },
 "nbformat": 4,
 "nbformat_minor": 2
}
