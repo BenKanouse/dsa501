{
 "cells": [
  {
   "cell_type": "markdown",
   "metadata": {},
   "source": [
    "# <font color=red>  DSA 501 Summer 2019 \n",
    "    \n",
    "Week 4 Wednesday 8/7/2019\n",
    "    \n",
    "----\n",
    "----   "
   ]
  },
  {
   "cell_type": "markdown",
   "metadata": {},
   "source": [
    "# Table of contents\n",
    "* [**Introduction and instructions for Module 1**](#introduction)\n",
    "    * [**Example of a code cell and how long it takes to run it**](#codecell)\n",
    "    * [**Jupyter and Python hints**](#hints)\n",
    "    * [**Packages used in Python**](#packages)\n",
    "    * [**Information about conda vs pip**](#condapip)\n",
    "    * [**Examples of a system commands run from Jupyter**](#syscom)\n",
    "    * [**Things I keep forgetting**](#remember)\n",
    "\n",
    "----\n",
    "----"
   ]
  },
  {
   "cell_type": "markdown",
   "metadata": {},
   "source": [
    "## INTRODUCTION <a class=\"anchor\" id=\"introduction\"></a>\n",
    "\n",
    "This class will cover topics related to screen scraping in python. You will learn about:\n",
    "\n",
    "* HTML\n",
    "* CSS\n",
    "* JavaScript\n",
    "* LaTeX\n",
    "* BeautifulSoup (a python package)\n",
    "* Pandas read_html (a python library)\n",
    "\n",
    "This guide is written in a Jupyter notebook. Learning to use Jupyter notebooks is very useful for this class and in general ([Reference](https://qz.com/1417145/economics-nobel-laureate-paul-romer-is-a-python-programming-convert/)). <br>\n",
    "The cells where you write explanatory text (like this, not in the cell where you write you code) can be written in [Markdown](https://commonmark.org/), [HTML](https://www.w3schools.com/html/) or [LaTeX](https://tug.org). <br> \n",
    "\n",
    "**<center><font color='blue'>Instructions for all your work done today</center>**\n",
    "\n",
    "1. Include at least one timed computations for each of the remaining 3 modules (this is one module for today)\n",
    "2. Include a title and a content table in your notebook\n",
    "3. Include at least one HTML command, one $\\LaTeX$ command and one internal link in your notebook. Here is one more example: $\\frac{x^2+2x-1}{sin(x)}$. ([Reference](https://artofproblemsolving.com/wiki/index.php/LaTeX:Symbols))\n",
    "\n",
    "**<center><font color='blue'>Instructions for Module 1 today</center>**\n",
    "\n",
    "1. Examine this notebook so that you see how each of the features work.\n",
    "2. Include a section in this notebook on how to install html5lib\n",
    "3. Include a section on how to write tables in HTML ([Reference](https://www.w3schools.com/html/html_tables.asp)). Note that CSS does not work within a cell.\n",
    "4. Include a section in this notebook on how to update the cheatsheet mentioned in the class website references.\n",
    "5. Download and test \"Python cheat sheet maker\" from the class website References section. Start a new cheat sheet for Web scraping. (You will add commands to this cheat sheet in the next modules)."
   ]
  },
  {
   "cell_type": "markdown",
   "metadata": {},
   "source": [
    "### Example of a code cell and how long it takes to run it <a class=\"anchor\" id=\"codecell\"></a>"
   ]
  },
  {
   "cell_type": "code",
   "execution_count": 1,
   "metadata": {},
   "outputs": [
    {
     "name": "stdout",
     "output_type": "stream",
     "text": [
      "This computation took these many seconds: 0.2997770309448242\n"
     ]
    }
   ],
   "source": [
    "# This is a comment in a Code cell\n",
    "import time # here we import a package\n",
    "tic=time.time() # here we use the package to record the time BEFORE the loop\n",
    "for i in range(1000000): # this is the first line of the loop\n",
    "    somenonsense=i**2\n",
    "toc=time.time() #here we record the time AFTER the loop\n",
    "print(\"This computation took these many seconds:\", toc-tic) # print how long took to run the loop"
   ]
  },
  {
   "cell_type": "markdown",
   "metadata": {},
   "source": [
    "### Jupyter and Python hints <a class=\"anchor\" id=\"hints\"></a>\n",
    "\n",
    "1. Tab after a python object to see what you can do to it. For example try typing on a code cell \"Car\".<tab\\> Do you see how to check if the string is capitalized?\n",
    "2. Shift-return evaluates the cell and moves to to the next, while control-return evaluates the cell while staying in the same place./"
   ]
  },
  {
   "cell_type": "markdown",
   "metadata": {},
   "source": [
    "### Packages used in Python <a class=\"anchor\" id=\"packages\"></a>\n",
    "\n",
    "Knowing the version of packages is very useful<br>\n",
    "> conda info <br>\n",
    "> conda list --show-channel-urls\n",
    "\n",
    "Some packages do not work well with some versions of jupyter notebook. Using conda has worked for me dealing with intallations. Here is the website for conda.<br>\n",
    "> https://docs.conda.io/projects/conda/en/latest/user-guide/tasks/manage-pkgs.html\n",
    "\n",
    "Packages are in channels. Some times you may need to install the channel first, and then the package. This is the case for Altair.\n"
   ]
  },
  {
   "cell_type": "markdown",
   "metadata": {},
   "source": [
    "### Information about conda vs pip <a class=\"anchor\" id=\"condapip\"></a>\n",
    "\n",
    "http://jakevdp.github.io/blog/2016/08/25/conda-myths-and-misconceptions/"
   ]
  },
  {
   "cell_type": "markdown",
   "metadata": {},
   "source": [
    "### Installing Altair on jupyter notebooks\n",
    "\n",
    "Altair will need a slightly different installation depending on the IDE. Help can be found here:<br>\n",
    "https://altair-viz.github.io/getting_started/installation.html\n",
    "\n",
    "It is possible that you may need to install the conda-forge channel in order to install altair\n",
    "\n",
    "> conda config --append channels conda-forge\n",
    "\n",
    "Then you can proceed to install altair\n",
    ">conda install -c conda-forge vega_datasets notebook vega\n",
    "\n",
    "To run altair in jupyter notebooks run the following commands\n",
    "> import altair as alt<br>\n",
    "> alt.renderers.enable('notebook')"
   ]
  },
  {
   "cell_type": "markdown",
   "metadata": {},
   "source": [
    "### Examples of  system commands run from Jupyter <a class=\"anchor\" id=\"syscom\"></a>"
   ]
  },
  {
   "cell_type": "code",
   "execution_count": 1,
   "metadata": {},
   "outputs": [
    {
     "name": "stdout",
     "output_type": "stream",
     "text": [
      "20190615_093346.mp4                     \u001b[34mWeek_4\u001b[m\u001b[m/\r\n",
      "FizzBuzz.ipynb                          adding_features_to_dataframe-old.ipynb\r\n",
      "General_knowledge_notebook.ipynb        adding_features_to_dataframe.ipynb\r\n",
      "Images.ipynb                            \u001b[34mbabies\u001b[m\u001b[m/\r\n",
      "Matplotlib&Altair.ipynb                 foo.html\r\n",
      "\u001b[34mTartans-JR\u001b[m\u001b[m/                             golden_gate.png\r\n",
      "Tests.ipynb                             \u001b[34mjohn\u001b[m\u001b[m/\r\n",
      "\u001b[34mTurtle\u001b[m\u001b[m/                                 kiva_bargraph.py\r\n",
      "Untitled.ipynb                          \u001b[34mmyframes\u001b[m\u001b[m/\r\n",
      "Week1_ONLINE DSA501.ipynb               string_list.csv\r\n"
     ]
    }
   ],
   "source": [
    "ls # This command shows the files in the current directory"
   ]
  },
  {
   "cell_type": "code",
   "execution_count": 8,
   "metadata": {},
   "outputs": [
    {
     "data": {
      "text/plain": [
       "'/Users/carbonjo/Dropbox/BSC-teaching+/summer2019classes/DSA501/jc-Notebooks'"
      ]
     },
     "execution_count": 8,
     "metadata": {},
     "output_type": "execute_result"
    }
   ],
   "source": [
    "pwd # This command shows the path to the current directory"
   ]
  },
  {
   "cell_type": "markdown",
   "metadata": {},
   "source": [
    "### Things to remember <a class=\"anchor\" id=\"remember\"></a>"
   ]
  },
  {
   "cell_type": "markdown",
   "metadata": {},
   "source": [
    "To install opencv: conda install -c conda-forge opencv<br>\n",
    "To use opencv: import cv2"
   ]
  },
  {
   "cell_type": "markdown",
   "metadata": {},
   "source": [
    "## Install html5lib\n",
    "\n",
    "We can install the html5lib python package by running the `conda install html5lib` command.\n",
    "\n",
    "### Example of installing the package:\n",
    "``` text\n",
    "$ conda install html5lib\n",
    "Collecting package metadata (repodata.json): done\n",
    "Solving environment: done\n",
    "\n",
    "## Package Plan ##\n",
    "\n",
    "  environment location: /anaconda3\n",
    "\n",
    "  added / updated specs:\n",
    "    - html5lib\n",
    "\n",
    "\n",
    "The following NEW packages will be INSTALLED:\n",
    "\n",
    "  html5lib           pkgs/main/osx-64::html5lib-1.0.1-py37_0\n",
    "\n",
    "\n",
    "Proceed ([y]/n)? y\n",
    "\n",
    "Preparing transaction: done\n",
    "Verifying transaction: done\n",
    "Executing transaction: done\n",
    "```\n",
    "\n",
    "### Using the package:\n",
    "\n",
    "```python\n",
    "import html5lib\n",
    "document = html5lib.parse(\"<p>Hello World!\")\n",
    "print(document)\n",
    "    <Element '{http://www.w3.org/1999/xhtml}html' at 0x10a87f688>\n",
    "```"
   ]
  },
  {
   "cell_type": "markdown",
   "metadata": {},
   "source": [
    "## HTML example:\n",
    "\n",
    "<table>\n",
    "  <tr>\n",
    "    <th>Company</th>\n",
    "    <th>Contact</th>\n",
    "    <th>Country</th>\n",
    "  </tr>\n",
    "  <tr>\n",
    "    <td>Alfreds Futterkiste</td>\n",
    "    <td>Maria Anders</td>\n",
    "    <td>Germany</td>\n",
    "  </tr>\n",
    "  <tr>\n",
    "    <td>Centro comercial Moctezuma</td>\n",
    "    <td>Francisco Chang</td>\n",
    "    <td>Mexico</td>\n",
    "  </tr>\n",
    "  <tr>\n",
    "    <td>Ernst Handel</td>\n",
    "    <td>Roland Mendel</td>\n",
    "    <td>Austria</td>\n",
    "  </tr>\n",
    "  <tr>\n",
    "    <td>Island Trading</td>\n",
    "    <td>Helen Bennett</td>\n",
    "    <td>UK</td>\n",
    "  </tr>\n",
    "  <tr>\n",
    "    <td>Laughing Bacchus Winecellars</td>\n",
    "    <td>Yoshi Tannamuri</td>\n",
    "    <td>Canada</td>\n",
    "  </tr>\n",
    "  <tr>\n",
    "    <td>Magazzini Alimentari Riuniti</td>\n",
    "    <td>Giovanni Rovelli</td>\n",
    "    <td>Italy</td>\n",
    "  </tr>\n",
    "</table>"
   ]
  },
  {
   "cell_type": "code",
   "execution_count": null,
   "metadata": {},
   "outputs": [],
   "source": []
  }
 ],
 "metadata": {
  "kernelspec": {
   "display_name": "Python 3",
   "language": "python",
   "name": "python3"
  },
  "language_info": {
   "codemirror_mode": {
    "name": "ipython",
    "version": 3
   },
   "file_extension": ".py",
   "mimetype": "text/x-python",
   "name": "python",
   "nbconvert_exporter": "python",
   "pygments_lexer": "ipython3",
   "version": "3.7.3"
  }
 },
 "nbformat": 4,
 "nbformat_minor": 2
}
