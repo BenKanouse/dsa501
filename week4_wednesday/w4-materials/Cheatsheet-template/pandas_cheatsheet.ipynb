{
 "cells": [
  {
   "cell_type": "markdown",
   "metadata": {},
   "source": [
    "# Pandas Cheatsheet\n",
    "<small>CC BY-SA 2.5 Google Inc.</small>"
   ]
  },
  {
   "cell_type": "markdown",
   "metadata": {},
   "source": [
    "## Imports"
   ]
  },
  {
   "cell_type": "code",
   "execution_count": null,
   "metadata": {},
   "outputs": [],
   "source": [
    "import pandas as pd\n",
    "import altair as alt\n",
    "import datetime"
   ]
  },
  {
   "cell_type": "markdown",
   "metadata": {},
   "source": [
    "## Creating DataFrames"
   ]
  },
  {
   "cell_type": "code",
   "execution_count": null,
   "metadata": {},
   "outputs": [],
   "source": [
    "df1 = pd.read_csv(  # From file\n",
    "    'world_countries.csv') \n",
    "df2 = pd.DataFrame({  # From Python dict\n",
    "  'col0': [0, 1, 2],  'col1': [3, 4, 5], \n",
    "  'col2': ['ab', 'cd', 'ef'],\n",
    "  'col3': [datetime.datetime.now()] * 3})"
   ]
  },
  {
   "cell_type": "markdown",
   "metadata": {},
   "source": [
    "## Inspecting DataFrames"
   ]
  },
  {
   "cell_type": "code",
   "execution_count": null,
   "metadata": {},
   "outputs": [],
   "source": [
    "df1.head()     # First 5 rows\n",
    "df1.tail()     # Last 5 rows\n",
    "df1.columns    # Columns names\n",
    "len(df1)       # Number of rows\n",
    "df1.shape      # Number of rows and cols\n",
    "df1.describe() # Stats about each column\n",
    "df1.info()     # Summary info"
   ]
  },
  {
   "cell_type": "markdown",
   "metadata": {},
   "source": [
    "## Summarizing columns"
   ]
  },
  {
   "cell_type": "code",
   "execution_count": null,
   "metadata": {},
   "outputs": [],
   "source": [
    "# Rename a column\n",
    "df1 = df1.rename(\n",
    "  columns={'Population': 'Pop'})\n",
    "df1.Pop.sum()    # Sum of entries in column 'Pop'\n",
    "df1.Pop.mean()   # Average\n",
    "df1.Pop.std()    # Standard deviation\n",
    "df1.Pop.median() # Median\n",
    "df1.Pop.min()    # Minimum\n",
    "df1.Pop.max()    # Maximum"
   ]
  },
  {
   "cell_type": "markdown",
   "metadata": {},
   "source": [
    "## Filtering rows"
   ]
  },
  {
   "cell_type": "code",
   "execution_count": null,
   "metadata": {},
   "outputs": [],
   "source": [
    "df1[5:11]      # Select rows 5 through 10\n",
    "# Rows with Spain in the Country column\n",
    "df1[df1.Country == \"Spain\"] \n",
    "# Removing nulls\n",
    "df1 = df1[~df1.Pop.isnull()]\n",
    "# Convert strings to integers\n",
    "df1.ConSal = df1.Pop.astype('int64') \n",
    "# Booleans operators are &, | and ~\n",
    "df1[(df1.Pop > 100) & \n",
    "    ~(df1.Area.isnull())]"
   ]
  },
  {
   "cell_type": "markdown",
   "metadata": {},
   "source": [
    "## Column manipulations"
   ]
  },
  {
   "cell_type": "code",
   "execution_count": null,
   "metadata": {},
   "outputs": [],
   "source": [
    "# Arithmetic operations on columns\n",
    "df2['col0'] + df2['col1']      \n",
    "# Even if they're strings\n",
    "df2['col2'] + df2['col2']\n",
    "# Create new column from the result\n",
    "df2['col4'] = df2['col0'] / df2['col1']\n",
    "# String methods and attributes can be \n",
    "# accessed via .str.\n",
    "df2['col2'].str.replace('a', 'b') \n",
    "# And datetime methods and attributes\n",
    "# via .dt.\n",
    "df2.col3.dt.date\n",
    "# Select just some columns from DataFrame\n",
    "df1[['Country', 'Pop']]           "
   ]
  },
  {
   "cell_type": "markdown",
   "metadata": {},
   "source": [
    "## Dealing with missing values"
   ]
  },
  {
   "cell_type": "code",
   "execution_count": null,
   "metadata": {},
   "outputs": [],
   "source": [
    "# Drop rows with any missing values\n",
    "df1.dropna()        \n",
    "# Drop columns with any missing value\n",
    "df1.dropna(axis=1)  \n",
    "# Fill missing values with 0s \n",
    "df1.fillna(0)\n",
    "# Fill missing values with '' \n",
    "df1.fillna('')"
   ]
  },
  {
   "cell_type": "markdown",
   "metadata": {},
   "source": [
    "## Grouping"
   ]
  },
  {
   "cell_type": "code",
   "execution_count": null,
   "metadata": {},
   "outputs": [],
   "source": [
    "# Get the average salary for each country\n",
    "df1.groupby('Country').agg(\n",
    "    {'Pop': 'mean'})\n",
    "# Get the average and minimum salary\n",
    "df1.groupby('Country').agg(\n",
    "    {'Pop': ['mean', 'min']})\n",
    "# Keep grouping column as a column\n",
    "df1.groupby(\n",
    "    'Country', as_index=False).agg(\n",
    "    {'Pop': ['mean', 'min']})"
   ]
  },
  {
   "cell_type": "markdown",
   "metadata": {},
   "source": [
    "## Miscellaneous"
   ]
  },
  {
   "cell_type": "code",
   "execution_count": null,
   "metadata": {},
   "outputs": [],
   "source": [
    "# Reorder from top salary to lowest\n",
    "df1.sort_values('Pop', \n",
    "                ascending=False)  \n",
    "# Remove a column\n",
    "df1.drop(columns='Phones')   \n",
    "# Randomly select a sample of 45 rows\n",
    "df1 = df1.sample(45)            "
   ]
  },
  {
   "cell_type": "markdown",
   "metadata": {},
   "source": [
    "## Merging"
   ]
  },
  {
   "cell_type": "code",
   "execution_count": null,
   "metadata": {},
   "outputs": [],
   "source": [
    "df3 = pd.DataFrame(\n",
    "    {'col5': ['ab', 'cd', 'ef'],\n",
    "     'col6': [100, 200, 300]})\n",
    "# Create a new DataFrame matching col2\n",
    "# of df2 and col5 of df3.\n",
    "df2.merge(df3, left_on='col2', \n",
    "          right_on='col5')"
   ]
  },
  {
   "cell_type": "markdown",
   "metadata": {},
   "source": [
    "## Graphing"
   ]
  },
  {
   "cell_type": "code",
   "execution_count": null,
   "metadata": {},
   "outputs": [],
   "source": [
    "alt.Chart(df1).mark_point().encode(\n",
    "  x='Country', y='Area', size='Pop',\n",
    "  color='Birthrate')"
   ]
  },
  {
   "cell_type": "code",
   "execution_count": null,
   "metadata": {},
   "outputs": [],
   "source": []
  }
 ],
 "metadata": {
  "kernelspec": {
   "display_name": "Python 3",
   "language": "python",
   "name": "python3"
  },
  "language_info": {
   "codemirror_mode": {
    "name": "ipython",
    "version": 3
   },
   "file_extension": ".py",
   "mimetype": "text/x-python",
   "name": "python",
   "nbconvert_exporter": "python",
   "pygments_lexer": "ipython3",
   "version": "3.7.3"
  }
 },
 "nbformat": 4,
 "nbformat_minor": 2
}
