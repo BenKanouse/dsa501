{
 "cells": [
  {
   "cell_type": "code",
   "execution_count": 1,
   "metadata": {},
   "outputs": [
    {
     "data": {
      "text/plain": [
       "DataTransformerRegistry.enable('json')"
      ]
     },
     "execution_count": 1,
     "metadata": {},
     "output_type": "execute_result"
    }
   ],
   "source": [
    "%matplotlib inline\n",
    "\n",
    "import pandas as pd\n",
    "import matplotlib\n",
    "import matplotlib.pyplot as plt\n",
    "import numpy as np\n",
    "import seaborn as sbn\n",
    "import altair as alt\n",
    "import requests\n",
    "matplotlib.style.use('ggplot')\n",
    "sbn.set_style(\"whitegrid\")\n",
    "import json\n",
    "import pickle\n",
    "import scipy\n",
    "alt.data_transformers.enable('json')\n"
   ]
  },
  {
   "cell_type": "code",
   "execution_count": 2,
   "metadata": {},
   "outputs": [],
   "source": [
    "aisles = pd.read_csv('instacart_2017_05_01/aisles.csv')"
   ]
  },
  {
   "cell_type": "code",
   "execution_count": 3,
   "metadata": {},
   "outputs": [],
   "source": [
    "departments = pd.read_csv('instacart_2017_05_01/departments.csv')"
   ]
  },
  {
   "cell_type": "code",
   "execution_count": 4,
   "metadata": {},
   "outputs": [],
   "source": [
    "order_products = pd.read_csv('instacart_2017_05_01/order_products__prior.csv')"
   ]
  },
  {
   "cell_type": "code",
   "execution_count": 5,
   "metadata": {},
   "outputs": [],
   "source": [
    "orders = pd.read_csv('instacart_2017_05_01/orders.csv')"
   ]
  },
  {
   "cell_type": "code",
   "execution_count": 6,
   "metadata": {},
   "outputs": [],
   "source": [
    "products = pd.read_csv('instacart_2017_05_01/products.csv')"
   ]
  },
  {
   "cell_type": "code",
   "execution_count": 8,
   "metadata": {},
   "outputs": [
    {
     "name": "stdout",
     "output_type": "stream",
     "text": [
      "There are 3421083 unique orders.\n"
     ]
    }
   ],
   "source": [
    "# How many unique orders do we have?\n",
    "unique_order_count = len(set(orders['order_id']))\n",
    "print(f'There are {unique_order_count} unique orders.')"
   ]
  },
  {
   "cell_type": "code",
   "execution_count": 12,
   "metadata": {},
   "outputs": [
    {
     "name": "stdout",
     "output_type": "stream",
     "text": [
      "The most popular first item to add to the cart is Bananas\n",
      "The most popular first item to add to the cart on Sunday is Bananas\n",
      "The most popular first item to add to the cart on Monday is Bananas\n",
      "The most popular first item to add to the cart on Tuesday is Bananas\n",
      "The most popular first item to add to the cart on Wednesday is Bananas\n",
      "The most popular first item to add to the cart on Thursday is Bananas\n",
      "The most popular first item to add to the cart on Friday is Bananas\n",
      "The most popular first item to add to the cart on Saturday is Bananas\n"
     ]
    }
   ],
   "source": [
    "# what is the most popular first item to add to the cart? Does that change by day of the week?\n",
    "\n",
    "first_products = order_products[order_products['add_to_cart_order'] == 1]\n",
    "first_products_group = first_products.groupby('product_id').agg(\"count\")\n",
    "most_ordered_product_id = first_products_group.idxmax()['order_id']\n",
    "popular_item = products[products['product_id'] == most_ordered_product_id]['product_name'].iloc[0]\n",
    "\n",
    "print(f'The most popular first item to add to the cart is {popular_item}s')\n",
    "\n",
    "popular_first_prod_merged = pd.merge(first_products, orders, on='order_id')\n",
    "\n",
    "days = {0: \"Sunday\", 1: \"Monday\", 2: \"Tuesday\", 3: \"Wednesday\", 4: \"Thursday\", 5: \"Friday\", 6: \"Saturday\"}\n",
    "\n",
    "grouped_products = popular_first_prod_merged.groupby(['order_dow', 'product_id']).agg(\"count\")\n",
    "\n",
    "for day_id, day_name in days.items():\n",
    "    most_ordered_product_id = grouped_products.loc[day_id].idxmax()['order_id']\n",
    "    popular_item = products[products['product_id'] == most_ordered_product_id]['product_name'].iloc[0]\n",
    "    print(f'The most popular first item to add to the cart on {day_name} is {popular_item}s')\n"
   ]
  },
  {
   "cell_type": "code",
   "execution_count": 13,
   "metadata": {},
   "outputs": [
    {
     "name": "stdout",
     "output_type": "stream",
     "text": [
      "The second popular first item to add to the cart is Bananas\n"
     ]
    }
   ],
   "source": [
    "# what is the most popular second item?\n",
    "second_products = order_products[order_products['add_to_cart_order'] == 2]\n",
    "second_products_group = second_products.groupby('product_id').agg(\"count\")\n",
    "second_most_ordered_product_id = second_products_group.idxmax()['order_id']\n",
    "popular_item = products[products['product_id'] == second_most_ordered_product_id]['product_name'].iloc[0]\n",
    "\n",
    "print(f'The second popular first item to add to the cart is {popular_item}s')"
   ]
  },
  {
   "cell_type": "code",
   "execution_count": 28,
   "metadata": {},
   "outputs": [
    {
     "name": "stdout",
     "output_type": "stream",
     "text": [
      "The most populare aisle that users most frequently shop first is fresh fruits.\n"
     ]
    }
   ],
   "source": [
    "# What department or aisle do users most frequently shop first?\n",
    "\n",
    "popular_aisle = pd.merge(products[products['product_id'] == most_ordered_product_id], aisles, on=\"aisle_id\")['aisle'].iloc[0]\n",
    "\n",
    "print(f'The most populare aisle that users most frequently shop first is {popular_aisle}.')"
   ]
  },
  {
   "cell_type": "code",
   "execution_count": null,
   "metadata": {},
   "outputs": [],
   "source": [
    "\n",
    "\n"
   ]
  },
  {
   "cell_type": "code",
   "execution_count": null,
   "metadata": {},
   "outputs": [],
   "source": []
  },
  {
   "cell_type": "code",
   "execution_count": null,
   "metadata": {},
   "outputs": [],
   "source": []
  },
  {
   "cell_type": "code",
   "execution_count": null,
   "metadata": {},
   "outputs": [],
   "source": []
  }
 ],
 "metadata": {
  "kernelspec": {
   "display_name": "Python 3",
   "language": "python",
   "name": "python3"
  },
  "language_info": {
   "codemirror_mode": {
    "name": "ipython",
    "version": 3
   },
   "file_extension": ".py",
   "mimetype": "text/x-python",
   "name": "python",
   "nbconvert_exporter": "python",
   "pygments_lexer": "ipython3",
   "version": "3.7.3"
  }
 },
 "nbformat": 4,
 "nbformat_minor": 2
}
