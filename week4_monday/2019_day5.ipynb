{
 "cells": [
  {
   "cell_type": "markdown",
   "metadata": {},
   "source": [
    "# SPARCS Data\n",
    "\n",
    "http://blue.math.buffalo.edu/448/SPARCS_2016.zip\n",
    "\n",
    "http://blue.math.buffalo.edu/448/histogram1d.py\n",
    "\n",
    "Some imports:\n",
    "\n",
    "    import pandas as pd\n",
    "    import glob\n",
    "    import altair as alt\n",
    "    alt.renderers.enable('notebook')\n",
    "    from histogram1d import histogram1d\n",
    "    from colorny import colorny\n",
    "    from IPython.display import SVG\n",
    "    \n",
    "Code from last time:\n",
    "\n",
    "    path = 'names/'\n",
    "    files = sorted( glob.glob(path+'yob*.txt'))\n",
    "    dfs = []\n",
    "    for file in files:\n",
    "        year = int( file.split('yob')[1][:4] )\n",
    "        df = pd.read_csv(file,header=None,names=['names','gender','count'])\n",
    "        df['year'] = year\n",
    "        dfs.append(df)\n",
    "    all = pd.concat(dfs,ignore_index=True)\n",
    "    all['lastletter'] = all['names'].map(lambda x: x[-1])\n",
    "    display(all.head())\n",
    "    display(all.tail())\n",
    "    fcounts = all[ all['gender']=='F' ].groupby('lastletter')['count'].agg(sum).to_frame()\n",
    "    mcounts = all[ all['gender']=='M' ].groupby('lastletter')['count'].agg(sum).to_frame()\n",
    "    display(fcounts.head())\n",
    "    display(mcounts.head())\n",
    "    fm = (fcounts/mcounts).rename({'count':'F/M'},axis=1)\n",
    "    display(fm.reset_index())\n",
    "    alt.Chart(fm.reset_index()).mark_bar().encode(x='lastletter',y='F/M')"
   ]
  },
  {
   "cell_type": "markdown",
   "metadata": {},
   "source": [
    "## Concepts\n",
    "\n",
    "- logarithmic scaling\n",
    "- inverse scaling\n",
    "- median vs mean\n",
    "- histogram bin size"
   ]
  },
  {
   "cell_type": "markdown",
   "metadata": {},
   "source": [
    "## Tasks\n",
    "\n",
    "- load SPARCS data into pandas dataframe\n",
    "- make histograms of charges\n",
    "- make histograms of uniform random data\n",
    "- make histograms of charges for a specific procedure at one institution\n"
   ]
  },
  {
   "cell_type": "markdown",
   "metadata": {},
   "source": [
    "## Questions\n",
    "\n",
    "- What fraction of New Yorkers visited the hospital in one year?\n",
    "- What is the average New Yorker charged annually for inpatient hospital stays?\n",
    "- What was the highest bill, and what were the particulars of that case?\n",
    "- What were the mean and median charges? What does it mean that they are so different? \n",
    "- Can we look at the actual distribution of charges?\n",
    "- What is the best bin size for a histogram? What happens if chosen too large or too small?\n",
    "\n",
    "- What is the most common reason for an inpatient hospital stay?\n",
    "\n",
    "- How many of each kind of Patient Disposition on discharge were there? What fraction of inpatients died in hospital?\n",
    "- What are people diagnosed with? How many with each 'CCS Diagnosis Description'? What about just those cancer? \n",
    "\n"
   ]
  },
  {
   "cell_type": "markdown",
   "metadata": {},
   "source": [
    "## Movie Reviews\n",
    "\n",
    "- reviewer: https://docs.google.com/spreadsheets/d/1k4YOFuixGHAXfVDTZkxzo34B-HybeJC2aKUIew7nIkQ/edit?usp=sharing\n",
    "- movie: https://docs.google.com/spreadsheets/d/1hKDIdwSArkrBMQxhKVw_gfTEtNzzgjJbjSrlzRHdn4U/edit?usp=sharing\n",
    "- rating: https://docs.google.com/spreadsheets/d/1o_rNjcVBuqwDmSICDwdgUO65lc5aLtz5D0QZEQWcCCQ/edit?usp=sharing\n"
   ]
  },
  {
   "cell_type": "markdown",
   "metadata": {},
   "source": [
    "## Milestones for today\n",
    "\n",
    "- logarithmic plot of widely disparate quantities\n",
    "- logarithmic version of gender-dominance of last letters\n",
    "- histogram of charges, linear and logarithmic\n",
    "- finescale histogram of Maimonides\n",
    "- make a choropleth map of some aspect of the SPARCS data by county\n",
    "- get at least one movie review on the board"
   ]
  },
  {
   "cell_type": "markdown",
   "metadata": {},
   "source": [
    "Hold baby: $40\n",
    "\n",
    "<img align=left src=http://blue.math.buffalo.edu/448/hold_baby_40_dollars.png>"
   ]
  },
  {
   "cell_type": "code",
   "execution_count": null,
   "metadata": {},
   "outputs": [],
   "source": []
  }
 ],
 "metadata": {
  "kernelspec": {
   "display_name": "Python 3",
   "language": "python",
   "name": "python3"
  },
  "language_info": {
   "codemirror_mode": {
    "name": "ipython",
    "version": 3
   },
   "file_extension": ".py",
   "mimetype": "text/x-python",
   "name": "python",
   "nbconvert_exporter": "python",
   "pygments_lexer": "ipython3",
   "version": "3.6.8"
  }
 },
 "nbformat": 4,
 "nbformat_minor": 2
}
