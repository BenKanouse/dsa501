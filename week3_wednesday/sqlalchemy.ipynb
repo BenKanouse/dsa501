{
 "cells": [
  {
   "cell_type": "code",
   "execution_count": 14,
   "metadata": {},
   "outputs": [],
   "source": [
    "import sqlalchemy as db\n",
    "\n",
    "engine = db.create_engine('postgresql://Ben@localhost/random_test')\n",
    "connection = engine.connect()\n",
    "metadata = db.MetaData()\n",
    "foos = db.Table('foos', metadata, autoload=True, autoload_with=engine)\n",
    "bars = db.Table('bars', metadata, autoload=True, autoload_with=engine)"
   ]
  },
  {
   "cell_type": "code",
   "execution_count": 8,
   "metadata": {},
   "outputs": [
    {
     "data": {
      "text/plain": [
       "[(1, 'f-y, s-y'),\n",
       " (2, 'f-y, s-no'),\n",
       " (3, 'f-y, s-nil'),\n",
       " (4, 'f-n, s-y'),\n",
       " (5, 'f-n, s-no'),\n",
       " (6, 'f-n, s-nil'),\n",
       " (7, 'f-nil, s-y'),\n",
       " (8, 'f-nil, sno'),\n",
       " (9, 'f-nil,snil')]"
      ]
     },
     "execution_count": 8,
     "metadata": {},
     "output_type": "execute_result"
    }
   ],
   "source": [
    "query = db.select([foos])\n",
    "connection.execute(query).fetchall()\n"
   ]
  },
  {
   "cell_type": "code",
   "execution_count": 12,
   "metadata": {},
   "outputs": [
    {
     "data": {
      "text/plain": [
       "[(1, 'f-y, s-y')]"
      ]
     },
     "execution_count": 12,
     "metadata": {},
     "output_type": "execute_result"
    }
   ],
   "source": [
    "connection.execute(query.where(foos.columns.id == 1)).fetchall()"
   ]
  },
  {
   "cell_type": "code",
   "execution_count": 15,
   "metadata": {},
   "outputs": [
    {
     "data": {
      "text/plain": [
       "[('f-y, s-y', 'yes'),\n",
       " ('f-y, s-y', 'yes'),\n",
       " ('f-y, s-y', 'yes'),\n",
       " ('f-y, s-y', 'no'),\n",
       " ('f-y, s-y', 'yes'),\n",
       " ('f-y, s-y', None),\n",
       " ('f-y, s-y', 'no'),\n",
       " ('f-y, s-y', 'yes'),\n",
       " ('f-y, s-y', 'no'),\n",
       " ('f-y, s-y', 'no'),\n",
       " ('f-y, s-y', 'no'),\n",
       " ('f-y, s-y', None),\n",
       " ('f-y, s-y', None),\n",
       " ('f-y, s-y', 'yes'),\n",
       " ('f-y, s-y', None),\n",
       " ('f-y, s-y', None),\n",
       " ('f-y, s-y', None),\n",
       " ('f-y, s-y', 'no'),\n",
       " ('f-y, s-no', 'yes'),\n",
       " ('f-y, s-no', 'yes'),\n",
       " ('f-y, s-no', 'yes'),\n",
       " ('f-y, s-no', 'no'),\n",
       " ('f-y, s-no', 'yes'),\n",
       " ('f-y, s-no', None),\n",
       " ('f-y, s-no', 'no'),\n",
       " ('f-y, s-no', 'yes'),\n",
       " ('f-y, s-no', 'no'),\n",
       " ('f-y, s-no', 'no'),\n",
       " ('f-y, s-no', 'no'),\n",
       " ('f-y, s-no', None),\n",
       " ('f-y, s-no', None),\n",
       " ('f-y, s-no', 'yes'),\n",
       " ('f-y, s-no', None),\n",
       " ('f-y, s-no', None),\n",
       " ('f-y, s-no', None),\n",
       " ('f-y, s-no', 'no'),\n",
       " ('f-y, s-nil', 'yes'),\n",
       " ('f-y, s-nil', 'yes'),\n",
       " ('f-y, s-nil', 'yes'),\n",
       " ('f-y, s-nil', 'no'),\n",
       " ('f-y, s-nil', 'yes'),\n",
       " ('f-y, s-nil', None),\n",
       " ('f-y, s-nil', 'no'),\n",
       " ('f-y, s-nil', 'yes'),\n",
       " ('f-y, s-nil', 'no'),\n",
       " ('f-y, s-nil', 'no'),\n",
       " ('f-y, s-nil', 'no'),\n",
       " ('f-y, s-nil', None),\n",
       " ('f-y, s-nil', None),\n",
       " ('f-y, s-nil', 'yes'),\n",
       " ('f-y, s-nil', None),\n",
       " ('f-y, s-nil', None),\n",
       " ('f-y, s-nil', None),\n",
       " ('f-y, s-nil', 'no'),\n",
       " ('f-n, s-y', 'yes'),\n",
       " ('f-n, s-y', 'yes'),\n",
       " ('f-n, s-y', 'yes'),\n",
       " ('f-n, s-y', 'no'),\n",
       " ('f-n, s-y', 'yes'),\n",
       " ('f-n, s-y', None),\n",
       " ('f-n, s-y', 'no'),\n",
       " ('f-n, s-y', 'yes'),\n",
       " ('f-n, s-y', 'no'),\n",
       " ('f-n, s-y', 'no'),\n",
       " ('f-n, s-y', 'no'),\n",
       " ('f-n, s-y', None),\n",
       " ('f-n, s-y', None),\n",
       " ('f-n, s-y', 'yes'),\n",
       " ('f-n, s-y', None),\n",
       " ('f-n, s-y', None),\n",
       " ('f-n, s-y', None),\n",
       " ('f-n, s-y', 'no'),\n",
       " ('f-n, s-no', 'yes'),\n",
       " ('f-n, s-no', 'yes'),\n",
       " ('f-n, s-no', 'yes'),\n",
       " ('f-n, s-no', 'no'),\n",
       " ('f-n, s-no', 'yes'),\n",
       " ('f-n, s-no', None),\n",
       " ('f-n, s-no', 'no'),\n",
       " ('f-n, s-no', 'yes'),\n",
       " ('f-n, s-no', 'no'),\n",
       " ('f-n, s-no', 'no'),\n",
       " ('f-n, s-no', 'no'),\n",
       " ('f-n, s-no', None),\n",
       " ('f-n, s-no', None),\n",
       " ('f-n, s-no', 'yes'),\n",
       " ('f-n, s-no', None),\n",
       " ('f-n, s-no', None),\n",
       " ('f-n, s-no', None),\n",
       " ('f-n, s-no', 'no'),\n",
       " ('f-n, s-nil', 'yes'),\n",
       " ('f-n, s-nil', 'yes'),\n",
       " ('f-n, s-nil', 'yes'),\n",
       " ('f-n, s-nil', 'no'),\n",
       " ('f-n, s-nil', 'yes'),\n",
       " ('f-n, s-nil', None),\n",
       " ('f-n, s-nil', 'no'),\n",
       " ('f-n, s-nil', 'yes'),\n",
       " ('f-n, s-nil', 'no'),\n",
       " ('f-n, s-nil', 'no'),\n",
       " ('f-n, s-nil', 'no'),\n",
       " ('f-n, s-nil', None),\n",
       " ('f-n, s-nil', None),\n",
       " ('f-n, s-nil', 'yes'),\n",
       " ('f-n, s-nil', None),\n",
       " ('f-n, s-nil', None),\n",
       " ('f-n, s-nil', None),\n",
       " ('f-n, s-nil', 'no'),\n",
       " ('f-nil, s-y', 'yes'),\n",
       " ('f-nil, s-y', 'yes'),\n",
       " ('f-nil, s-y', 'yes'),\n",
       " ('f-nil, s-y', 'no'),\n",
       " ('f-nil, s-y', 'yes'),\n",
       " ('f-nil, s-y', None),\n",
       " ('f-nil, s-y', 'no'),\n",
       " ('f-nil, s-y', 'yes'),\n",
       " ('f-nil, s-y', 'no'),\n",
       " ('f-nil, s-y', 'no'),\n",
       " ('f-nil, s-y', 'no'),\n",
       " ('f-nil, s-y', None),\n",
       " ('f-nil, s-y', None),\n",
       " ('f-nil, s-y', 'yes'),\n",
       " ('f-nil, s-y', None),\n",
       " ('f-nil, s-y', None),\n",
       " ('f-nil, s-y', None),\n",
       " ('f-nil, s-y', 'no'),\n",
       " ('f-nil, sno', 'yes'),\n",
       " ('f-nil, sno', 'yes'),\n",
       " ('f-nil, sno', 'yes'),\n",
       " ('f-nil, sno', 'no'),\n",
       " ('f-nil, sno', 'yes'),\n",
       " ('f-nil, sno', None),\n",
       " ('f-nil, sno', 'no'),\n",
       " ('f-nil, sno', 'yes'),\n",
       " ('f-nil, sno', 'no'),\n",
       " ('f-nil, sno', 'no'),\n",
       " ('f-nil, sno', 'no'),\n",
       " ('f-nil, sno', None),\n",
       " ('f-nil, sno', None),\n",
       " ('f-nil, sno', 'yes'),\n",
       " ('f-nil, sno', None),\n",
       " ('f-nil, sno', None),\n",
       " ('f-nil, sno', None),\n",
       " ('f-nil, sno', 'no'),\n",
       " ('f-nil,snil', 'yes'),\n",
       " ('f-nil,snil', 'yes'),\n",
       " ('f-nil,snil', 'yes'),\n",
       " ('f-nil,snil', 'no'),\n",
       " ('f-nil,snil', 'yes'),\n",
       " ('f-nil,snil', None),\n",
       " ('f-nil,snil', 'no'),\n",
       " ('f-nil,snil', 'yes'),\n",
       " ('f-nil,snil', 'no'),\n",
       " ('f-nil,snil', 'no'),\n",
       " ('f-nil,snil', 'no'),\n",
       " ('f-nil,snil', None),\n",
       " ('f-nil,snil', None),\n",
       " ('f-nil,snil', 'yes'),\n",
       " ('f-nil,snil', None),\n",
       " ('f-nil,snil', None),\n",
       " ('f-nil,snil', None),\n",
       " ('f-nil,snil', 'no')]"
      ]
     },
     "execution_count": 15,
     "metadata": {},
     "output_type": "execute_result"
    }
   ],
   "source": [
    "query = db.select([foos.columns.name, bars.columns.name])\n",
    "connection.execute(query).fetchall()\n"
   ]
  },
  {
   "cell_type": "code",
   "execution_count": null,
   "metadata": {},
   "outputs": [],
   "source": []
  }
 ],
 "metadata": {
  "kernelspec": {
   "display_name": "Python 3",
   "language": "python",
   "name": "python3"
  },
  "language_info": {
   "codemirror_mode": {
    "name": "ipython",
    "version": 3
   },
   "file_extension": ".py",
   "mimetype": "text/x-python",
   "name": "python",
   "nbconvert_exporter": "python",
   "pygments_lexer": "ipython3",
   "version": "3.7.3"
  }
 },
 "nbformat": 4,
 "nbformat_minor": 2
}
