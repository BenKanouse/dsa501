{
 "cells": [
  {
   "cell_type": "markdown",
   "metadata": {},
   "source": [
    "\n",
    "\n",
    "# Day 4: visual exploratory analysis of first names in the USA, 1880-present\n",
    "<img align=left src=http://blue.math.buffalo.edu/448/names_on_a_board.jpg>\n"
   ]
  },
  {
   "cell_type": "markdown",
   "metadata": {},
   "source": [
    "https://www.ssa.gov/oact/babynames/names.zip"
   ]
  },
  {
   "cell_type": "markdown",
   "metadata": {
    "slideshow": {
     "slide_type": "slide"
    }
   },
   "source": [
    "# conceptual aspects of visualization\n",
    "\n",
    "- scaling things out: ratios and shifts\n",
    "\n",
    "- distinguishing very small from small: logarithmic scales\n",
    "\n",
    "- how many curves in a plot?: just a few, or very very many\n",
    "\n",
    "\n",
    "# *pandas* features introduced\n",
    "\n",
    "- concat\n",
    "- groupby, get_group\n",
    "- merge (join)\n",
    "\n",
    "# \"declarative\" visualization with *altair*\n",
    "\n",
    "- Chart\n",
    "- marks\n",
    "- encode\n",
    "- properties"
   ]
  },
  {
   "cell_type": "markdown",
   "metadata": {},
   "source": [
    "### Altair setup"
   ]
  },
  {
   "cell_type": "code",
   "execution_count": 19,
   "metadata": {},
   "outputs": [],
   "source": [
    "import altair as alt\n",
    "alt.renderers.enable('notebook');\n",
    "#alt.data_transformers.enable('json')  # writes data to file instead of embedding in notebook (only needed for big data)"
   ]
  },
  {
   "cell_type": "markdown",
   "metadata": {},
   "source": [
    "# today's milestones\n",
    "\n",
    "- all the data into a single table\n",
    "- understand *groupby* and plot own name's frequency over the years\n",
    "- name influenced by events example\n",
    "- yearly totals, merge, scaled frequency\n",
    "- number of names in use, with logarithmic scale\n",
    "- gender-dominance of names - the big picture"
   ]
  }
 ],
 "metadata": {
  "kernelspec": {
   "display_name": "Python 3",
   "language": "python",
   "name": "python3"
  },
  "language_info": {
   "codemirror_mode": {
    "name": "ipython",
    "version": 3
   },
   "file_extension": ".py",
   "mimetype": "text/x-python",
   "name": "python",
   "nbconvert_exporter": "python",
   "pygments_lexer": "ipython3",
   "version": "3.7.3"
  }
 },
 "nbformat": 4,
 "nbformat_minor": 2
}
