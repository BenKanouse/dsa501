{
 "cells": [
  {
   "cell_type": "markdown",
   "metadata": {
    "colab_type": "text",
    "id": "gogbml1J_US6"
   },
   "source": [
    "## About Data: \n",
    "Fuel Economy Data This information is provided by the U.S. Environmental Protection Agency, OFFICE of\n",
    "ENERGY EFFICIENCY & RENEWABLE ENERGY \n",
    "https://www.fueleconomy.gov/feg/download.shtml\n",
    "\n",
    "\n",
    "\n",
    "a. What is the unit of measure for engine displacement?\n",
    "   Liters<br> \n",
    "b. Match the meaning for each feature.\n",
    "   * Stnd : Vehicle emissions standard code \n",
    "   * Cyl : Number of Cylinders in the engine \n",
    "   * Trans : Transmission Type \n",
    "   * Drv : Drive Axle Type "
   ]
  },
  {
   "cell_type": "markdown",
   "metadata": {
    "colab_type": "text",
    "id": "RWnivr1b_US8"
   },
   "source": [
    "## Skills and packages needed for this activity\n",
    "\n",
    "* functions used: read_excel(),  isnull(),  columns(), rename(), all(), drop(), convert_numeric(), split(), apply(), append(), index(), copy(), value_counts(), astype(), head(), str.extract(), str.contains()\n",
    "groupby(), merge(), nunique(), mean(), contains(), isnull(), sum(), duplicated(), value_counts(), dropna() \n",
    "* parameters used: axis = 1, inplace = True\n",
    "* attributes used: shape, dtypes,\n",
    "* general skills: chaining, column selection with loc and iloc, broadcasting, chaining, boolean mask, regular expression, lambda function\n",
    "* packages: pandas, numpy, altair\n"
   ]
  },
  {
   "cell_type": "markdown",
   "metadata": {
    "colab_type": "text",
    "id": "mfj6izLuLm3P"
   },
   "source": [
    "### Questions\n",
    "1. For all of the models that were produced in 2008 that are still being produced now, how much has the mpg improved?\n",
    "2. Which vehicle improved the most? \n"
   ]
  },
  {
   "cell_type": "markdown",
   "metadata": {
    "colab_type": "text",
    "id": "Vmr2XStW_US9"
   },
   "source": [
    "### First we have to clean the data."
   ]
  },
  {
   "cell_type": "markdown",
   "metadata": {
    "colab_type": "text",
    "id": "JVaTHJ5i_US-"
   },
   "source": [
    "### 2: Import and clean data  \n",
    "##### Import the packages and load data"
   ]
  },
  {
   "cell_type": "code",
   "execution_count": 0,
   "metadata": {
    "colab": {},
    "colab_type": "code",
    "id": "aHaGCQy7_US-"
   },
   "outputs": [],
   "source": [
    "import pandas as pd\n",
    "import numpy as np\n",
    "\n",
    "df_08 = pd.read_csv('file_08.csv')\n",
    "df_08 = pd.read_csv('file_08.csv')\n",
    "#df_08=pd.read_excel('https://www.fueleconomy.gov/feg/EPAGreenGuide/xls/all_alpha_08.xls')\n",
    "#df_18=pd.read_excel('https://www.fueleconomy.gov/feg/EPAGreenGuide/xls/all_alpha_18.xlsx')"
   ]
  },
  {
   "cell_type": "markdown",
   "metadata": {
    "colab_type": "text",
    "id": "jDY1JLwx_UTK"
   },
   "source": [
    "##### Print the shape and the heads of both dataframes"
   ]
  },
  {
   "cell_type": "code",
   "execution_count": 0,
   "metadata": {
    "colab": {},
    "colab_type": "code",
    "id": "ydUIZcw7_UTL"
   },
   "outputs": [],
   "source": [
    "#2008\n",
    "# your work here\n"
   ]
  },
  {
   "cell_type": "code",
   "execution_count": 0,
   "metadata": {
    "colab": {},
    "colab_type": "code",
    "id": "lk2xKHve_UTP"
   },
   "outputs": [],
   "source": [
    "#2018\n",
    "# your work here\n"
   ]
  },
  {
   "cell_type": "markdown",
   "metadata": {
    "colab_type": "text",
    "id": "Ny-LoLan_UTV"
   },
   "source": [
    "##### print column labels"
   ]
  },
  {
   "cell_type": "code",
   "execution_count": 0,
   "metadata": {
    "colab": {},
    "colab_type": "code",
    "id": "I2prcDvuEHxc"
   },
   "outputs": [],
   "source": [
    "\n",
    "\n",
    "# your work here\n"
   ]
  },
  {
   "cell_type": "markdown",
   "metadata": {
    "colab_type": "text",
    "id": "QPVEccYuFoeH"
   },
   "source": [
    "##### Consider which rows you want to use."
   ]
  },
  {
   "cell_type": "code",
   "execution_count": 0,
   "metadata": {
    "colab": {},
    "colab_type": "code",
    "id": "CHPQkxfBFgBY"
   },
   "outputs": [],
   "source": [
    "df_18=df_18[df_18['Cert Region']==\"CA\"]\n",
    "df_08=df_08[df_08['Sales Area']==\"CA\"]"
   ]
  },
  {
   "cell_type": "markdown",
   "metadata": {
    "colab_type": "text",
    "id": "neofjOwk_UTb"
   },
   "source": [
    "\n",
    "##### Take out features that are not present in both datasets or aren't relevant to our questions. \n"
   ]
  },
  {
   "cell_type": "code",
   "execution_count": 0,
   "metadata": {
    "colab": {},
    "colab_type": "code",
    "id": "I2ZV8XA65wpu"
   },
   "outputs": [],
   "source": [
    "#find columns that are in both datasets\n",
    "cols_both = list(set(df_08.columns) & set(df_18.columns))\n",
    "cols_both"
   ]
  },
  {
   "cell_type": "code",
   "execution_count": 0,
   "metadata": {
    "colab": {},
    "colab_type": "code",
    "id": "rQNYGjLh6qx1"
   },
   "outputs": [],
   "source": [
    "df_08 = df_08[cols_both]\n",
    "df_18 = df_18[cols_both]"
   ]
  },
  {
   "cell_type": "code",
   "execution_count": 0,
   "metadata": {
    "colab": {},
    "colab_type": "code",
    "id": "TlTRJkaoEbrS"
   },
   "outputs": [],
   "source": [
    "# drop columns that we are not interested in from 2008 dataset\n",
    "df_08.drop(['Stnd', 'Underhood ID'], axis=1, inplace=True)\n",
    "\n",
    "# confirm changes by checking head\n",
    "df_08.head(1)"
   ]
  },
  {
   "cell_type": "markdown",
   "metadata": {
    "colab_type": "text",
    "id": "0l44HPX3_UTh"
   },
   "source": [
    "##### Drop the same columns from 2018 dataset"
   ]
  },
  {
   "cell_type": "code",
   "execution_count": 0,
   "metadata": {
    "colab": {},
    "colab_type": "code",
    "id": "0KSeXhuf_UTi"
   },
   "outputs": [],
   "source": [
    "# drop columns from 2018 dataset\n",
    "# your work here\n",
    "\n",
    "\n",
    "# confirm changes\n",
    "df_18.head(1)"
   ]
  },
  {
   "cell_type": "markdown",
   "metadata": {
    "colab_type": "text",
    "id": "TNPAzgdz_UTm"
   },
   "source": [
    "\n",
    "##### Examine rows in each dataset that contain missing values."
   ]
  },
  {
   "cell_type": "code",
   "execution_count": 0,
   "metadata": {
    "colab": {},
    "colab_type": "code",
    "id": "2tBh2IqY_UTr"
   },
   "outputs": [],
   "source": [
    "# check if any of columns in datasets have null values\n",
    "# your work here\n"
   ]
  },
  {
   "cell_type": "code",
   "execution_count": 0,
   "metadata": {
    "colab": {},
    "colab_type": "code",
    "id": "Q00uDind_UTo"
   },
   "outputs": [],
   "source": [
    "# which rows are they? \n",
    "# your work here\n",
    "\n"
   ]
  },
  {
   "cell_type": "code",
   "execution_count": 0,
   "metadata": {
    "colab": {},
    "colab_type": "code",
    "id": "2t-RnoqN8qJi"
   },
   "outputs": [],
   "source": [
    "# handle rows with null values\n",
    "# your work here\n",
    "\n"
   ]
  },
  {
   "cell_type": "markdown",
   "metadata": {
    "colab_type": "text",
    "id": "lNF_WXlV_UTv"
   },
   "source": [
    "##### Total duplicated data rows from both datasets"
   ]
  },
  {
   "cell_type": "code",
   "execution_count": 0,
   "metadata": {
    "colab": {},
    "colab_type": "code",
    "id": "BQkqcckI_UTw"
   },
   "outputs": [],
   "source": [
    "df_08.duplicated().sum(), df_18.duplicated().sum()"
   ]
  },
  {
   "cell_type": "markdown",
   "metadata": {
    "colab_type": "text",
    "id": "B9oA14ni_UT0"
   },
   "source": [
    "##### Drop duplicated data rows from both datasets. Look up the drop_duplicates function."
   ]
  },
  {
   "cell_type": "code",
   "execution_count": 0,
   "metadata": {
    "colab": {},
    "colab_type": "code",
    "id": "48elTPxl_UT1"
   },
   "outputs": [],
   "source": [
    "# your work here"
   ]
  },
  {
   "cell_type": "code",
   "execution_count": 0,
   "metadata": {
    "colab": {},
    "colab_type": "code",
    "id": "JpO_PFju_UT4"
   },
   "outputs": [],
   "source": [
    "df_18.duplicated().sum()   ,   df_08.duplicated().sum()  "
   ]
  },
  {
   "cell_type": "markdown",
   "metadata": {
    "colab_type": "text",
    "id": "NG4V3F3f_UT9"
   },
   "source": [
    "##### Attempt to find the mean of the City MPG column. Why doesn't it work? Investigate using functions such as dtype, nunique, ...\n"
   ]
  },
  {
   "cell_type": "code",
   "execution_count": 0,
   "metadata": {
    "colab": {},
    "colab_type": "code",
    "id": "sIJy_QPgGI3M"
   },
   "outputs": [],
   "source": [
    "# your work here"
   ]
  },
  {
   "cell_type": "markdown",
   "metadata": {
    "colab_type": "text",
    "id": "-uWcr7J6GL1T"
   },
   "source": [
    "##### Notice the values in row 1550 below to help figure out the issue."
   ]
  },
  {
   "cell_type": "code",
   "execution_count": 0,
   "metadata": {
    "colab": {},
    "colab_type": "code",
    "id": "BQdBrNpq_UT_"
   },
   "outputs": [],
   "source": [
    "df_08.iloc[1550] "
   ]
  },
  {
   "cell_type": "markdown",
   "metadata": {
    "colab_type": "text",
    "id": "ewYwfyna_UUE"
   },
   "source": [
    "##### All vehicles with more than one fuel type, like the one above (it lists ethanol AND gas) will have a string that holds two values in each MPG column. One is for ethanol and one for gas. What are some options for handling this?\n",
    "\n",
    "##### Let's make a separate row for each kind of fuel."
   ]
  },
  {
   "cell_type": "markdown",
   "metadata": {
    "colab_type": "text",
    "id": "MtoRq4mipjpT"
   },
   "source": [
    "##### First make a dataframe of the 2008 cars with 2 fuels."
   ]
  },
  {
   "cell_type": "code",
   "execution_count": 0,
   "metadata": {
    "colab": {},
    "colab_type": "code",
    "id": "5_Al8I7c_UUF"
   },
   "outputs": [],
   "source": [
    "# First, let's get all the cars listed with 2 fuels in 2008\n",
    "F2_08 = df_08[df_08['Fuel'].str.contains('/')]\n",
    "F2_08.head(3)"
   ]
  },
  {
   "cell_type": "markdown",
   "metadata": {
    "colab_type": "text",
    "id": "hQDaRzqU_UUT"
   },
   "source": [
    "##### Take each row and split them into two new rows - one with values for the first fuel type (values before the \"/\"), and the other with values for the second fuel type (values after the \"/\"). Let's separate them into two dataframes!<br>\n"
   ]
  },
  {
   "cell_type": "code",
   "execution_count": 0,
   "metadata": {
    "colab": {},
    "colab_type": "code",
    "id": "HHx2DtEy_UUU"
   },
   "outputs": [],
   "source": [
    "# for 2008\n",
    "# create two copies of the 2008 hybrids dataframe\n",
    "df1 = F2_08.copy()  # data on first fuel type of each vehicle\n",
    "df2 = F2_08.copy()  # data on second fuel type of each vehicle\n"
   ]
  },
  {
   "cell_type": "code",
   "execution_count": 0,
   "metadata": {
    "colab": {},
    "colab_type": "code",
    "id": "fPO9vVuN_UUY"
   },
   "outputs": [],
   "source": [
    "# columns to split by \"/\"\n",
    "split_columns = ['Fuel', 'Air Pollution Score', 'City MPG', 'Hwy MPG', 'Cmb MPG', 'Greenhouse Gas Score']\n",
    "\n",
    "# apply split function to each column of each dataframe copy\n",
    "for c in split_columns:\n",
    "    df1[c] = df1[c].apply(lambda x: x.split(\"/\")[0])\n",
    "    df2[c] = df2[c].apply(lambda x: x.split(\"/\")[1])"
   ]
  },
  {
   "cell_type": "code",
   "execution_count": 0,
   "metadata": {
    "colab": {},
    "colab_type": "code",
    "id": "hHiStx_X_UUb"
   },
   "outputs": [],
   "source": [
    "# combine dataframes to add to the original dataframe\n",
    "new_rows = df1.append(df2)"
   ]
  },
  {
   "cell_type": "markdown",
   "metadata": {
    "colab_type": "text",
    "id": "k-TvpqYP_UUd"
   },
   "source": [
    "##### Drop the original rows and add in our newly separated rows"
   ]
  },
  {
   "cell_type": "code",
   "execution_count": 0,
   "metadata": {
    "colab": {},
    "colab_type": "code",
    "id": "uc_3-R1__UUe"
   },
   "outputs": [],
   "source": [
    "# drop the original rows\n",
    "df_08.drop(F2_08.index, inplace=True)\n",
    "\n",
    "# add in our newly separated rows\n",
    "df_08 = df_08.append(new_rows, ignore_index=True)"
   ]
  },
  {
   "cell_type": "code",
   "execution_count": 0,
   "metadata": {
    "colab": {},
    "colab_type": "code",
    "id": "1HHl93vF_UUg"
   },
   "outputs": [],
   "source": [
    "# check that all the original rows with \"/\"s are gone\n",
    "df_08[df_08['Fuel'].str.contains('/')]"
   ]
  },
  {
   "cell_type": "code",
   "execution_count": 0,
   "metadata": {
    "colab": {},
    "colab_type": "code",
    "id": "-0uGCcLE_UUv"
   },
   "outputs": [],
   "source": [
    "df_08.shape"
   ]
  },
  {
   "cell_type": "markdown",
   "metadata": {
    "colab_type": "text",
    "id": "ahkNr7JF_UUz"
   },
   "source": [
    "##### Repeat the process for dataset 2018"
   ]
  },
  {
   "cell_type": "code",
   "execution_count": 0,
   "metadata": {
    "colab": {},
    "colab_type": "code",
    "id": "OGxVavuZ_UU1"
   },
   "outputs": [],
   "source": [
    "F2_18 = df_18[df_18['Fuel'].str.contains('/')]\n",
    "\n",
    "df1 = F2_18.copy()\n",
    "df2 = F2_18.copy()"
   ]
  },
  {
   "cell_type": "code",
   "execution_count": 0,
   "metadata": {
    "colab": {},
    "colab_type": "code",
    "id": "Llgpivpb_UU6"
   },
   "outputs": [],
   "source": [
    "# apply split function to each column of each dataframe copy\n",
    "\n",
    "# list of columns to split\n",
    "split_columns = ['Fuel','City MPG', 'Hwy MPG','Cmb MPG']\n",
    "\n",
    "# apply split function to each column of each dataframe copy\n",
    "for c in split_columns:\n",
    "    df1[c] = df1[c].apply(lambda x: x.split(\"/\")[0])\n",
    "    df2[c] = df2[c].apply(lambda x: x.split(\"/\")[1])\n"
   ]
  },
  {
   "cell_type": "code",
   "execution_count": 0,
   "metadata": {
    "colab": {},
    "colab_type": "code",
    "id": "zGU1M4NU_UU9"
   },
   "outputs": [],
   "source": [
    "# append the two dataframes\n",
    "new_rows = df1.append(df2)\n",
    "\n",
    "# drop each hybrid row from the original 2018 dataframe\n",
    "# do this by using Pandas drop function\n",
    "df_18.drop(F2_18.index, inplace=True) # drop original one \n",
    "\n",
    "# append new_rows to df_18  \n",
    "df_18 = df_18.append(new_rows,ignore_index=True)"
   ]
  },
  {
   "cell_type": "code",
   "execution_count": 0,
   "metadata": {
    "colab": {},
    "colab_type": "code",
    "id": "mAzmII7P_UVD"
   },
   "outputs": [],
   "source": [
    "# check that all the original hybrid rows with \"/\"s are gone\n",
    "df_18[df_18['Fuel'].str.contains('/')]"
   ]
  },
  {
   "cell_type": "markdown",
   "metadata": {
    "colab_type": "text",
    "id": "m4Zk6i6Q_UVH"
   },
   "source": [
    "##### Finally, fix city mpg, hwy mpg, and cmb mpg datatypes. Change them from strings to floats.\n"
   ]
  },
  {
   "cell_type": "code",
   "execution_count": 0,
   "metadata": {
    "colab": {},
    "colab_type": "code",
    "id": "t6hkkE9f_UVI"
   },
   "outputs": [],
   "source": [
    "df_08.dtypes"
   ]
  },
  {
   "cell_type": "code",
   "execution_count": 0,
   "metadata": {
    "colab": {},
    "colab_type": "code",
    "id": "rzNQyWui_UVV"
   },
   "outputs": [],
   "source": [
    "df_18.dtypes"
   ]
  },
  {
   "cell_type": "code",
   "execution_count": 0,
   "metadata": {
    "colab": {},
    "colab_type": "code",
    "id": "Uz1lAJhrrOvu"
   },
   "outputs": [],
   "source": [
    "# your work here"
   ]
  },
  {
   "cell_type": "markdown",
   "metadata": {
    "colab_type": "text",
    "id": "x_ONI02X6jCm"
   },
   "source": [
    "### 3: Fuel economy questions."
   ]
  },
  {
   "cell_type": "markdown",
   "metadata": {
    "colab_type": "text",
    "id": "Dm_dP39e_UWI"
   },
   "source": [
    "##### How much have vehicle classes improved in fuel economy (increased in mpg)?  "
   ]
  },
  {
   "cell_type": "markdown",
   "metadata": {
    "colab_type": "text",
    "id": "qjExEZX1_UWL"
   },
   "source": [
    "Let's look at the average fuel economy for each vehicle class for both years."
   ]
  },
  {
   "cell_type": "code",
   "execution_count": 0,
   "metadata": {
    "colab": {},
    "colab_type": "code",
    "id": "xyHEZFGXI6-Y"
   },
   "outputs": [],
   "source": [
    "#2008\n",
    "veh_08 = df_08.groupby(['Veh Class'])['Cmb MPG'].mean()\n",
    "veh_08\n"
   ]
  },
  {
   "cell_type": "code",
   "execution_count": 0,
   "metadata": {
    "colab": {},
    "colab_type": "code",
    "id": "y3tOyR1W_UWT"
   },
   "outputs": [],
   "source": [
    "# 2018\n",
    "# your work here\n"
   ]
  },
  {
   "cell_type": "code",
   "execution_count": 0,
   "metadata": {
    "colab": {},
    "colab_type": "code",
    "id": "sltblccx_UWW"
   },
   "outputs": [],
   "source": [
    "# how much they've increased by for each vehicle class\n",
    "# your work here\n",
    "\n"
   ]
  },
  {
   "cell_type": "markdown",
   "metadata": {
    "colab_type": "text",
    "id": "d6_MNn1o_UWa"
   },
   "source": [
    "##### For all of the models that were produced in 2008 that are still being produced now, how much has the mpg improved?\n"
   ]
  },
  {
   "cell_type": "markdown",
   "metadata": {
    "colab_type": "text",
    "id": "h03dxqh-F7Am"
   },
   "source": [
    "##### Rename the 2008 columns to prepare to merge dataframes into one."
   ]
  },
  {
   "cell_type": "code",
   "execution_count": 0,
   "metadata": {
    "colab": {},
    "colab_type": "code",
    "id": "r8hgcv-9_UWb"
   },
   "outputs": [],
   "source": [
    "# rename 2008 columns\n",
    "df_08.rename(columns=lambda x: x[:10]+\"_2008\", inplace=True)"
   ]
  },
  {
   "cell_type": "code",
   "execution_count": 0,
   "metadata": {
    "colab": {},
    "colab_type": "code",
    "id": "tJQNO6Bg_UWg"
   },
   "outputs": [],
   "source": [
    "df_08.head(2)"
   ]
  },
  {
   "cell_type": "markdown",
   "metadata": {
    "colab_type": "text",
    "id": "jL4N2bLKISEg"
   },
   "source": [
    "##### Merge the datasets."
   ]
  },
  {
   "cell_type": "code",
   "execution_count": 0,
   "metadata": {
    "colab": {},
    "colab_type": "code",
    "id": "fPqurfHm_UWo"
   },
   "outputs": [],
   "source": [
    "\n",
    "df_combined = pd.merge(df_08,df_18,left_on='Model_2008', right_on='Model', how='inner')\n"
   ]
  },
  {
   "cell_type": "code",
   "execution_count": 0,
   "metadata": {
    "colab": {},
    "colab_type": "code",
    "id": "z0BIWTyL_UWw"
   },
   "outputs": [],
   "source": [
    "# view to check merge\n",
    "df_combined.head()"
   ]
  },
  {
   "cell_type": "markdown",
   "metadata": {
    "colab_type": "text",
    "id": "mdyd5v5I_UW2"
   },
   "source": [
    "##### Create a new dataframe, model_mpg, that contain the mean combined mpg values in 2008 and 2018 for each model. To do this, group by model and find the mean cmb_mpg_2008 and mean cmb_mpg for each.\n"
   ]
  },
  {
   "cell_type": "code",
   "execution_count": 0,
   "metadata": {
    "colab": {},
    "colab_type": "code",
    "id": "ctgTozJdKd4x"
   },
   "outputs": [],
   "source": [
    "model_mpg = df_combined.groupby('Model').mean()[['Cmb MPG_2008', 'Cmb MPG']]"
   ]
  },
  {
   "cell_type": "code",
   "execution_count": 0,
   "metadata": {
    "colab": {},
    "colab_type": "code",
    "id": "21JQQCcr_UW4"
   },
   "outputs": [],
   "source": [
    "model_mpg.head()"
   ]
  },
  {
   "cell_type": "markdown",
   "metadata": {
    "colab_type": "text",
    "id": "4DXKoOhu_UW9"
   },
   "source": [
    "##### Create a new column, mpg_change, with the change in mpg from 2008 to 2018. \n",
    "\n"
   ]
  },
  {
   "cell_type": "code",
   "execution_count": 0,
   "metadata": {
    "colab": {},
    "colab_type": "code",
    "id": "3wA9bzi8Jujy"
   },
   "outputs": [],
   "source": [
    "# your work here"
   ]
  },
  {
   "cell_type": "code",
   "execution_count": 0,
   "metadata": {
    "colab": {},
    "colab_type": "code",
    "id": "UdM5HQ4w_UW-"
   },
   "outputs": [],
   "source": [
    "model_mpg.head()"
   ]
  },
  {
   "cell_type": "markdown",
   "metadata": {
    "colab_type": "text",
    "id": "QULwdgW1_UXD"
   },
   "source": [
    "We can see the mpg change through mpg_change column above. Every vehicle varies . "
   ]
  },
  {
   "cell_type": "markdown",
   "metadata": {
    "colab_type": "text",
    "id": "QHBSuzCO_UXE"
   },
   "source": [
    "##### Which vehicle improved the most? Find the max mpg change, and then use query or indexing to see what model it is!"
   ]
  },
  {
   "cell_type": "code",
   "execution_count": 0,
   "metadata": {
    "colab": {},
    "colab_type": "code",
    "id": "nZgyxgAeJJkw"
   },
   "outputs": [],
   "source": [
    "# your work here"
   ]
  },
  {
   "cell_type": "markdown",
   "metadata": {
    "colab_type": "text",
    "id": "lN4S23LF_UVc"
   },
   "source": [
    "### 4: Exploring with Visuals"
   ]
  },
  {
   "cell_type": "markdown",
   "metadata": {
    "colab_type": "text",
    "id": "E6KSUlKa_UVp"
   },
   "source": [
    "#####  Make a scatter plot of Cmb MPG_2008 and  Cmb MPG . The plot has been done for you, but look at altair documentation to figure out how to add a title."
   ]
  },
  {
   "cell_type": "code",
   "execution_count": 0,
   "metadata": {
    "colab": {},
    "colab_type": "code",
    "id": "4dpKgHz4_UVq"
   },
   "outputs": [],
   "source": [
    "# add title\n",
    "import altair as alt\n",
    "from vega_datasets import data\n",
    "alt.renderers.enable('notebook')\n",
    "\n",
    "df_combined_e = df_combined[df_combined['Veh Class']== 'small car']\n",
    "df_combined_e.head()\n",
    "\n",
    "\n"
   ]
  },
  {
   "cell_type": "code",
   "execution_count": 0,
   "metadata": {
    "colab": {},
    "colab_type": "code",
    "id": "x-ZSV-dWpO7S"
   },
   "outputs": [],
   "source": [
    "alt.Chart(df_combined_e).mark_circle(size = 10).encode(x = 'Cmb MPG_2008:Q',y ='Cmb MPG:Q' )"
   ]
  }
 ],
 "metadata": {
  "colab": {
   "name": "DSA501_pandas_lesson3 edit 7-20.ipynb",
   "provenance": [
    {
     "file_id": "1YhfMtkRv4ZX6jkuJVHqeH-fehedA1h2C",
     "timestamp": 1563668351078
    },
    {
     "file_id": "0BwrPB5xExKbYeUVxQnA1aHd5SXRRcHlnUnFmVV9UN2ZmeTFB",
     "timestamp": 1562529639891
    }
   ],
   "version": "0.3.2"
  },
  "kernelspec": {
   "display_name": "Python 3",
   "language": "python",
   "name": "python3"
  },
  "language_info": {
   "codemirror_mode": {
    "name": "ipython",
    "version": 3
   },
   "file_extension": ".py",
   "mimetype": "text/x-python",
   "name": "python",
   "nbconvert_exporter": "python",
   "pygments_lexer": "ipython3",
   "version": "3.7.3"
  }
 },
 "nbformat": 4,
 "nbformat_minor": 1
}
