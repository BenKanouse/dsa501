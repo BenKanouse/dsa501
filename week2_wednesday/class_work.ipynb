{
 "cells": [
  {
   "cell_type": "code",
   "execution_count": 100,
   "metadata": {},
   "outputs": [],
   "source": [
    "import pandas as pd\n",
    "from glob import glob\n",
    "import altair as alt\n",
    "alt.renderers.enable('notebook');\n",
    "#alt.data_transformers.enable('json')  # writes data to file instead of embedding in notebook (only needed for big data)"
   ]
  },
  {
   "cell_type": "code",
   "execution_count": 12,
   "metadata": {},
   "outputs": [],
   "source": [
    "df = pd.read_csv('data/yob1880.txt', header=None, names=['name', 'gender', 'count'])"
   ]
  },
  {
   "cell_type": "code",
   "execution_count": 13,
   "metadata": {},
   "outputs": [
    {
     "data": {
      "text/html": [
       "<div>\n",
       "<style scoped>\n",
       "    .dataframe tbody tr th:only-of-type {\n",
       "        vertical-align: middle;\n",
       "    }\n",
       "\n",
       "    .dataframe tbody tr th {\n",
       "        vertical-align: top;\n",
       "    }\n",
       "\n",
       "    .dataframe thead th {\n",
       "        text-align: right;\n",
       "    }\n",
       "</style>\n",
       "<table border=\"1\" class=\"dataframe\">\n",
       "  <thead>\n",
       "    <tr style=\"text-align: right;\">\n",
       "      <th></th>\n",
       "      <th>name</th>\n",
       "      <th>gender</th>\n",
       "      <th>count</th>\n",
       "    </tr>\n",
       "  </thead>\n",
       "  <tbody>\n",
       "    <tr>\n",
       "      <th>0</th>\n",
       "      <td>Mary</td>\n",
       "      <td>F</td>\n",
       "      <td>7065</td>\n",
       "    </tr>\n",
       "    <tr>\n",
       "      <th>1</th>\n",
       "      <td>Anna</td>\n",
       "      <td>F</td>\n",
       "      <td>2604</td>\n",
       "    </tr>\n",
       "    <tr>\n",
       "      <th>2</th>\n",
       "      <td>Emma</td>\n",
       "      <td>F</td>\n",
       "      <td>2003</td>\n",
       "    </tr>\n",
       "    <tr>\n",
       "      <th>3</th>\n",
       "      <td>Elizabeth</td>\n",
       "      <td>F</td>\n",
       "      <td>1939</td>\n",
       "    </tr>\n",
       "    <tr>\n",
       "      <th>4</th>\n",
       "      <td>Minnie</td>\n",
       "      <td>F</td>\n",
       "      <td>1746</td>\n",
       "    </tr>\n",
       "  </tbody>\n",
       "</table>\n",
       "</div>"
      ],
      "text/plain": [
       "        name gender  count\n",
       "0       Mary      F   7065\n",
       "1       Anna      F   2604\n",
       "2       Emma      F   2003\n",
       "3  Elizabeth      F   1939\n",
       "4     Minnie      F   1746"
      ]
     },
     "metadata": {},
     "output_type": "display_data"
    },
    {
     "data": {
      "text/html": [
       "<div>\n",
       "<style scoped>\n",
       "    .dataframe tbody tr th:only-of-type {\n",
       "        vertical-align: middle;\n",
       "    }\n",
       "\n",
       "    .dataframe tbody tr th {\n",
       "        vertical-align: top;\n",
       "    }\n",
       "\n",
       "    .dataframe thead th {\n",
       "        text-align: right;\n",
       "    }\n",
       "</style>\n",
       "<table border=\"1\" class=\"dataframe\">\n",
       "  <thead>\n",
       "    <tr style=\"text-align: right;\">\n",
       "      <th></th>\n",
       "      <th>name</th>\n",
       "      <th>gender</th>\n",
       "      <th>count</th>\n",
       "    </tr>\n",
       "  </thead>\n",
       "  <tbody>\n",
       "    <tr>\n",
       "      <th>1995</th>\n",
       "      <td>Woodie</td>\n",
       "      <td>M</td>\n",
       "      <td>5</td>\n",
       "    </tr>\n",
       "    <tr>\n",
       "      <th>1996</th>\n",
       "      <td>Worthy</td>\n",
       "      <td>M</td>\n",
       "      <td>5</td>\n",
       "    </tr>\n",
       "    <tr>\n",
       "      <th>1997</th>\n",
       "      <td>Wright</td>\n",
       "      <td>M</td>\n",
       "      <td>5</td>\n",
       "    </tr>\n",
       "    <tr>\n",
       "      <th>1998</th>\n",
       "      <td>York</td>\n",
       "      <td>M</td>\n",
       "      <td>5</td>\n",
       "    </tr>\n",
       "    <tr>\n",
       "      <th>1999</th>\n",
       "      <td>Zachariah</td>\n",
       "      <td>M</td>\n",
       "      <td>5</td>\n",
       "    </tr>\n",
       "  </tbody>\n",
       "</table>\n",
       "</div>"
      ],
      "text/plain": [
       "           name gender  count\n",
       "1995     Woodie      M      5\n",
       "1996     Worthy      M      5\n",
       "1997     Wright      M      5\n",
       "1998       York      M      5\n",
       "1999  Zachariah      M      5"
      ]
     },
     "metadata": {},
     "output_type": "display_data"
    }
   ],
   "source": [
    "display(df.head())\n",
    "display(df.tail())\n"
   ]
  },
  {
   "cell_type": "code",
   "execution_count": 15,
   "metadata": {},
   "outputs": [
    {
     "data": {
      "text/html": [
       "<div>\n",
       "<style scoped>\n",
       "    .dataframe tbody tr th:only-of-type {\n",
       "        vertical-align: middle;\n",
       "    }\n",
       "\n",
       "    .dataframe tbody tr th {\n",
       "        vertical-align: top;\n",
       "    }\n",
       "\n",
       "    .dataframe thead th {\n",
       "        text-align: right;\n",
       "    }\n",
       "</style>\n",
       "<table border=\"1\" class=\"dataframe\">\n",
       "  <thead>\n",
       "    <tr style=\"text-align: right;\">\n",
       "      <th></th>\n",
       "      <th>name</th>\n",
       "      <th>gender</th>\n",
       "      <th>count</th>\n",
       "      <th>year</th>\n",
       "    </tr>\n",
       "  </thead>\n",
       "  <tbody>\n",
       "    <tr>\n",
       "      <th>0</th>\n",
       "      <td>Mary</td>\n",
       "      <td>F</td>\n",
       "      <td>7065</td>\n",
       "      <td>1880</td>\n",
       "    </tr>\n",
       "    <tr>\n",
       "      <th>1</th>\n",
       "      <td>Anna</td>\n",
       "      <td>F</td>\n",
       "      <td>2604</td>\n",
       "      <td>1880</td>\n",
       "    </tr>\n",
       "  </tbody>\n",
       "</table>\n",
       "</div>"
      ],
      "text/plain": [
       "   name gender  count  year\n",
       "0  Mary      F   7065  1880\n",
       "1  Anna      F   2604  1880"
      ]
     },
     "execution_count": 15,
     "metadata": {},
     "output_type": "execute_result"
    }
   ],
   "source": [
    "df[\"year\"] = '1880' \n",
    "df.head(2)"
   ]
  },
  {
   "cell_type": "code",
   "execution_count": 63,
   "metadata": {},
   "outputs": [],
   "source": [
    "# TODO: change to all years.\n",
    "files = sorted(glob('data/yob*.txt'))\n",
    "dfs = []\n",
    "for file in files:\n",
    "    year = int(file.split('yob')[1][:4])\n",
    "    df = pd.read_csv(file, header=None, names=['name', 'gender', 'count'])\n",
    "    df['year'] = year\n",
    "    dfs.append(df)\n"
   ]
  },
  {
   "cell_type": "code",
   "execution_count": 47,
   "metadata": {},
   "outputs": [
    {
     "data": {
      "text/html": [
       "<div>\n",
       "<style scoped>\n",
       "    .dataframe tbody tr th:only-of-type {\n",
       "        vertical-align: middle;\n",
       "    }\n",
       "\n",
       "    .dataframe tbody tr th {\n",
       "        vertical-align: top;\n",
       "    }\n",
       "\n",
       "    .dataframe thead th {\n",
       "        text-align: right;\n",
       "    }\n",
       "</style>\n",
       "<table border=\"1\" class=\"dataframe\">\n",
       "  <thead>\n",
       "    <tr style=\"text-align: right;\">\n",
       "      <th></th>\n",
       "      <th>year</th>\n",
       "      <th>count</th>\n",
       "      <th>foo</th>\n",
       "    </tr>\n",
       "  </thead>\n",
       "  <tbody>\n",
       "    <tr>\n",
       "      <th>0</th>\n",
       "      <td>1</td>\n",
       "      <td>2</td>\n",
       "      <td>3</td>\n",
       "    </tr>\n",
       "    <tr>\n",
       "      <th>1</th>\n",
       "      <td>11</td>\n",
       "      <td>22</td>\n",
       "      <td>33</td>\n",
       "    </tr>\n",
       "  </tbody>\n",
       "</table>\n",
       "</div>"
      ],
      "text/plain": [
       "   year  count  foo\n",
       "0     1      2    3\n",
       "1    11     22   33"
      ]
     },
     "execution_count": 47,
     "metadata": {},
     "output_type": "execute_result"
    }
   ],
   "source": [
    "df1 = pd.DataFrame([[1,2,3]],[4],columns=['year', 'count', 'foo'])\n",
    "df2 = pd.DataFrame([[11,22,33]],[4],columns=['year', 'count', 'foo'])\n",
    "pd.concat([df1,df2], ignore_index=True)"
   ]
  },
  {
   "cell_type": "code",
   "execution_count": 64,
   "metadata": {},
   "outputs": [
    {
     "data": {
      "text/html": [
       "<div>\n",
       "<style scoped>\n",
       "    .dataframe tbody tr th:only-of-type {\n",
       "        vertical-align: middle;\n",
       "    }\n",
       "\n",
       "    .dataframe tbody tr th {\n",
       "        vertical-align: top;\n",
       "    }\n",
       "\n",
       "    .dataframe thead th {\n",
       "        text-align: right;\n",
       "    }\n",
       "</style>\n",
       "<table border=\"1\" class=\"dataframe\">\n",
       "  <thead>\n",
       "    <tr style=\"text-align: right;\">\n",
       "      <th></th>\n",
       "      <th>name</th>\n",
       "      <th>gender</th>\n",
       "      <th>count</th>\n",
       "      <th>year</th>\n",
       "    </tr>\n",
       "  </thead>\n",
       "  <tbody>\n",
       "    <tr>\n",
       "      <th>0</th>\n",
       "      <td>Mary</td>\n",
       "      <td>F</td>\n",
       "      <td>7065</td>\n",
       "      <td>1880</td>\n",
       "    </tr>\n",
       "    <tr>\n",
       "      <th>1</th>\n",
       "      <td>Anna</td>\n",
       "      <td>F</td>\n",
       "      <td>2604</td>\n",
       "      <td>1880</td>\n",
       "    </tr>\n",
       "    <tr>\n",
       "      <th>2</th>\n",
       "      <td>Emma</td>\n",
       "      <td>F</td>\n",
       "      <td>2003</td>\n",
       "      <td>1880</td>\n",
       "    </tr>\n",
       "    <tr>\n",
       "      <th>3</th>\n",
       "      <td>Elizabeth</td>\n",
       "      <td>F</td>\n",
       "      <td>1939</td>\n",
       "      <td>1880</td>\n",
       "    </tr>\n",
       "    <tr>\n",
       "      <th>4</th>\n",
       "      <td>Minnie</td>\n",
       "      <td>F</td>\n",
       "      <td>1746</td>\n",
       "      <td>1880</td>\n",
       "    </tr>\n",
       "  </tbody>\n",
       "</table>\n",
       "</div>"
      ],
      "text/plain": [
       "        name gender  count  year\n",
       "0       Mary      F   7065  1880\n",
       "1       Anna      F   2604  1880\n",
       "2       Emma      F   2003  1880\n",
       "3  Elizabeth      F   1939  1880\n",
       "4     Minnie      F   1746  1880"
      ]
     },
     "metadata": {},
     "output_type": "display_data"
    },
    {
     "data": {
      "text/html": [
       "<div>\n",
       "<style scoped>\n",
       "    .dataframe tbody tr th:only-of-type {\n",
       "        vertical-align: middle;\n",
       "    }\n",
       "\n",
       "    .dataframe tbody tr th {\n",
       "        vertical-align: top;\n",
       "    }\n",
       "\n",
       "    .dataframe thead th {\n",
       "        text-align: right;\n",
       "    }\n",
       "</style>\n",
       "<table border=\"1\" class=\"dataframe\">\n",
       "  <thead>\n",
       "    <tr style=\"text-align: right;\">\n",
       "      <th></th>\n",
       "      <th>name</th>\n",
       "      <th>gender</th>\n",
       "      <th>count</th>\n",
       "      <th>year</th>\n",
       "    </tr>\n",
       "  </thead>\n",
       "  <tbody>\n",
       "    <tr>\n",
       "      <th>1957041</th>\n",
       "      <td>Zylas</td>\n",
       "      <td>M</td>\n",
       "      <td>5</td>\n",
       "      <td>2018</td>\n",
       "    </tr>\n",
       "    <tr>\n",
       "      <th>1957042</th>\n",
       "      <td>Zyran</td>\n",
       "      <td>M</td>\n",
       "      <td>5</td>\n",
       "      <td>2018</td>\n",
       "    </tr>\n",
       "    <tr>\n",
       "      <th>1957043</th>\n",
       "      <td>Zyrie</td>\n",
       "      <td>M</td>\n",
       "      <td>5</td>\n",
       "      <td>2018</td>\n",
       "    </tr>\n",
       "    <tr>\n",
       "      <th>1957044</th>\n",
       "      <td>Zyron</td>\n",
       "      <td>M</td>\n",
       "      <td>5</td>\n",
       "      <td>2018</td>\n",
       "    </tr>\n",
       "    <tr>\n",
       "      <th>1957045</th>\n",
       "      <td>Zzyzx</td>\n",
       "      <td>M</td>\n",
       "      <td>5</td>\n",
       "      <td>2018</td>\n",
       "    </tr>\n",
       "  </tbody>\n",
       "</table>\n",
       "</div>"
      ],
      "text/plain": [
       "          name gender  count  year\n",
       "1957041  Zylas      M      5  2018\n",
       "1957042  Zyran      M      5  2018\n",
       "1957043  Zyrie      M      5  2018\n",
       "1957044  Zyron      M      5  2018\n",
       "1957045  Zzyzx      M      5  2018"
      ]
     },
     "metadata": {},
     "output_type": "display_data"
    }
   ],
   "source": [
    "all_records = pd.concat(dfs, ignore_index=True)\n",
    "display(all_records.head(), all_records.tail())"
   ]
  },
  {
   "cell_type": "code",
   "execution_count": 182,
   "metadata": {},
   "outputs": [
    {
     "data": {
      "application/javascript": [
       "var spec = {\"config\": {\"view\": {\"width\": 400, \"height\": 300}, \"mark\": {\"tooltip\": null}}, \"data\": {\"name\": \"data-114842a8550957b95d9a56d4b9921ecc\"}, \"mark\": \"line\", \"encoding\": {\"x\": {\"type\": \"quantitative\", \"field\": \"year\"}, \"y\": {\"type\": \"quantitative\", \"field\": \"count\"}}, \"$schema\": \"https://vega.github.io/schema/vega-lite/v3.3.0.json\", \"datasets\": {\"data-114842a8550957b95d9a56d4b9921ecc\": [{\"name\": \"Tyrion\", \"gender\": \"M\", \"count\": 5, \"year\": 1997}, {\"name\": \"Tyrion\", \"gender\": \"M\", \"count\": 5, \"year\": 1998}, {\"name\": \"Tyrion\", \"gender\": \"M\", \"count\": 8, \"year\": 1999}, {\"name\": \"Tyrion\", \"gender\": \"M\", \"count\": 11, \"year\": 2000}, {\"name\": \"Tyrion\", \"gender\": \"M\", \"count\": 10, \"year\": 2001}, {\"name\": \"Tyrion\", \"gender\": \"M\", \"count\": 14, \"year\": 2002}, {\"name\": \"Tyrion\", \"gender\": \"M\", \"count\": 14, \"year\": 2003}, {\"name\": \"Tyrion\", \"gender\": \"M\", \"count\": 15, \"year\": 2004}, {\"name\": \"Tyrion\", \"gender\": \"M\", \"count\": 14, \"year\": 2005}, {\"name\": \"Tyrion\", \"gender\": \"M\", \"count\": 12, \"year\": 2006}, {\"name\": \"Tyrion\", \"gender\": \"M\", \"count\": 14, \"year\": 2007}, {\"name\": \"Tyrion\", \"gender\": \"M\", \"count\": 16, \"year\": 2008}, {\"name\": \"Tyrion\", \"gender\": \"M\", \"count\": 17, \"year\": 2009}, {\"name\": \"Tyrion\", \"gender\": \"M\", \"count\": 11, \"year\": 2010}, {\"name\": \"Tyrion\", \"gender\": \"M\", \"count\": 18, \"year\": 2011}, {\"name\": \"Tyrion\", \"gender\": \"M\", \"count\": 20, \"year\": 2012}, {\"name\": \"Tyrion\", \"gender\": \"M\", \"count\": 44, \"year\": 2013}, {\"name\": \"Tyrion\", \"gender\": \"M\", \"count\": 60, \"year\": 2014}, {\"name\": \"Tyrion\", \"gender\": \"M\", \"count\": 62, \"year\": 2015}, {\"name\": \"Tyrion\", \"gender\": \"M\", \"count\": 58, \"year\": 2016}, {\"name\": \"Tyrion\", \"gender\": \"M\", \"count\": 55, \"year\": 2017}, {\"name\": \"Tyrion\", \"gender\": \"M\", \"count\": 58, \"year\": 2018}]}};\n",
       "var opt = {};\n",
       "var type = \"vega-lite\";\n",
       "var id = \"5e209d08-c38c-448c-993a-9bbd572fb24d\";\n",
       "\n",
       "var output_area = this;\n",
       "\n",
       "require([\"nbextensions/jupyter-vega/index\"], function(vega) {\n",
       "  var target = document.createElement(\"div\");\n",
       "  target.id = id;\n",
       "  target.className = \"vega-embed\";\n",
       "\n",
       "  var style = document.createElement(\"style\");\n",
       "  style.textContent = [\n",
       "    \".vega-embed .error p {\",\n",
       "    \"  color: firebrick;\",\n",
       "    \"  font-size: 14px;\",\n",
       "    \"}\",\n",
       "  ].join(\"\\\\n\");\n",
       "\n",
       "  // element is a jQuery wrapped DOM element inside the output area\n",
       "  // see http://ipython.readthedocs.io/en/stable/api/generated/\\\n",
       "  // IPython.display.html#IPython.display.Javascript.__init__\n",
       "  element[0].appendChild(target);\n",
       "  element[0].appendChild(style);\n",
       "\n",
       "  vega.render(\"#\" + id, spec, type, opt, output_area);\n",
       "}, function (err) {\n",
       "  if (err.requireType !== \"scripterror\") {\n",
       "    throw(err);\n",
       "  }\n",
       "});\n"
      ],
      "text/plain": [
       "<vega.vegalite.VegaLite at 0x11d270c18>"
      ]
     },
     "metadata": {
      "jupyter-vega": "#5e209d08-c38c-448c-993a-9bbd572fb24d"
     },
     "output_type": "display_data"
    },
    {
     "data": {
      "text/plain": []
     },
     "execution_count": 182,
     "metadata": {},
     "output_type": "execute_result"
    },
    {
     "data": {
      "image/png": "[encoded data removed]"
     },
     "metadata": {
      "jupyter-vega": "#5e209d08-c38c-448c-993a-9bbd572fb24d"
     },
     "output_type": "display_data"
    }
   ],
   "source": [
    "# test1 = all_records[all_records[\"name\"] == \"Benjamin\"]\n",
    "groups = all_records.groupby(['name','gender'])\n",
    "#groups_both = all_records.groupby('name')\n",
    "#df_benjamin_both = groups_both.get_group(\"Benjamin\")\n",
    "\n",
    "for item in groups:\n",
    "    # display(item[0], item[1])\n",
    "    break\n",
    "\n",
    "df_benjamin = groups.get_group((\"Tyrion\", \"M\"))\n",
    "alt.Chart(df_benjamin).mark_line().encode(x='year',y='count')\n"
   ]
  },
  {
   "cell_type": "code",
   "execution_count": 183,
   "metadata": {},
   "outputs": [],
   "source": [
    "df_grouped_by_year = all_records.groupby(\"year\")\n",
    "\n",
    "for item in df_total_pop:\n",
    "    # display(item[1])\n",
    "    break\n",
    "\n",
    "#df_total_pop = df_grouped_by_year.aggregate(sum).reset_index()\n",
    "df_total_pop = df_grouped_by_year['count'].aggregate(sum).to_frame().reset_index()\n"
   ]
  },
  {
   "cell_type": "code",
   "execution_count": 185,
   "metadata": {},
   "outputs": [
    {
     "data": {
      "application/javascript": [
       "var spec = {\"config\": {\"view\": {\"width\": 400, \"height\": 300}, \"mark\": {\"tooltip\": null}}, \"data\": {\"name\": \"data-960e72034c9230bb39064027f5b32be2\"}, \"mark\": \"line\", \"encoding\": {\"x\": {\"type\": \"quantitative\", \"field\": \"year\"}, \"y\": {\"type\": \"quantitative\", \"field\": \"count\"}}, \"$schema\": \"https://vega.github.io/schema/vega-lite/v3.3.0.json\", \"datasets\": {\"data-960e72034c9230bb39064027f5b32be2\": [{\"year\": 1880, \"count\": 201484}, {\"year\": 1881, \"count\": 192696}, {\"year\": 1882, \"count\": 221533}, {\"year\": 1883, \"count\": 216944}, {\"year\": 1884, \"count\": 243461}, {\"year\": 1885, \"count\": 240854}, {\"year\": 1886, \"count\": 255318}, {\"year\": 1887, \"count\": 247393}, {\"year\": 1888, \"count\": 299473}, {\"year\": 1889, \"count\": 288946}, {\"year\": 1890, \"count\": 301401}, {\"year\": 1891, \"count\": 286671}, {\"year\": 1892, \"count\": 334376}, {\"year\": 1893, \"count\": 325224}, {\"year\": 1894, \"count\": 338690}, {\"year\": 1895, \"count\": 351022}, {\"year\": 1896, \"count\": 357485}, {\"year\": 1897, \"count\": 346957}, {\"year\": 1898, \"count\": 381458}, {\"year\": 1899, \"count\": 339233}, {\"year\": 1900, \"count\": 450278}, {\"year\": 1901, \"count\": 345814}, {\"year\": 1902, \"count\": 386735}, {\"year\": 1903, \"count\": 381203}, {\"year\": 1904, \"count\": 403489}, {\"year\": 1905, \"count\": 423930}, {\"year\": 1906, \"count\": 428459}, {\"year\": 1907, \"count\": 465395}, {\"year\": 1908, \"count\": 488651}, {\"year\": 1909, \"count\": 511228}, {\"year\": 1910, \"count\": 590717}, {\"year\": 1911, \"count\": 644279}, {\"year\": 1912, \"count\": 988066}, {\"year\": 1913, \"count\": 1137114}, {\"year\": 1914, \"count\": 1416344}, {\"year\": 1915, \"count\": 1832457}, {\"year\": 1916, \"count\": 1934435}, {\"year\": 1917, \"count\": 2006769}, {\"year\": 1918, \"count\": 2171126}, {\"year\": 1919, \"count\": 2110273}, {\"year\": 1920, \"count\": 2262672}, {\"year\": 1921, \"count\": 2334522}, {\"year\": 1922, \"count\": 2289179}, {\"year\": 1923, \"count\": 2302526}, {\"year\": 1924, \"count\": 2381670}, {\"year\": 1925, \"count\": 2333326}, {\"year\": 1926, \"count\": 2295948}, {\"year\": 1927, \"count\": 2319310}, {\"year\": 1928, \"count\": 2260871}, {\"year\": 1929, \"count\": 2192114}, {\"year\": 1930, \"count\": 2223273}, {\"year\": 1931, \"count\": 2104141}, {\"year\": 1932, \"count\": 2111167}, {\"year\": 1933, \"count\": 1999219}, {\"year\": 1934, \"count\": 2076590}, {\"year\": 1935, \"count\": 2089659}, {\"year\": 1936, \"count\": 2077428}, {\"year\": 1937, \"count\": 2130462}, {\"year\": 1938, \"count\": 2212383}, {\"year\": 1939, \"count\": 2203297}, {\"year\": 1940, \"count\": 2302413}, {\"year\": 1941, \"count\": 2436125}, {\"year\": 1942, \"count\": 2731530}, {\"year\": 1943, \"count\": 2822224}, {\"year\": 1944, \"count\": 2689859}, {\"year\": 1945, \"count\": 2652659}, {\"year\": 1946, \"count\": 3195073}, {\"year\": 1947, \"count\": 3602059}, {\"year\": 1948, \"count\": 3452317}, {\"year\": 1949, \"count\": 3484564}, {\"year\": 1950, \"count\": 3503502}, {\"year\": 1951, \"count\": 3683732}, {\"year\": 1952, \"count\": 3798280}, {\"year\": 1953, \"count\": 3854131}, {\"year\": 1954, \"count\": 3979895}, {\"year\": 1955, \"count\": 4013766}, {\"year\": 1956, \"count\": 4122249}, {\"year\": 1957, \"count\": 4200022}, {\"year\": 1958, \"count\": 4131574}, {\"year\": 1959, \"count\": 4156341}, {\"year\": 1960, \"count\": 4154165}, {\"year\": 1961, \"count\": 4140301}, {\"year\": 1962, \"count\": 4035165}, {\"year\": 1963, \"count\": 3958659}, {\"year\": 1964, \"count\": 3887752}, {\"year\": 1965, \"count\": 3625863}, {\"year\": 1966, \"count\": 3475590}, {\"year\": 1967, \"count\": 3395045}, {\"year\": 1968, \"count\": 3378795}, {\"year\": 1969, \"count\": 3476028}, {\"year\": 1970, \"count\": 3607253}, {\"year\": 1971, \"count\": 3432509}, {\"year\": 1972, \"count\": 3143519}, {\"year\": 1973, \"count\": 3017381}, {\"year\": 1974, \"count\": 3040372}, {\"year\": 1975, \"count\": 3019889}, {\"year\": 1976, \"count\": 3034948}, {\"year\": 1977, \"count\": 3176923}, {\"year\": 1978, \"count\": 3174395}, {\"year\": 1979, \"count\": 3327503}, {\"year\": 1980, \"count\": 3444733}, {\"year\": 1981, \"count\": 3459424}, {\"year\": 1982, \"count\": 3507960}, {\"year\": 1983, \"count\": 3463143}, {\"year\": 1984, \"count\": 3488188}, {\"year\": 1985, \"count\": 3568419}, {\"year\": 1986, \"count\": 3556252}, {\"year\": 1987, \"count\": 3604738}, {\"year\": 1988, \"count\": 3693823}, {\"year\": 1989, \"count\": 3843751}, {\"year\": 1990, \"count\": 3951244}, {\"year\": 1991, \"count\": 3894531}, {\"year\": 1992, \"count\": 3840338}, {\"year\": 1993, \"count\": 3769439}, {\"year\": 1994, \"count\": 3716879}, {\"year\": 1995, \"count\": 3661471}, {\"year\": 1996, \"count\": 3646511}, {\"year\": 1997, \"count\": 3625071}, {\"year\": 1998, \"count\": 3677381}, {\"year\": 1999, \"count\": 3692840}, {\"year\": 2000, \"count\": 3778497}, {\"year\": 2001, \"count\": 3741868}, {\"year\": 2002, \"count\": 3736498}, {\"year\": 2003, \"count\": 3800447}, {\"year\": 2004, \"count\": 3818813}, {\"year\": 2005, \"count\": 3842547}, {\"year\": 2006, \"count\": 3953577}, {\"year\": 2007, \"count\": 3994837}, {\"year\": 2008, \"count\": 3927263}, {\"year\": 2009, \"count\": 3816543}, {\"year\": 2010, \"count\": 3691821}, {\"year\": 2011, \"count\": 3653166}, {\"year\": 2012, \"count\": 3652146}, {\"year\": 2013, \"count\": 3639329}, {\"year\": 2014, \"count\": 3698914}, {\"year\": 2015, \"count\": 3691990}, {\"year\": 2016, \"count\": 3657797}, {\"year\": 2017, \"count\": 3561975}, {\"year\": 2018, \"count\": 3487353}]}};\n",
       "var opt = {};\n",
       "var type = \"vega-lite\";\n",
       "var id = \"2ab98539-4c27-4e62-8e37-bc4593dd9e5b\";\n",
       "\n",
       "var output_area = this;\n",
       "\n",
       "require([\"nbextensions/jupyter-vega/index\"], function(vega) {\n",
       "  var target = document.createElement(\"div\");\n",
       "  target.id = id;\n",
       "  target.className = \"vega-embed\";\n",
       "\n",
       "  var style = document.createElement(\"style\");\n",
       "  style.textContent = [\n",
       "    \".vega-embed .error p {\",\n",
       "    \"  color: firebrick;\",\n",
       "    \"  font-size: 14px;\",\n",
       "    \"}\",\n",
       "  ].join(\"\\\\n\");\n",
       "\n",
       "  // element is a jQuery wrapped DOM element inside the output area\n",
       "  // see http://ipython.readthedocs.io/en/stable/api/generated/\\\n",
       "  // IPython.display.html#IPython.display.Javascript.__init__\n",
       "  element[0].appendChild(target);\n",
       "  element[0].appendChild(style);\n",
       "\n",
       "  vega.render(\"#\" + id, spec, type, opt, output_area);\n",
       "}, function (err) {\n",
       "  if (err.requireType !== \"scripterror\") {\n",
       "    throw(err);\n",
       "  }\n",
       "});\n"
      ],
      "text/plain": [
       "<vega.vegalite.VegaLite at 0x121b25da0>"
      ]
     },
     "metadata": {
      "jupyter-vega": "#2ab98539-4c27-4e62-8e37-bc4593dd9e5b"
     },
     "output_type": "display_data"
    },
    {
     "data": {
      "text/plain": []
     },
     "execution_count": 185,
     "metadata": {},
     "output_type": "execute_result"
    },
    {
     "data": {
      "image/png": "[encoded data removed]"
     },
     "metadata": {
      "jupyter-vega": "#2ab98539-4c27-4e62-8e37-bc4593dd9e5b"
     },
     "output_type": "display_data"
    }
   ],
   "source": [
    "alt.Chart(df_total_pop).mark_line().encode(x='year',y='count')"
   ]
  },
  {
   "cell_type": "code",
   "execution_count": 149,
   "metadata": {},
   "outputs": [],
   "source": [
    "# Joining Tables"
   ]
  },
  {
   "cell_type": "code",
   "execution_count": 187,
   "metadata": {},
   "outputs": [
    {
     "data": {
      "application/javascript": [
       "var spec = {\"config\": {\"view\": {\"width\": 400, \"height\": 300}, \"mark\": {\"tooltip\": null}}, \"data\": {\"name\": \"data-d86ca559b56d801c410d3745daa1ab3a\"}, \"mark\": \"line\", \"encoding\": {\"x\": {\"type\": \"quantitative\", \"field\": \"year\"}, \"y\": {\"type\": \"quantitative\", \"field\": \"percentage\"}}, \"$schema\": \"https://vega.github.io/schema/vega-lite/v3.3.0.json\", \"datasets\": {\"data-d86ca559b56d801c410d3745daa1ab3a\": [{\"name\": \"Tyrion\", \"gender\": \"M\", \"count_x\": 5, \"year\": 1997, \"count_y\": 3625071, \"percentage\": 0.0001379283329898918}, {\"name\": \"Tyrion\", \"gender\": \"M\", \"count_x\": 5, \"year\": 1998, \"count_y\": 3677381, \"percentage\": 0.00013596633038567393}, {\"name\": \"Tyrion\", \"gender\": \"M\", \"count_x\": 8, \"year\": 1999, \"count_y\": 3692840, \"percentage\": 0.00021663543505811246}, {\"name\": \"Tyrion\", \"gender\": \"M\", \"count_x\": 11, \"year\": 2000, \"count_y\": 3778497, \"percentage\": 0.00029112104627845414}, {\"name\": \"Tyrion\", \"gender\": \"M\", \"count_x\": 10, \"year\": 2001, \"count_y\": 3741868, \"percentage\": 0.0002672461989573122}, {\"name\": \"Tyrion\", \"gender\": \"M\", \"count_x\": 14, \"year\": 2002, \"count_y\": 3736498, \"percentage\": 0.00037468238976710275}, {\"name\": \"Tyrion\", \"gender\": \"M\", \"count_x\": 14, \"year\": 2003, \"count_y\": 3800447, \"percentage\": 0.00036837771977875236}, {\"name\": \"Tyrion\", \"gender\": \"M\", \"count_x\": 15, \"year\": 2004, \"count_y\": 3818813, \"percentage\": 0.00039279221056385844}, {\"name\": \"Tyrion\", \"gender\": \"M\", \"count_x\": 14, \"year\": 2005, \"count_y\": 3842547, \"percentage\": 0.0003643416723334809}, {\"name\": \"Tyrion\", \"gender\": \"M\", \"count_x\": 12, \"year\": 2006, \"count_y\": 3953577, \"percentage\": 0.00030352260750201655}, {\"name\": \"Tyrion\", \"gender\": \"M\", \"count_x\": 14, \"year\": 2007, \"count_y\": 3994837, \"percentage\": 0.000350452346366072}, {\"name\": \"Tyrion\", \"gender\": \"M\", \"count_x\": 16, \"year\": 2008, \"count_y\": 3927263, \"percentage\": 0.00040740841649769825}, {\"name\": \"Tyrion\", \"gender\": \"M\", \"count_x\": 17, \"year\": 2009, \"count_y\": 3816543, \"percentage\": 0.0004454292798482816}, {\"name\": \"Tyrion\", \"gender\": \"M\", \"count_x\": 11, \"year\": 2010, \"count_y\": 3691821, \"percentage\": 0.00029795594098413764}, {\"name\": \"Tyrion\", \"gender\": \"M\", \"count_x\": 18, \"year\": 2011, \"count_y\": 3653166, \"percentage\": 0.0004927232980926681}, {\"name\": \"Tyrion\", \"gender\": \"M\", \"count_x\": 20, \"year\": 2012, \"count_y\": 3652146, \"percentage\": 0.0005476232330251857}, {\"name\": \"Tyrion\", \"gender\": \"M\", \"count_x\": 44, \"year\": 2013, \"count_y\": 3639329, \"percentage\": 0.0012090140792437288}, {\"name\": \"Tyrion\", \"gender\": \"M\", \"count_x\": 60, \"year\": 2014, \"count_y\": 3698914, \"percentage\": 0.001622097729225389}, {\"name\": \"Tyrion\", \"gender\": \"M\", \"count_x\": 62, \"year\": 2015, \"count_y\": 3691990, \"percentage\": 0.001679311157397501}, {\"name\": \"Tyrion\", \"gender\": \"M\", \"count_x\": 58, \"year\": 2016, \"count_y\": 3657797, \"percentage\": 0.0015856538785503952}, {\"name\": \"Tyrion\", \"gender\": \"M\", \"count_x\": 55, \"year\": 2017, \"count_y\": 3561975, \"percentage\": 0.0015440871988152641}, {\"name\": \"Tyrion\", \"gender\": \"M\", \"count_x\": 58, \"year\": 2018, \"count_y\": 3487353, \"percentage\": 0.0016631525400497167}]}};\n",
       "var opt = {};\n",
       "var type = \"vega-lite\";\n",
       "var id = \"97953cc8-18c8-476c-a96e-22809d2977f4\";\n",
       "\n",
       "var output_area = this;\n",
       "\n",
       "require([\"nbextensions/jupyter-vega/index\"], function(vega) {\n",
       "  var target = document.createElement(\"div\");\n",
       "  target.id = id;\n",
       "  target.className = \"vega-embed\";\n",
       "\n",
       "  var style = document.createElement(\"style\");\n",
       "  style.textContent = [\n",
       "    \".vega-embed .error p {\",\n",
       "    \"  color: firebrick;\",\n",
       "    \"  font-size: 14px;\",\n",
       "    \"}\",\n",
       "  ].join(\"\\\\n\");\n",
       "\n",
       "  // element is a jQuery wrapped DOM element inside the output area\n",
       "  // see http://ipython.readthedocs.io/en/stable/api/generated/\\\n",
       "  // IPython.display.html#IPython.display.Javascript.__init__\n",
       "  element[0].appendChild(target);\n",
       "  element[0].appendChild(style);\n",
       "\n",
       "  vega.render(\"#\" + id, spec, type, opt, output_area);\n",
       "}, function (err) {\n",
       "  if (err.requireType !== \"scripterror\") {\n",
       "    throw(err);\n",
       "  }\n",
       "});\n"
      ],
      "text/plain": [
       "<vega.vegalite.VegaLite at 0x1223b4e80>"
      ]
     },
     "metadata": {
      "jupyter-vega": "#97953cc8-18c8-476c-a96e-22809d2977f4"
     },
     "output_type": "display_data"
    },
    {
     "data": {
      "text/plain": []
     },
     "execution_count": 187,
     "metadata": {},
     "output_type": "execute_result"
    },
    {
     "data": {
      "image/png": "[encoded data removed]"
     },
     "metadata": {
      "jupyter-vega": "#97953cc8-18c8-476c-a96e-22809d2977f4"
     },
     "output_type": "display_data"
    }
   ],
   "source": [
    "# df_total_pop, df_benjamin\n",
    "\n",
    "df_merged = pd.merge(df_benjamin, df_total_pop, on='year')\n",
    "df_merged['percentage'] = df_merged['count_x'] / df_merged['count_y'] * 100\n",
    "\n",
    "alt.Chart(df_merged).mark_line().encode(x='year',y='percentage')"
   ]
  },
  {
   "cell_type": "code",
   "execution_count": 195,
   "metadata": {},
   "outputs": [
    {
     "data": {
      "application/javascript": [
       "var spec = {\"config\": {\"view\": {\"width\": 400, \"height\": 300}, \"mark\": {\"tooltip\": null}}, \"data\": {\"name\": \"data-9b9852b183c310fc0d328b879e0c1145\"}, \"mark\": \"line\", \"encoding\": {\"x\": {\"type\": \"quantitative\", \"field\": \"year\"}, \"y\": {\"type\": \"quantitative\", \"field\": \"single_count\"}}, \"$schema\": \"https://vega.github.io/schema/vega-lite/v3.3.0.json\", \"datasets\": {\"data-9b9852b183c310fc0d328b879e0c1145\": [{\"year\": 1880, \"single_count\": 2000}, {\"year\": 1881, \"single_count\": 1935}, {\"year\": 1882, \"single_count\": 2127}, {\"year\": 1883, \"single_count\": 2084}, {\"year\": 1884, \"single_count\": 2297}, {\"year\": 1885, \"single_count\": 2294}, {\"year\": 1886, \"single_count\": 2392}, {\"year\": 1887, \"single_count\": 2373}, {\"year\": 1888, \"single_count\": 2651}, {\"year\": 1889, \"single_count\": 2590}, {\"year\": 1890, \"single_count\": 2695}, {\"year\": 1891, \"single_count\": 2660}, {\"year\": 1892, \"single_count\": 2921}, {\"year\": 1893, \"single_count\": 2831}, {\"year\": 1894, \"single_count\": 2941}, {\"year\": 1895, \"single_count\": 3049}, {\"year\": 1896, \"single_count\": 3091}, {\"year\": 1897, \"single_count\": 3028}, {\"year\": 1898, \"single_count\": 3264}, {\"year\": 1899, \"single_count\": 3042}, {\"year\": 1900, \"single_count\": 3730}, {\"year\": 1901, \"single_count\": 3153}, {\"year\": 1902, \"single_count\": 3362}, {\"year\": 1903, \"single_count\": 3389}, {\"year\": 1904, \"single_count\": 3560}, {\"year\": 1905, \"single_count\": 3655}, {\"year\": 1906, \"single_count\": 3633}, {\"year\": 1907, \"single_count\": 3948}, {\"year\": 1908, \"single_count\": 4018}, {\"year\": 1909, \"single_count\": 4227}, {\"year\": 1910, \"single_count\": 4629}, {\"year\": 1911, \"single_count\": 4867}, {\"year\": 1912, \"single_count\": 6351}, {\"year\": 1913, \"single_count\": 6968}, {\"year\": 1914, \"single_count\": 7965}, {\"year\": 1915, \"single_count\": 9357}, {\"year\": 1916, \"single_count\": 9696}, {\"year\": 1917, \"single_count\": 9913}, {\"year\": 1918, \"single_count\": 10398}, {\"year\": 1919, \"single_count\": 10369}, {\"year\": 1920, \"single_count\": 10756}, {\"year\": 1921, \"single_count\": 10857}, {\"year\": 1922, \"single_count\": 10756}, {\"year\": 1923, \"single_count\": 10643}, {\"year\": 1924, \"single_count\": 10869}, {\"year\": 1925, \"single_count\": 10638}, {\"year\": 1926, \"single_count\": 10458}, {\"year\": 1927, \"single_count\": 10406}, {\"year\": 1928, \"single_count\": 10159}, {\"year\": 1929, \"single_count\": 9820}, {\"year\": 1930, \"single_count\": 9791}, {\"year\": 1931, \"single_count\": 9298}, {\"year\": 1932, \"single_count\": 9381}, {\"year\": 1933, \"single_count\": 9013}, {\"year\": 1934, \"single_count\": 9180}, {\"year\": 1935, \"single_count\": 9037}, {\"year\": 1936, \"single_count\": 8894}, {\"year\": 1937, \"single_count\": 8946}, {\"year\": 1938, \"single_count\": 9032}, {\"year\": 1939, \"single_count\": 8918}, {\"year\": 1940, \"single_count\": 8961}, {\"year\": 1941, \"single_count\": 9085}, {\"year\": 1942, \"single_count\": 9425}, {\"year\": 1943, \"single_count\": 9408}, {\"year\": 1944, \"single_count\": 9152}, {\"year\": 1945, \"single_count\": 9025}, {\"year\": 1946, \"single_count\": 9705}, {\"year\": 1947, \"single_count\": 10371}, {\"year\": 1948, \"single_count\": 10241}, {\"year\": 1949, \"single_count\": 10269}, {\"year\": 1950, \"single_count\": 10303}, {\"year\": 1951, \"single_count\": 10462}, {\"year\": 1952, \"single_count\": 10646}, {\"year\": 1953, \"single_count\": 10837}, {\"year\": 1954, \"single_count\": 10968}, {\"year\": 1955, \"single_count\": 11115}, {\"year\": 1956, \"single_count\": 11340}, {\"year\": 1957, \"single_count\": 11564}, {\"year\": 1958, \"single_count\": 11522}, {\"year\": 1959, \"single_count\": 11767}, {\"year\": 1960, \"single_count\": 11921}, {\"year\": 1961, \"single_count\": 12182}, {\"year\": 1962, \"single_count\": 12209}, {\"year\": 1963, \"single_count\": 12282}, {\"year\": 1964, \"single_count\": 12397}, {\"year\": 1965, \"single_count\": 11952}, {\"year\": 1966, \"single_count\": 12151}, {\"year\": 1967, \"single_count\": 12397}, {\"year\": 1968, \"single_count\": 12936}, {\"year\": 1969, \"single_count\": 13749}, {\"year\": 1970, \"single_count\": 14779}, {\"year\": 1971, \"single_count\": 15295}, {\"year\": 1972, \"single_count\": 15412}, {\"year\": 1973, \"single_count\": 15682}, {\"year\": 1974, \"single_count\": 16249}, {\"year\": 1975, \"single_count\": 16944}, {\"year\": 1976, \"single_count\": 17391}, {\"year\": 1977, \"single_count\": 18175}, {\"year\": 1978, \"single_count\": 18231}, {\"year\": 1979, \"single_count\": 19039}, {\"year\": 1980, \"single_count\": 19452}, {\"year\": 1981, \"single_count\": 19475}, {\"year\": 1982, \"single_count\": 19694}, {\"year\": 1983, \"single_count\": 19407}, {\"year\": 1984, \"single_count\": 19506}, {\"year\": 1985, \"single_count\": 20085}, {\"year\": 1986, \"single_count\": 20657}, {\"year\": 1987, \"single_count\": 21406}, {\"year\": 1988, \"single_count\": 22367}, {\"year\": 1989, \"single_count\": 23775}, {\"year\": 1990, \"single_count\": 24716}, {\"year\": 1991, \"single_count\": 25109}, {\"year\": 1992, \"single_count\": 25427}, {\"year\": 1993, \"single_count\": 25966}, {\"year\": 1994, \"single_count\": 25997}, {\"year\": 1995, \"single_count\": 26080}, {\"year\": 1996, \"single_count\": 26423}, {\"year\": 1997, \"single_count\": 26970}, {\"year\": 1998, \"single_count\": 27902}, {\"year\": 1999, \"single_count\": 28552}, {\"year\": 2000, \"single_count\": 29772}, {\"year\": 2001, \"single_count\": 30274}, {\"year\": 2002, \"single_count\": 30564}, {\"year\": 2003, \"single_count\": 31185}, {\"year\": 2004, \"single_count\": 32048}, {\"year\": 2005, \"single_count\": 32549}, {\"year\": 2006, \"single_count\": 34088}, {\"year\": 2007, \"single_count\": 34961}, {\"year\": 2008, \"single_count\": 35079}, {\"year\": 2009, \"single_count\": 34709}, {\"year\": 2010, \"single_count\": 34073}, {\"year\": 2011, \"single_count\": 33908}, {\"year\": 2012, \"single_count\": 33747}, {\"year\": 2013, \"single_count\": 33282}, {\"year\": 2014, \"single_count\": 33243}, {\"year\": 2015, \"single_count\": 33121}, {\"year\": 2016, \"single_count\": 33010}, {\"year\": 2017, \"single_count\": 32590}, {\"year\": 2018, \"single_count\": 32033}]}};\n",
       "var opt = {};\n",
       "var type = \"vega-lite\";\n",
       "var id = \"91168d53-1df8-4496-b9ba-1498659c469d\";\n",
       "\n",
       "var output_area = this;\n",
       "\n",
       "require([\"nbextensions/jupyter-vega/index\"], function(vega) {\n",
       "  var target = document.createElement(\"div\");\n",
       "  target.id = id;\n",
       "  target.className = \"vega-embed\";\n",
       "\n",
       "  var style = document.createElement(\"style\");\n",
       "  style.textContent = [\n",
       "    \".vega-embed .error p {\",\n",
       "    \"  color: firebrick;\",\n",
       "    \"  font-size: 14px;\",\n",
       "    \"}\",\n",
       "  ].join(\"\\\\n\");\n",
       "\n",
       "  // element is a jQuery wrapped DOM element inside the output area\n",
       "  // see http://ipython.readthedocs.io/en/stable/api/generated/\\\n",
       "  // IPython.display.html#IPython.display.Javascript.__init__\n",
       "  element[0].appendChild(target);\n",
       "  element[0].appendChild(style);\n",
       "\n",
       "  vega.render(\"#\" + id, spec, type, opt, output_area);\n",
       "}, function (err) {\n",
       "  if (err.requireType !== \"scripterror\") {\n",
       "    throw(err);\n",
       "  }\n",
       "});\n"
      ],
      "text/plain": [
       "<vega.vegalite.VegaLite at 0x121b2f160>"
      ]
     },
     "metadata": {
      "jupyter-vega": "#91168d53-1df8-4496-b9ba-1498659c469d"
     },
     "output_type": "display_data"
    },
    {
     "data": {
      "text/plain": []
     },
     "execution_count": 195,
     "metadata": {},
     "output_type": "execute_result"
    },
    {
     "data": {
      "image/png": "[encoded data removed]"
     },
     "metadata": {
      "jupyter-vega": "#91168d53-1df8-4496-b9ba-1498659c469d"
     },
     "output_type": "display_data"
    }
   ],
   "source": [
    "temp = all_records['single_count'] = 1\n",
    "groups = all_records.groupby(['year'])\n",
    "\n",
    "count_by_year = groups['single_count'].agg(sum).to_frame().reset_index()\n",
    "\n",
    "alt.Chart(count_by_year).mark_line().encode(x='year',y='single_count')"
   ]
  },
  {
   "cell_type": "code",
   "execution_count": 211,
   "metadata": {},
   "outputs": [
    {
     "data": {
      "application/javascript": [
       "var spec = {\"config\": {\"view\": {\"width\": 400, \"height\": 300}, \"mark\": {\"tooltip\": null}}, \"data\": {\"name\": \"data-fc5de4fafd87f6abdbe94a0db99096df\"}, \"mark\": \"line\", \"encoding\": {\"x\": {\"type\": \"quantitative\", \"field\": \"year\"}, \"y\": {\"type\": \"quantitative\", \"field\": \"count\"}}, \"$schema\": \"https://vega.github.io/schema/vega-lite/v3.3.0.json\", \"datasets\": {\"data-fc5de4fafd87f6abdbe94a0db99096df\": [{\"year\": 1880, \"count\": 2000}, {\"year\": 1881, \"count\": 1935}, {\"year\": 1882, \"count\": 2127}, {\"year\": 1883, \"count\": 2084}, {\"year\": 1884, \"count\": 2297}, {\"year\": 1885, \"count\": 2294}, {\"year\": 1886, \"count\": 2392}, {\"year\": 1887, \"count\": 2373}, {\"year\": 1888, \"count\": 2651}, {\"year\": 1889, \"count\": 2590}, {\"year\": 1890, \"count\": 2695}, {\"year\": 1891, \"count\": 2660}, {\"year\": 1892, \"count\": 2921}, {\"year\": 1893, \"count\": 2831}, {\"year\": 1894, \"count\": 2941}, {\"year\": 1895, \"count\": 3049}, {\"year\": 1896, \"count\": 3091}, {\"year\": 1897, \"count\": 3028}, {\"year\": 1898, \"count\": 3264}, {\"year\": 1899, \"count\": 3042}, {\"year\": 1900, \"count\": 3730}, {\"year\": 1901, \"count\": 3153}, {\"year\": 1902, \"count\": 3362}, {\"year\": 1903, \"count\": 3389}, {\"year\": 1904, \"count\": 3560}, {\"year\": 1905, \"count\": 3655}, {\"year\": 1906, \"count\": 3633}, {\"year\": 1907, \"count\": 3948}, {\"year\": 1908, \"count\": 4018}, {\"year\": 1909, \"count\": 4227}, {\"year\": 1910, \"count\": 4629}, {\"year\": 1911, \"count\": 4867}, {\"year\": 1912, \"count\": 6351}, {\"year\": 1913, \"count\": 6968}, {\"year\": 1914, \"count\": 7965}, {\"year\": 1915, \"count\": 9357}, {\"year\": 1916, \"count\": 9696}, {\"year\": 1917, \"count\": 9913}, {\"year\": 1918, \"count\": 10398}, {\"year\": 1919, \"count\": 10369}, {\"year\": 1920, \"count\": 10756}, {\"year\": 1921, \"count\": 10857}, {\"year\": 1922, \"count\": 10756}, {\"year\": 1923, \"count\": 10643}, {\"year\": 1924, \"count\": 10869}, {\"year\": 1925, \"count\": 10638}, {\"year\": 1926, \"count\": 10458}, {\"year\": 1927, \"count\": 10406}, {\"year\": 1928, \"count\": 10159}, {\"year\": 1929, \"count\": 9820}, {\"year\": 1930, \"count\": 9791}, {\"year\": 1931, \"count\": 9298}, {\"year\": 1932, \"count\": 9381}, {\"year\": 1933, \"count\": 9013}, {\"year\": 1934, \"count\": 9180}, {\"year\": 1935, \"count\": 9037}, {\"year\": 1936, \"count\": 8894}, {\"year\": 1937, \"count\": 8946}, {\"year\": 1938, \"count\": 9032}, {\"year\": 1939, \"count\": 8918}, {\"year\": 1940, \"count\": 8961}, {\"year\": 1941, \"count\": 9085}, {\"year\": 1942, \"count\": 9425}, {\"year\": 1943, \"count\": 9408}, {\"year\": 1944, \"count\": 9152}, {\"year\": 1945, \"count\": 9025}, {\"year\": 1946, \"count\": 9705}, {\"year\": 1947, \"count\": 10371}, {\"year\": 1948, \"count\": 10241}, {\"year\": 1949, \"count\": 10269}, {\"year\": 1950, \"count\": 10303}, {\"year\": 1951, \"count\": 10462}, {\"year\": 1952, \"count\": 10646}, {\"year\": 1953, \"count\": 10837}, {\"year\": 1954, \"count\": 10968}, {\"year\": 1955, \"count\": 11115}, {\"year\": 1956, \"count\": 11340}, {\"year\": 1957, \"count\": 11564}, {\"year\": 1958, \"count\": 11522}, {\"year\": 1959, \"count\": 11767}, {\"year\": 1960, \"count\": 11921}, {\"year\": 1961, \"count\": 12182}, {\"year\": 1962, \"count\": 12209}, {\"year\": 1963, \"count\": 12282}, {\"year\": 1964, \"count\": 12397}, {\"year\": 1965, \"count\": 11952}, {\"year\": 1966, \"count\": 12151}, {\"year\": 1967, \"count\": 12397}, {\"year\": 1968, \"count\": 12936}, {\"year\": 1969, \"count\": 13749}, {\"year\": 1970, \"count\": 14779}, {\"year\": 1971, \"count\": 15295}, {\"year\": 1972, \"count\": 15412}, {\"year\": 1973, \"count\": 15682}, {\"year\": 1974, \"count\": 16249}, {\"year\": 1975, \"count\": 16944}, {\"year\": 1976, \"count\": 17391}, {\"year\": 1977, \"count\": 18175}, {\"year\": 1978, \"count\": 18231}, {\"year\": 1979, \"count\": 19039}, {\"year\": 1980, \"count\": 19452}, {\"year\": 1981, \"count\": 19475}, {\"year\": 1982, \"count\": 19694}, {\"year\": 1983, \"count\": 19407}, {\"year\": 1984, \"count\": 19506}, {\"year\": 1985, \"count\": 20085}, {\"year\": 1986, \"count\": 20657}, {\"year\": 1987, \"count\": 21406}, {\"year\": 1988, \"count\": 22367}, {\"year\": 1989, \"count\": 23775}, {\"year\": 1990, \"count\": 24716}, {\"year\": 1991, \"count\": 25109}, {\"year\": 1992, \"count\": 25427}, {\"year\": 1993, \"count\": 25966}, {\"year\": 1994, \"count\": 25997}, {\"year\": 1995, \"count\": 26080}, {\"year\": 1996, \"count\": 26423}, {\"year\": 1997, \"count\": 26970}, {\"year\": 1998, \"count\": 27902}, {\"year\": 1999, \"count\": 28552}, {\"year\": 2000, \"count\": 29772}, {\"year\": 2001, \"count\": 30274}, {\"year\": 2002, \"count\": 30564}, {\"year\": 2003, \"count\": 31185}, {\"year\": 2004, \"count\": 32048}, {\"year\": 2005, \"count\": 32549}, {\"year\": 2006, \"count\": 34088}, {\"year\": 2007, \"count\": 34961}, {\"year\": 2008, \"count\": 35079}, {\"year\": 2009, \"count\": 34709}, {\"year\": 2010, \"count\": 34073}, {\"year\": 2011, \"count\": 33908}, {\"year\": 2012, \"count\": 33747}, {\"year\": 2013, \"count\": 33282}, {\"year\": 2014, \"count\": 33243}, {\"year\": 2015, \"count\": 33121}, {\"year\": 2016, \"count\": 33010}, {\"year\": 2017, \"count\": 32590}, {\"year\": 2018, \"count\": 32033}]}};\n",
       "var opt = {};\n",
       "var type = \"vega-lite\";\n",
       "var id = \"d25189bd-d5d9-47a7-90b3-5c2a0fa2768d\";\n",
       "\n",
       "var output_area = this;\n",
       "\n",
       "require([\"nbextensions/jupyter-vega/index\"], function(vega) {\n",
       "  var target = document.createElement(\"div\");\n",
       "  target.id = id;\n",
       "  target.className = \"vega-embed\";\n",
       "\n",
       "  var style = document.createElement(\"style\");\n",
       "  style.textContent = [\n",
       "    \".vega-embed .error p {\",\n",
       "    \"  color: firebrick;\",\n",
       "    \"  font-size: 14px;\",\n",
       "    \"}\",\n",
       "  ].join(\"\\\\n\");\n",
       "\n",
       "  // element is a jQuery wrapped DOM element inside the output area\n",
       "  // see http://ipython.readthedocs.io/en/stable/api/generated/\\\n",
       "  // IPython.display.html#IPython.display.Javascript.__init__\n",
       "  element[0].appendChild(target);\n",
       "  element[0].appendChild(style);\n",
       "\n",
       "  vega.render(\"#\" + id, spec, type, opt, output_area);\n",
       "}, function (err) {\n",
       "  if (err.requireType !== \"scripterror\") {\n",
       "    throw(err);\n",
       "  }\n",
       "});\n"
      ],
      "text/plain": [
       "<vega.vegalite.VegaLite at 0x121b41470>"
      ]
     },
     "metadata": {
      "jupyter-vega": "#d25189bd-d5d9-47a7-90b3-5c2a0fa2768d"
     },
     "output_type": "display_data"
    },
    {
     "data": {
      "text/plain": []
     },
     "execution_count": 211,
     "metadata": {},
     "output_type": "execute_result"
    },
    {
     "data": {
      "image/png": "[encoded data removed]"
     },
     "metadata": {
      "jupyter-vega": "#d25189bd-d5d9-47a7-90b3-5c2a0fa2768d"
     },
     "output_type": "display_data"
    }
   ],
   "source": [
    "groups = all_records.groupby(['year'])\n",
    "count_by_year = groups['count'].agg('count').to_frame().reset_index()\n",
    "\n",
    "alt.Chart(count_by_year).mark_line().encode(x='year',y='count')"
   ]
  },
  {
   "cell_type": "code",
   "execution_count": 270,
   "metadata": {},
   "outputs": [
    {
     "data": {
      "text/plain": [
       "{'letter': 'a', 'percentage': 16.994968777876895}"
      ]
     },
     "metadata": {},
     "output_type": "display_data"
    },
    {
     "data": {
      "text/html": [
       "<div>\n",
       "<style scoped>\n",
       "    .dataframe tbody tr th:only-of-type {\n",
       "        vertical-align: middle;\n",
       "    }\n",
       "\n",
       "    .dataframe tbody tr th {\n",
       "        vertical-align: top;\n",
       "    }\n",
       "\n",
       "    .dataframe thead th {\n",
       "        text-align: right;\n",
       "    }\n",
       "</style>\n",
       "<table border=\"1\" class=\"dataframe\">\n",
       "  <thead>\n",
       "    <tr style=\"text-align: right;\">\n",
       "      <th></th>\n",
       "      <th>letter</th>\n",
       "      <th>percentage</th>\n",
       "    </tr>\n",
       "  </thead>\n",
       "  <tbody>\n",
       "  </tbody>\n",
       "</table>\n",
       "</div>"
      ],
      "text/plain": [
       "Empty DataFrame\n",
       "Columns: [letter, percentage]\n",
       "Index: []"
      ]
     },
     "execution_count": 270,
     "metadata": {},
     "output_type": "execute_result"
    }
   ],
   "source": [
    "names = all_records['name']\n",
    "all_records['last_letter'] = [string[-1] for string in names]\n",
    "last_letter_group = all_records.groupby([\"last_letter\", \"gender\"])\n",
    "\n",
    "\n",
    "last_letter_group = last_letter_group['count'].agg('count').to_frame().reset_index()\n",
    "#display(last_letter_group)\n",
    "#alt.Chart(last_letter_group).mark_bar().encode(x='last_letter',y='count')\n",
    "\n",
    "last_letter_group = last_letter_group.groupby(\"last_letter\")\n",
    "\n",
    "dfObj = pd.DataFrame([], columns = ['letter' , 'percentage'])\n",
    "\n",
    "for item in last_letter_group:\n",
    "    percentage = item[1]['count'][0] / item[1]['count'][1]\n",
    "    letter = item[1].last_letter[0]\n",
    "    display({\"letter\": letter, \"percentage\": percentage})\n",
    "    dfObj.append({\"letter\": letter, \"percentage\": percentage} , ignore_index=True)\n",
    "    break\n",
    "    \n",
    "dfObj"
   ]
  },
  {
   "cell_type": "code",
   "execution_count": 269,
   "metadata": {},
   "outputs": [
    {
     "data": {
      "application/javascript": [
       "var spec = {\"config\": {\"view\": {\"width\": 400, \"height\": 300}, \"mark\": {\"tooltip\": null}}, \"data\": {\"name\": \"data-dd41882844b3bdb3c1937b3613b6b150\"}, \"mark\": \"bar\", \"encoding\": {\"x\": {\"type\": \"nominal\", \"field\": \"last_letter\"}, \"y\": {\"type\": \"quantitative\", \"field\": \"count\"}}, \"$schema\": \"https://vega.github.io/schema/vega-lite/v3.3.0.json\", \"datasets\": {\"data-dd41882844b3bdb3c1937b3613b6b150\": [{\"last_letter\": \"a\", \"gender\": \"F\", \"count\": 476284}, {\"last_letter\": \"a\", \"gender\": \"M\", \"count\": 28025}, {\"last_letter\": \"b\", \"gender\": \"F\", \"count\": 588}, {\"last_letter\": \"b\", \"gender\": \"M\", \"count\": 4059}, {\"last_letter\": \"c\", \"gender\": \"F\", \"count\": 863}, {\"last_letter\": \"c\", \"gender\": \"M\", \"count\": 5814}, {\"last_letter\": \"d\", \"gender\": \"F\", \"count\": 7101}, {\"last_letter\": \"d\", \"gender\": \"M\", \"count\": 40360}, {\"last_letter\": \"e\", \"gender\": \"F\", \"count\": 251047}, {\"last_letter\": \"e\", \"gender\": \"M\", \"count\": 99156}, {\"last_letter\": \"f\", \"gender\": \"F\", \"count\": 193}, {\"last_letter\": \"f\", \"gender\": \"M\", \"count\": 3613}, {\"last_letter\": \"g\", \"gender\": \"F\", \"count\": 1929}, {\"last_letter\": \"g\", \"gender\": \"M\", \"count\": 5768}, {\"last_letter\": \"h\", \"gender\": \"F\", \"count\": 53990}, {\"last_letter\": \"h\", \"gender\": \"M\", \"count\": 22164}, {\"last_letter\": \"i\", \"gender\": \"F\", \"count\": 57191}, {\"last_letter\": \"i\", \"gender\": \"M\", \"count\": 23199}, {\"last_letter\": \"j\", \"gender\": \"F\", \"count\": 246}, {\"last_letter\": \"j\", \"gender\": \"M\", \"count\": 1674}, {\"last_letter\": \"k\", \"gender\": \"F\", \"count\": 1766}, {\"last_letter\": \"k\", \"gender\": \"M\", \"count\": 16405}, {\"last_letter\": \"l\", \"gender\": \"F\", \"count\": 39370}, {\"last_letter\": \"l\", \"gender\": \"M\", \"count\": 67259}, {\"last_letter\": \"m\", \"gender\": \"F\", \"count\": 4534}, {\"last_letter\": \"m\", \"gender\": \"M\", \"count\": 15557}, {\"last_letter\": \"n\", \"gender\": \"F\", \"count\": 121342}, {\"last_letter\": \"n\", \"gender\": \"M\", \"count\": 199404}, {\"last_letter\": \"o\", \"gender\": \"F\", \"count\": 9153}, {\"last_letter\": \"o\", \"gender\": \"M\", \"count\": 60122}, {\"last_letter\": \"p\", \"gender\": \"F\", \"count\": 389}, {\"last_letter\": \"p\", \"gender\": \"M\", \"count\": 2189}, {\"last_letter\": \"q\", \"gender\": \"F\", \"count\": 52}, {\"last_letter\": \"q\", \"gender\": \"M\", \"count\": 675}, {\"last_letter\": \"r\", \"gender\": \"F\", \"count\": 16326}, {\"last_letter\": \"r\", \"gender\": \"M\", \"count\": 47561}, {\"last_letter\": \"s\", \"gender\": \"F\", \"count\": 21980}, {\"last_letter\": \"s\", \"gender\": \"M\", \"count\": 58711}, {\"last_letter\": \"t\", \"gender\": \"F\", \"count\": 12168}, {\"last_letter\": \"t\", \"gender\": \"M\", \"count\": 23587}, {\"last_letter\": \"u\", \"gender\": \"F\", \"count\": 2515}, {\"last_letter\": \"u\", \"gender\": \"M\", \"count\": 3387}, {\"last_letter\": \"v\", \"gender\": \"F\", \"count\": 134}, {\"last_letter\": \"v\", \"gender\": \"M\", \"count\": 2004}, {\"last_letter\": \"w\", \"gender\": \"F\", \"count\": 782}, {\"last_letter\": \"w\", \"gender\": \"M\", \"count\": 2491}, {\"last_letter\": \"x\", \"gender\": \"F\", \"count\": 1224}, {\"last_letter\": \"x\", \"gender\": \"M\", \"count\": 2681}, {\"last_letter\": \"y\", \"gender\": \"F\", \"count\": 73111}, {\"last_letter\": \"y\", \"gender\": \"M\", \"count\": 59570}, {\"last_letter\": \"z\", \"gender\": \"F\", \"count\": 2249}, {\"last_letter\": \"z\", \"gender\": \"M\", \"count\": 5084}]}};\n",
       "var opt = {};\n",
       "var type = \"vega-lite\";\n",
       "var id = \"5d6c3018-39be-41e9-9e6f-bf38ef1be6b3\";\n",
       "\n",
       "var output_area = this;\n",
       "\n",
       "require([\"nbextensions/jupyter-vega/index\"], function(vega) {\n",
       "  var target = document.createElement(\"div\");\n",
       "  target.id = id;\n",
       "  target.className = \"vega-embed\";\n",
       "\n",
       "  var style = document.createElement(\"style\");\n",
       "  style.textContent = [\n",
       "    \".vega-embed .error p {\",\n",
       "    \"  color: firebrick;\",\n",
       "    \"  font-size: 14px;\",\n",
       "    \"}\",\n",
       "  ].join(\"\\\\n\");\n",
       "\n",
       "  // element is a jQuery wrapped DOM element inside the output area\n",
       "  // see http://ipython.readthedocs.io/en/stable/api/generated/\\\n",
       "  // IPython.display.html#IPython.display.Javascript.__init__\n",
       "  element[0].appendChild(target);\n",
       "  element[0].appendChild(style);\n",
       "\n",
       "  vega.render(\"#\" + id, spec, type, opt, output_area);\n",
       "}, function (err) {\n",
       "  if (err.requireType !== \"scripterror\") {\n",
       "    throw(err);\n",
       "  }\n",
       "});\n"
      ],
      "text/plain": [
       "<vega.vegalite.VegaLite at 0x121b43f28>"
      ]
     },
     "metadata": {
      "jupyter-vega": "#5d6c3018-39be-41e9-9e6f-bf38ef1be6b3"
     },
     "output_type": "display_data"
    },
    {
     "data": {
      "text/plain": []
     },
     "execution_count": 269,
     "metadata": {},
     "output_type": "execute_result"
    },
    {
     "data": {
      "image/png": "[encoded data removed]"
     },
     "metadata": {
      "jupyter-vega": "#5d6c3018-39be-41e9-9e6f-bf38ef1be6b3"
     },
     "output_type": "display_data"
    }
   ],
   "source": [
    "names = all_records['name']\n",
    "all_records['last_letter'] = [string[-1] for string in names]\n",
    "last_letter_group = all_records.groupby([\"last_letter\", \"gender\"])\n",
    "\n",
    "\n",
    "last_letter_group = last_letter_group['count'].agg('count').to_frame().reset_index()\n",
    "#display(last_letter_group)\n",
    "alt.Chart(last_letter_group).mark_bar().encode(x='last_letter',y='count')\n"
   ]
  },
  {
   "cell_type": "code",
   "execution_count": 259,
   "metadata": {},
   "outputs": [
    {
     "data": {
      "text/plain": [
       "('a',               name gender  count  year  single_count last_letter\n",
       " 1             Anna      F   2604  1880             1           a\n",
       " 2             Emma      F   2003  1880             1           a\n",
       " 6              Ida      F   1472  1880             1           a\n",
       " 8           Bertha      F   1320  1880             1           a\n",
       " 11           Clara      F   1226  1880             1           a\n",
       " ...            ...    ...    ...   ...           ...         ...\n",
       " 1956829  Tifeoluwa      M      5  2018             1           a\n",
       " 1956841   Tobiloba      M      5  2018             1           a\n",
       " 1956890     Vantha      M      5  2018             1           a\n",
       " 1956955      Yehya      M      5  2018             1           a\n",
       " 1957035       Zola      M      5  2018             1           a\n",
       " \n",
       " [504309 rows x 6 columns])"
      ]
     },
     "metadata": {},
     "output_type": "display_data"
    }
   ],
   "source": [
    "names = all_records['name']\n",
    "all_records['last_letter'] = [string[-1] for string in names]\n",
    "last_letter_group = all_records.groupby([\"last_letter\"])\n",
    "\n",
    "for item in last_letter_group:\n",
    "    display(item)\n",
    "    break\n",
    "    \n"
   ]
  },
  {
   "cell_type": "code",
   "execution_count": 246,
   "metadata": {},
   "outputs": [
    {
     "data": {
      "text/plain": [
       "('a',   last_letter gender   count\n",
       " 0           a      F  476284\n",
       " 1           a      M   28025)"
      ]
     },
     "metadata": {},
     "output_type": "display_data"
    },
    {
     "data": {
      "text/plain": [
       "('b',   last_letter gender  count\n",
       " 2           b      F    588\n",
       " 3           b      M   4059)"
      ]
     },
     "metadata": {},
     "output_type": "display_data"
    },
    {
     "data": {
      "text/plain": [
       "('c',   last_letter gender  count\n",
       " 4           c      F    863\n",
       " 5           c      M   5814)"
      ]
     },
     "metadata": {},
     "output_type": "display_data"
    },
    {
     "data": {
      "text/plain": [
       "('d',   last_letter gender  count\n",
       " 6           d      F   7101\n",
       " 7           d      M  40360)"
      ]
     },
     "metadata": {},
     "output_type": "display_data"
    },
    {
     "data": {
      "text/plain": [
       "('e',   last_letter gender   count\n",
       " 8           e      F  251047\n",
       " 9           e      M   99156)"
      ]
     },
     "metadata": {},
     "output_type": "display_data"
    },
    {
     "data": {
      "text/plain": [
       "('f',    last_letter gender  count\n",
       " 10           f      F    193\n",
       " 11           f      M   3613)"
      ]
     },
     "metadata": {},
     "output_type": "display_data"
    },
    {
     "data": {
      "text/plain": [
       "('g',    last_letter gender  count\n",
       " 12           g      F   1929\n",
       " 13           g      M   5768)"
      ]
     },
     "metadata": {},
     "output_type": "display_data"
    },
    {
     "data": {
      "text/plain": [
       "('h',    last_letter gender  count\n",
       " 14           h      F  53990\n",
       " 15           h      M  22164)"
      ]
     },
     "metadata": {},
     "output_type": "display_data"
    },
    {
     "data": {
      "text/plain": [
       "('i',    last_letter gender  count\n",
       " 16           i      F  57191\n",
       " 17           i      M  23199)"
      ]
     },
     "metadata": {},
     "output_type": "display_data"
    },
    {
     "data": {
      "text/plain": [
       "('j',    last_letter gender  count\n",
       " 18           j      F    246\n",
       " 19           j      M   1674)"
      ]
     },
     "metadata": {},
     "output_type": "display_data"
    },
    {
     "data": {
      "text/plain": [
       "('k',    last_letter gender  count\n",
       " 20           k      F   1766\n",
       " 21           k      M  16405)"
      ]
     },
     "metadata": {},
     "output_type": "display_data"
    },
    {
     "data": {
      "text/plain": [
       "('l',    last_letter gender  count\n",
       " 22           l      F  39370\n",
       " 23           l      M  67259)"
      ]
     },
     "metadata": {},
     "output_type": "display_data"
    },
    {
     "data": {
      "text/plain": [
       "('m',    last_letter gender  count\n",
       " 24           m      F   4534\n",
       " 25           m      M  15557)"
      ]
     },
     "metadata": {},
     "output_type": "display_data"
    },
    {
     "data": {
      "text/plain": [
       "('n',    last_letter gender   count\n",
       " 26           n      F  121342\n",
       " 27           n      M  199404)"
      ]
     },
     "metadata": {},
     "output_type": "display_data"
    },
    {
     "data": {
      "text/plain": [
       "('o',    last_letter gender  count\n",
       " 28           o      F   9153\n",
       " 29           o      M  60122)"
      ]
     },
     "metadata": {},
     "output_type": "display_data"
    },
    {
     "data": {
      "text/plain": [
       "('p',    last_letter gender  count\n",
       " 30           p      F    389\n",
       " 31           p      M   2189)"
      ]
     },
     "metadata": {},
     "output_type": "display_data"
    },
    {
     "data": {
      "text/plain": [
       "('q',    last_letter gender  count\n",
       " 32           q      F     52\n",
       " 33           q      M    675)"
      ]
     },
     "metadata": {},
     "output_type": "display_data"
    },
    {
     "data": {
      "text/plain": [
       "('r',    last_letter gender  count\n",
       " 34           r      F  16326\n",
       " 35           r      M  47561)"
      ]
     },
     "metadata": {},
     "output_type": "display_data"
    },
    {
     "data": {
      "text/plain": [
       "('s',    last_letter gender  count\n",
       " 36           s      F  21980\n",
       " 37           s      M  58711)"
      ]
     },
     "metadata": {},
     "output_type": "display_data"
    },
    {
     "data": {
      "text/plain": [
       "('t',    last_letter gender  count\n",
       " 38           t      F  12168\n",
       " 39           t      M  23587)"
      ]
     },
     "metadata": {},
     "output_type": "display_data"
    },
    {
     "data": {
      "text/plain": [
       "('u',    last_letter gender  count\n",
       " 40           u      F   2515\n",
       " 41           u      M   3387)"
      ]
     },
     "metadata": {},
     "output_type": "display_data"
    },
    {
     "data": {
      "text/plain": [
       "('v',    last_letter gender  count\n",
       " 42           v      F    134\n",
       " 43           v      M   2004)"
      ]
     },
     "metadata": {},
     "output_type": "display_data"
    },
    {
     "data": {
      "text/plain": [
       "('w',    last_letter gender  count\n",
       " 44           w      F    782\n",
       " 45           w      M   2491)"
      ]
     },
     "metadata": {},
     "output_type": "display_data"
    },
    {
     "data": {
      "text/plain": [
       "('x',    last_letter gender  count\n",
       " 46           x      F   1224\n",
       " 47           x      M   2681)"
      ]
     },
     "metadata": {},
     "output_type": "display_data"
    },
    {
     "data": {
      "text/plain": [
       "('y',    last_letter gender  count\n",
       " 48           y      F  73111\n",
       " 49           y      M  59570)"
      ]
     },
     "metadata": {},
     "output_type": "display_data"
    },
    {
     "data": {
      "text/plain": [
       "('z',    last_letter gender  count\n",
       " 50           z      F   2249\n",
       " 51           z      M   5084)"
      ]
     },
     "metadata": {},
     "output_type": "display_data"
    }
   ],
   "source": [
    "names = all_records['name']\n",
    "all_records['last_letter'] = [string[-1] for string in names]\n",
    "last_letter_group = all_records.groupby([\"last_letter\", \"gender\"])\n",
    "\n",
    "for item in last_letter_group:\n",
    "    #display(item)\n",
    "    break\n",
    "\n",
    "last_letter_group = last_letter_group['count'].agg('count').to_frame().reset_index()\n",
    "\n",
    "last_letter_group = last_letter_group.groupby(\"last_letter\")\n",
    "for item in last_letter_group:\n",
    "    display(item)\n"
   ]
  },
  {
   "cell_type": "code",
   "execution_count": null,
   "metadata": {},
   "outputs": [],
   "source": []
  }
 ],
 "metadata": {
  "kernelspec": {
   "display_name": "Python 3",
   "language": "python",
   "name": "python3"
  },
  "language_info": {
   "codemirror_mode": {
    "name": "ipython",
    "version": 3
   },
   "file_extension": ".py",
   "mimetype": "text/x-python",
   "name": "python",
   "nbconvert_exporter": "python",
   "pygments_lexer": "ipython3",
   "version": "3.7.3"
  }
 },
 "nbformat": 4,
 "nbformat_minor": 2
}
