{
 "cells": [
  {
   "cell_type": "markdown",
   "metadata": {
    "colab_type": "text",
    "id": "VkZxy9pi_DPg"
   },
   "source": [
    "### Pandas Dataframe"
   ]
  },
  {
   "cell_type": "markdown",
   "metadata": {
    "colab_type": "text",
    "id": "d_bPaBTz_DPh"
   },
   "source": [
    "In this activity, you will be exploring airport data and answering a series of questions listed at the end."
   ]
  },
  {
   "cell_type": "markdown",
   "metadata": {
    "colab_type": "text",
    "id": "N4wCoySL_DPi"
   },
   "source": [
    "### 0: Prerequisites - Pandas functions and attributes"
   ]
  },
  {
   "cell_type": "code",
   "execution_count": 1,
   "metadata": {
    "colab": {},
    "colab_type": "code",
    "id": "qVfRNEYl_DPj"
   },
   "outputs": [],
   "source": [
    "# read the airports csv into pandas as a dataframe and call it airports_df\n",
    "import pandas as pd"
   ]
  },
  {
   "cell_type": "code",
   "execution_count": 2,
   "metadata": {
    "colab": {},
    "colab_type": "code",
    "id": "0k8BNW0W_DPo"
   },
   "outputs": [
    {
     "data": {
      "text/html": [
       "<div>\n",
       "<style scoped>\n",
       "    .dataframe tbody tr th:only-of-type {\n",
       "        vertical-align: middle;\n",
       "    }\n",
       "\n",
       "    .dataframe tbody tr th {\n",
       "        vertical-align: top;\n",
       "    }\n",
       "\n",
       "    .dataframe thead th {\n",
       "        text-align: right;\n",
       "    }\n",
       "</style>\n",
       "<table border=\"1\" class=\"dataframe\">\n",
       "  <thead>\n",
       "    <tr style=\"text-align: right;\">\n",
       "      <th></th>\n",
       "      <th>id</th>\n",
       "      <th>ident</th>\n",
       "      <th>type</th>\n",
       "      <th>name</th>\n",
       "      <th>latitude_deg</th>\n",
       "      <th>longitude_deg</th>\n",
       "      <th>elevation_ft</th>\n",
       "      <th>continent</th>\n",
       "      <th>iso_country</th>\n",
       "      <th>iso_region</th>\n",
       "      <th>municipality</th>\n",
       "      <th>scheduled_service</th>\n",
       "      <th>gps_code</th>\n",
       "      <th>iata_code</th>\n",
       "      <th>local_code</th>\n",
       "      <th>home_link</th>\n",
       "      <th>wikipedia_link</th>\n",
       "      <th>keywords</th>\n",
       "    </tr>\n",
       "  </thead>\n",
       "  <tbody>\n",
       "    <tr>\n",
       "      <th>0</th>\n",
       "      <td>6523</td>\n",
       "      <td>00A</td>\n",
       "      <td>heliport</td>\n",
       "      <td>Total Rf Heliport</td>\n",
       "      <td>40.070801</td>\n",
       "      <td>-74.933601</td>\n",
       "      <td>11.0</td>\n",
       "      <td>NaN</td>\n",
       "      <td>US</td>\n",
       "      <td>US-PA</td>\n",
       "      <td>Bensalem</td>\n",
       "      <td>no</td>\n",
       "      <td>00A</td>\n",
       "      <td>NaN</td>\n",
       "      <td>00A</td>\n",
       "      <td>NaN</td>\n",
       "      <td>NaN</td>\n",
       "      <td>NaN</td>\n",
       "    </tr>\n",
       "    <tr>\n",
       "      <th>1</th>\n",
       "      <td>323361</td>\n",
       "      <td>00AA</td>\n",
       "      <td>small_airport</td>\n",
       "      <td>Aero B Ranch Airport</td>\n",
       "      <td>38.704022</td>\n",
       "      <td>-101.473911</td>\n",
       "      <td>3435.0</td>\n",
       "      <td>NaN</td>\n",
       "      <td>US</td>\n",
       "      <td>US-KS</td>\n",
       "      <td>Leoti</td>\n",
       "      <td>no</td>\n",
       "      <td>00AA</td>\n",
       "      <td>NaN</td>\n",
       "      <td>00AA</td>\n",
       "      <td>NaN</td>\n",
       "      <td>NaN</td>\n",
       "      <td>NaN</td>\n",
       "    </tr>\n",
       "    <tr>\n",
       "      <th>2</th>\n",
       "      <td>6524</td>\n",
       "      <td>00AK</td>\n",
       "      <td>small_airport</td>\n",
       "      <td>Lowell Field</td>\n",
       "      <td>59.949200</td>\n",
       "      <td>-151.695999</td>\n",
       "      <td>450.0</td>\n",
       "      <td>NaN</td>\n",
       "      <td>US</td>\n",
       "      <td>US-AK</td>\n",
       "      <td>Anchor Point</td>\n",
       "      <td>no</td>\n",
       "      <td>00AK</td>\n",
       "      <td>NaN</td>\n",
       "      <td>00AK</td>\n",
       "      <td>NaN</td>\n",
       "      <td>NaN</td>\n",
       "      <td>NaN</td>\n",
       "    </tr>\n",
       "    <tr>\n",
       "      <th>3</th>\n",
       "      <td>6525</td>\n",
       "      <td>00AL</td>\n",
       "      <td>small_airport</td>\n",
       "      <td>Epps Airpark</td>\n",
       "      <td>34.864799</td>\n",
       "      <td>-86.770302</td>\n",
       "      <td>820.0</td>\n",
       "      <td>NaN</td>\n",
       "      <td>US</td>\n",
       "      <td>US-AL</td>\n",
       "      <td>Harvest</td>\n",
       "      <td>no</td>\n",
       "      <td>00AL</td>\n",
       "      <td>NaN</td>\n",
       "      <td>00AL</td>\n",
       "      <td>NaN</td>\n",
       "      <td>NaN</td>\n",
       "      <td>NaN</td>\n",
       "    </tr>\n",
       "    <tr>\n",
       "      <th>4</th>\n",
       "      <td>6526</td>\n",
       "      <td>00AR</td>\n",
       "      <td>closed</td>\n",
       "      <td>Newport Hospital &amp; Clinic Heliport</td>\n",
       "      <td>35.608700</td>\n",
       "      <td>-91.254898</td>\n",
       "      <td>237.0</td>\n",
       "      <td>NaN</td>\n",
       "      <td>US</td>\n",
       "      <td>US-AR</td>\n",
       "      <td>Newport</td>\n",
       "      <td>no</td>\n",
       "      <td>NaN</td>\n",
       "      <td>NaN</td>\n",
       "      <td>NaN</td>\n",
       "      <td>NaN</td>\n",
       "      <td>NaN</td>\n",
       "      <td>00AR</td>\n",
       "    </tr>\n",
       "  </tbody>\n",
       "</table>\n",
       "</div>"
      ],
      "text/plain": [
       "       id ident           type                                name  \\\n",
       "0    6523   00A       heliport                   Total Rf Heliport   \n",
       "1  323361  00AA  small_airport                Aero B Ranch Airport   \n",
       "2    6524  00AK  small_airport                        Lowell Field   \n",
       "3    6525  00AL  small_airport                        Epps Airpark   \n",
       "4    6526  00AR         closed  Newport Hospital & Clinic Heliport   \n",
       "\n",
       "   latitude_deg  longitude_deg  elevation_ft continent iso_country iso_region  \\\n",
       "0     40.070801     -74.933601          11.0       NaN          US      US-PA   \n",
       "1     38.704022    -101.473911        3435.0       NaN          US      US-KS   \n",
       "2     59.949200    -151.695999         450.0       NaN          US      US-AK   \n",
       "3     34.864799     -86.770302         820.0       NaN          US      US-AL   \n",
       "4     35.608700     -91.254898         237.0       NaN          US      US-AR   \n",
       "\n",
       "   municipality scheduled_service gps_code iata_code local_code home_link  \\\n",
       "0      Bensalem                no      00A       NaN        00A       NaN   \n",
       "1         Leoti                no     00AA       NaN       00AA       NaN   \n",
       "2  Anchor Point                no     00AK       NaN       00AK       NaN   \n",
       "3       Harvest                no     00AL       NaN       00AL       NaN   \n",
       "4       Newport                no      NaN       NaN        NaN       NaN   \n",
       "\n",
       "  wikipedia_link keywords  \n",
       "0            NaN      NaN  \n",
       "1            NaN      NaN  \n",
       "2            NaN      NaN  \n",
       "3            NaN      NaN  \n",
       "4            NaN     00AR  "
      ]
     },
     "execution_count": 2,
     "metadata": {},
     "output_type": "execute_result"
    }
   ],
   "source": [
    "airports_df = pd.read_csv('http://136.183.56.191/DSA501public/airports.csv')\n",
    "airports_df.head()"
   ]
  },
  {
   "cell_type": "code",
   "execution_count": 3,
   "metadata": {
    "colab": {},
    "colab_type": "code",
    "id": "4RSLwbzW_DPw",
    "scrolled": true
   },
   "outputs": [
    {
     "data": {
      "text/html": [
       "<div>\n",
       "<style scoped>\n",
       "    .dataframe tbody tr th:only-of-type {\n",
       "        vertical-align: middle;\n",
       "    }\n",
       "\n",
       "    .dataframe tbody tr th {\n",
       "        vertical-align: top;\n",
       "    }\n",
       "\n",
       "    .dataframe thead th {\n",
       "        text-align: right;\n",
       "    }\n",
       "</style>\n",
       "<table border=\"1\" class=\"dataframe\">\n",
       "  <thead>\n",
       "    <tr style=\"text-align: right;\">\n",
       "      <th></th>\n",
       "      <th>id</th>\n",
       "      <th>ident</th>\n",
       "      <th>type</th>\n",
       "      <th>latitude_deg</th>\n",
       "      <th>longitude_deg</th>\n",
       "      <th>elevation_ft</th>\n",
       "      <th>continent</th>\n",
       "      <th>iso_country</th>\n",
       "      <th>iso_region</th>\n",
       "      <th>municipality</th>\n",
       "      <th>scheduled_service</th>\n",
       "      <th>gps_code</th>\n",
       "      <th>iata_code</th>\n",
       "      <th>local_code</th>\n",
       "      <th>home_link</th>\n",
       "      <th>wikipedia_link</th>\n",
       "      <th>keywords</th>\n",
       "    </tr>\n",
       "    <tr>\n",
       "      <th>name</th>\n",
       "      <th></th>\n",
       "      <th></th>\n",
       "      <th></th>\n",
       "      <th></th>\n",
       "      <th></th>\n",
       "      <th></th>\n",
       "      <th></th>\n",
       "      <th></th>\n",
       "      <th></th>\n",
       "      <th></th>\n",
       "      <th></th>\n",
       "      <th></th>\n",
       "      <th></th>\n",
       "      <th></th>\n",
       "      <th></th>\n",
       "      <th></th>\n",
       "      <th></th>\n",
       "    </tr>\n",
       "  </thead>\n",
       "  <tbody>\n",
       "    <tr>\n",
       "      <th>Total Rf Heliport</th>\n",
       "      <td>6523</td>\n",
       "      <td>00A</td>\n",
       "      <td>heliport</td>\n",
       "      <td>40.070801</td>\n",
       "      <td>-74.933601</td>\n",
       "      <td>11.0</td>\n",
       "      <td>NaN</td>\n",
       "      <td>US</td>\n",
       "      <td>US-PA</td>\n",
       "      <td>Bensalem</td>\n",
       "      <td>no</td>\n",
       "      <td>00A</td>\n",
       "      <td>NaN</td>\n",
       "      <td>00A</td>\n",
       "      <td>NaN</td>\n",
       "      <td>NaN</td>\n",
       "      <td>NaN</td>\n",
       "    </tr>\n",
       "    <tr>\n",
       "      <th>Aero B Ranch Airport</th>\n",
       "      <td>323361</td>\n",
       "      <td>00AA</td>\n",
       "      <td>small_airport</td>\n",
       "      <td>38.704022</td>\n",
       "      <td>-101.473911</td>\n",
       "      <td>3435.0</td>\n",
       "      <td>NaN</td>\n",
       "      <td>US</td>\n",
       "      <td>US-KS</td>\n",
       "      <td>Leoti</td>\n",
       "      <td>no</td>\n",
       "      <td>00AA</td>\n",
       "      <td>NaN</td>\n",
       "      <td>00AA</td>\n",
       "      <td>NaN</td>\n",
       "      <td>NaN</td>\n",
       "      <td>NaN</td>\n",
       "    </tr>\n",
       "    <tr>\n",
       "      <th>Lowell Field</th>\n",
       "      <td>6524</td>\n",
       "      <td>00AK</td>\n",
       "      <td>small_airport</td>\n",
       "      <td>59.949200</td>\n",
       "      <td>-151.695999</td>\n",
       "      <td>450.0</td>\n",
       "      <td>NaN</td>\n",
       "      <td>US</td>\n",
       "      <td>US-AK</td>\n",
       "      <td>Anchor Point</td>\n",
       "      <td>no</td>\n",
       "      <td>00AK</td>\n",
       "      <td>NaN</td>\n",
       "      <td>00AK</td>\n",
       "      <td>NaN</td>\n",
       "      <td>NaN</td>\n",
       "      <td>NaN</td>\n",
       "    </tr>\n",
       "    <tr>\n",
       "      <th>Epps Airpark</th>\n",
       "      <td>6525</td>\n",
       "      <td>00AL</td>\n",
       "      <td>small_airport</td>\n",
       "      <td>34.864799</td>\n",
       "      <td>-86.770302</td>\n",
       "      <td>820.0</td>\n",
       "      <td>NaN</td>\n",
       "      <td>US</td>\n",
       "      <td>US-AL</td>\n",
       "      <td>Harvest</td>\n",
       "      <td>no</td>\n",
       "      <td>00AL</td>\n",
       "      <td>NaN</td>\n",
       "      <td>00AL</td>\n",
       "      <td>NaN</td>\n",
       "      <td>NaN</td>\n",
       "      <td>NaN</td>\n",
       "    </tr>\n",
       "    <tr>\n",
       "      <th>Newport Hospital &amp; Clinic Heliport</th>\n",
       "      <td>6526</td>\n",
       "      <td>00AR</td>\n",
       "      <td>closed</td>\n",
       "      <td>35.608700</td>\n",
       "      <td>-91.254898</td>\n",
       "      <td>237.0</td>\n",
       "      <td>NaN</td>\n",
       "      <td>US</td>\n",
       "      <td>US-AR</td>\n",
       "      <td>Newport</td>\n",
       "      <td>no</td>\n",
       "      <td>NaN</td>\n",
       "      <td>NaN</td>\n",
       "      <td>NaN</td>\n",
       "      <td>NaN</td>\n",
       "      <td>NaN</td>\n",
       "      <td>00AR</td>\n",
       "    </tr>\n",
       "  </tbody>\n",
       "</table>\n",
       "</div>"
      ],
      "text/plain": [
       "                                        id ident           type  latitude_deg  \\\n",
       "name                                                                            \n",
       "Total Rf Heliport                     6523   00A       heliport     40.070801   \n",
       "Aero B Ranch Airport                323361  00AA  small_airport     38.704022   \n",
       "Lowell Field                          6524  00AK  small_airport     59.949200   \n",
       "Epps Airpark                          6525  00AL  small_airport     34.864799   \n",
       "Newport Hospital & Clinic Heliport    6526  00AR         closed     35.608700   \n",
       "\n",
       "                                    longitude_deg  elevation_ft continent  \\\n",
       "name                                                                        \n",
       "Total Rf Heliport                      -74.933601          11.0       NaN   \n",
       "Aero B Ranch Airport                  -101.473911        3435.0       NaN   \n",
       "Lowell Field                          -151.695999         450.0       NaN   \n",
       "Epps Airpark                           -86.770302         820.0       NaN   \n",
       "Newport Hospital & Clinic Heliport     -91.254898         237.0       NaN   \n",
       "\n",
       "                                   iso_country iso_region  municipality  \\\n",
       "name                                                                      \n",
       "Total Rf Heliport                           US      US-PA      Bensalem   \n",
       "Aero B Ranch Airport                        US      US-KS         Leoti   \n",
       "Lowell Field                                US      US-AK  Anchor Point   \n",
       "Epps Airpark                                US      US-AL       Harvest   \n",
       "Newport Hospital & Clinic Heliport          US      US-AR       Newport   \n",
       "\n",
       "                                   scheduled_service gps_code iata_code  \\\n",
       "name                                                                      \n",
       "Total Rf Heliport                                 no      00A       NaN   \n",
       "Aero B Ranch Airport                              no     00AA       NaN   \n",
       "Lowell Field                                      no     00AK       NaN   \n",
       "Epps Airpark                                      no     00AL       NaN   \n",
       "Newport Hospital & Clinic Heliport                no      NaN       NaN   \n",
       "\n",
       "                                   local_code home_link wikipedia_link  \\\n",
       "name                                                                     \n",
       "Total Rf Heliport                         00A       NaN            NaN   \n",
       "Aero B Ranch Airport                     00AA       NaN            NaN   \n",
       "Lowell Field                             00AK       NaN            NaN   \n",
       "Epps Airpark                             00AL       NaN            NaN   \n",
       "Newport Hospital & Clinic Heliport        NaN       NaN            NaN   \n",
       "\n",
       "                                   keywords  \n",
       "name                                         \n",
       "Total Rf Heliport                       NaN  \n",
       "Aero B Ranch Airport                    NaN  \n",
       "Lowell Field                            NaN  \n",
       "Epps Airpark                            NaN  \n",
       "Newport Hospital & Clinic Heliport     00AR  "
      ]
     },
     "execution_count": 3,
     "metadata": {},
     "output_type": "execute_result"
    }
   ],
   "source": [
    "airports_df = airports_df.set_index('name')\n",
    "airports_df.head()"
   ]
  },
  {
   "cell_type": "markdown",
   "metadata": {
    "colab_type": "text",
    "id": "MUUP_c6n_DP0"
   },
   "source": [
    "### Selecting columns and rows\n",
    "\n",
    "To work with a column or row, use bracket notation as in these examples."
   ]
  },
  {
   "cell_type": "code",
   "execution_count": 4,
   "metadata": {
    "colab": {},
    "colab_type": "code",
    "id": "WY5i1GqH_DP0",
    "scrolled": true
   },
   "outputs": [
    {
     "data": {
      "text/plain": [
       "name\n",
       "Total Rf Heliport                             Bensalem\n",
       "Aero B Ranch Airport                             Leoti\n",
       "Lowell Field                              Anchor Point\n",
       "Epps Airpark                                   Harvest\n",
       "Newport Hospital & Clinic Heliport             Newport\n",
       "                                            ...       \n",
       "Yingkou Lanqi Airport                          Yingkou\n",
       "Shenyang Dongta Airport                       Shenyang\n",
       "Sealand Helipad                                Sealand\n",
       "Glorioso Islands Airstrip             Grande Glorieuse\n",
       "Satsuma Iōjima Airport                    Mishima-Mura\n",
       "Name: municipality, Length: 52921, dtype: object"
      ]
     },
     "execution_count": 4,
     "metadata": {},
     "output_type": "execute_result"
    }
   ],
   "source": [
    "# select a column using it's name\n",
    "airports_df['municipality']"
   ]
  },
  {
   "cell_type": "code",
   "execution_count": 5,
   "metadata": {
    "colab": {},
    "colab_type": "code",
    "id": "w8iD8pDx_DP5",
    "scrolled": false
   },
   "outputs": [
    {
     "data": {
      "text/plain": [
       "id                                                                3431\n",
       "ident                                                             KBUF\n",
       "type                                                     large_airport\n",
       "latitude_deg                                                   42.9405\n",
       "longitude_deg                                                 -78.7322\n",
       "elevation_ft                                                       728\n",
       "continent                                                          NaN\n",
       "iso_country                                                         US\n",
       "iso_region                                                       US-NY\n",
       "municipality                                                   Buffalo\n",
       "scheduled_service                                                  yes\n",
       "gps_code                                                          KBUF\n",
       "iata_code                                                          BUF\n",
       "local_code                                                         BUF\n",
       "home_link                                                          NaN\n",
       "wikipedia_link       http://en.wikipedia.org/wiki/Buffalo_Niagara_I...\n",
       "keywords                                                           NaN\n",
       "Name: Buffalo Niagara International Airport, dtype: object"
      ]
     },
     "execution_count": 5,
     "metadata": {},
     "output_type": "execute_result"
    }
   ],
   "source": [
    "# show a row using it's index name (like in a python dictionary)\n",
    "airports_df.loc['Buffalo Niagara International Airport']"
   ]
  },
  {
   "cell_type": "code",
   "execution_count": 0,
   "metadata": {
    "colab": {},
    "colab_type": "code",
    "id": "EvIwoyoK_DP9",
    "scrolled": true
   },
   "outputs": [],
   "source": [
    "# show row using numerical index (like in a python list)\n",
    "airports_df.iloc[3]"
   ]
  },
  {
   "cell_type": "markdown",
   "metadata": {
    "colab_type": "text",
    "id": "fcJYNVvZ_DQC"
   },
   "source": [
    "### Functions for examining pandas dataframes\n",
    "These are some pandas functions that work on whole DataFrames or on columns or rows, which are pandas Series. Some functions will only work if the column, row or entire dataframe is numerical or of another specific type."
   ]
  },
  {
   "cell_type": "markdown",
   "metadata": {
    "colab_type": "text",
    "id": "CilrGDiX_DQD"
   },
   "source": [
    "#### Try one of these functions on the airport dataframe. Determine what it does.\n",
    "\n",
    "* describe()\n",
    "* info()\n",
    "* head()\n",
    "* tail()\n",
    "* duplicated()"
   ]
  },
  {
   "cell_type": "code",
   "execution_count": 0,
   "metadata": {
    "colab": {},
    "colab_type": "code",
    "id": "cgfs3syK_DQD",
    "scrolled": true
   },
   "outputs": [],
   "source": [
    "# your code here\n",
    "\n"
   ]
  },
  {
   "cell_type": "markdown",
   "metadata": {
    "colab_type": "text",
    "id": "zL7RJ6ky_DQH"
   },
   "source": [
    "#### Try one of these functions on a numerical column the airport dataframe. Determine what it does. Does it require any parameters? Does it return anything? \n",
    "\n",
    "* sum()\n",
    "* count()\n",
    "* min()\n",
    "* max()\n",
    "* sort_values()\n",
    "* idxmax()\n",
    "* idxmin()\n",
    "* isnull()\n",
    "* value_counts()\n",
    "* unique()\n",
    "* nunique()\n",
    "\n"
   ]
  },
  {
   "cell_type": "code",
   "execution_count": 0,
   "metadata": {
    "colab": {},
    "colab_type": "code",
    "id": "t0-B1ILz_DQI",
    "scrolled": true
   },
   "outputs": [],
   "source": [
    "# your code here\n",
    "\n"
   ]
  },
  {
   "cell_type": "markdown",
   "metadata": {
    "colab_type": "text",
    "id": "5Wa37ZXB_DQL"
   },
   "source": [
    "#### Try one of these on a row in the airports dataframe.\n",
    "* nunique()\n",
    "* isnull()\n",
    "\n"
   ]
  },
  {
   "cell_type": "code",
   "execution_count": 0,
   "metadata": {
    "colab": {},
    "colab_type": "code",
    "id": "-wWiwZZo_DQN",
    "scrolled": true
   },
   "outputs": [],
   "source": [
    "# your code here\n",
    "\n",
    "airports_df.iloc[21].nunique()"
   ]
  },
  {
   "cell_type": "markdown",
   "metadata": {
    "colab_type": "text",
    "id": "BPzmu9Hf_DQQ"
   },
   "source": [
    "Many of the functions above, and even the read_csv function have optional parameters. Try the examples below. For more parameters, look up any function in the pandas documentation https://pandas.pydata.org/pandas-docs/stable/."
   ]
  },
  {
   "cell_type": "code",
   "execution_count": 0,
   "metadata": {
    "colab": {},
    "colab_type": "code",
    "id": "5t7pOhj7_DQR",
    "scrolled": true
   },
   "outputs": [],
   "source": [
    "# try this\n",
    "airports_df.head(10)"
   ]
  },
  {
   "cell_type": "code",
   "execution_count": 0,
   "metadata": {
    "colab": {},
    "colab_type": "code",
    "id": "wnNIFMWN_DQV",
    "scrolled": true
   },
   "outputs": [],
   "source": [
    "# try this\n",
    "airports_df['latitude_deg'].sort_values(ascending = False)"
   ]
  },
  {
   "cell_type": "markdown",
   "metadata": {
    "colab_type": "text",
    "id": "EyMg3u3Z_DQY"
   },
   "source": [
    "#### Try at least two of these on the airports dataframe. These are attributes, not functions. Notice there are no parentheses.\n",
    "* shape\n",
    "* columns\n",
    "* dtypes\n",
    "* index\n",
    "* values\n",
    "    "
   ]
  },
  {
   "cell_type": "code",
   "execution_count": 0,
   "metadata": {
    "colab": {},
    "colab_type": "code",
    "id": "vGGCJgfI_DQZ",
    "scrolled": true
   },
   "outputs": [],
   "source": [
    "# your code here\n"
   ]
  },
  {
   "cell_type": "markdown",
   "metadata": {
    "colab_type": "text",
    "id": "-kB8BnfC_DQe"
   },
   "source": [
    "### Selecting individual values and other subsets of the dataframe."
   ]
  },
  {
   "cell_type": "code",
   "execution_count": 0,
   "metadata": {
    "colab": {},
    "colab_type": "code",
    "id": "EonFQon-_DQf",
    "scrolled": true
   },
   "outputs": [],
   "source": [
    "# show several columns\n",
    "airports_df[['municipality','type']]"
   ]
  },
  {
   "cell_type": "code",
   "execution_count": 0,
   "metadata": {
    "colab": {},
    "colab_type": "code",
    "id": "KK_1HgxJ_DQj",
    "scrolled": true
   },
   "outputs": [],
   "source": [
    "airports_df.iloc[[2,3,4]]"
   ]
  },
  {
   "cell_type": "code",
   "execution_count": 0,
   "metadata": {
    "colab": {},
    "colab_type": "code",
    "id": "5qoMlfKz_DQm",
    "scrolled": true
   },
   "outputs": [],
   "source": [
    "airports_df.iloc[2:5,:4]"
   ]
  },
  {
   "cell_type": "code",
   "execution_count": 0,
   "metadata": {
    "colab": {},
    "colab_type": "code",
    "id": "PKS-UXfK_DQr",
    "scrolled": true
   },
   "outputs": [],
   "source": [
    "airports_df.loc[['Epps Airpark'],['municipality','type']]"
   ]
  },
  {
   "cell_type": "markdown",
   "metadata": {
    "colab_type": "text",
    "id": "l4m_66Wq_DQx"
   },
   "source": [
    "### Boolean mask filtering"
   ]
  },
  {
   "cell_type": "code",
   "execution_count": 0,
   "metadata": {
    "colab": {},
    "colab_type": "code",
    "id": "KdqHnAwh_DQy",
    "scrolled": false
   },
   "outputs": [],
   "source": [
    "airports_df[airports_df['latitude_deg'] > 0]"
   ]
  },
  {
   "cell_type": "markdown",
   "metadata": {
    "colab_type": "text",
    "id": "yohBYgn4_DQ0"
   },
   "source": [
    "### 1: Airport Questions"
   ]
  },
  {
   "cell_type": "markdown",
   "metadata": {
    "colab_type": "text",
    "id": "jIVgO4iG_DQ1"
   },
   "source": [
    "##### 1.1 Answer each the following questions using the airports data.\n",
    "    "
   ]
  },
  {
   "cell_type": "markdown",
   "metadata": {
    "colab_type": "text",
    "id": "oXKCHHSj_DQ2"
   },
   "source": [
    "<ol type=\"a\">\n",
    "<li> How many airports are there?\n",
    " \n",
    "  <li> Which airport is most southern? \n",
    "  <li> How many different countries are included in the dataframe?\n",
    "  <li> What is the type of the Wikipedia links data?\n",
    "  <li> Is there any missing data in the iso-region column?\n",
    "  <li> What type of airport is Groundhog Mountain Airport?\n",
    "  <li> How many airports are below sea level?\n",
    " </ol>   "
   ]
  },
  {
   "cell_type": "code",
   "execution_count": 0,
   "metadata": {
    "colab": {},
    "colab_type": "code",
    "id": "CHd-GpxE_DQ3",
    "scrolled": true
   },
   "outputs": [],
   "source": [
    "# your work here\n",
    "# add cells as needed"
   ]
  },
  {
   "cell_type": "markdown",
   "metadata": {
    "colab_type": "text",
    "id": "nM8cpDYO_DQ6"
   },
   "source": [
    "##### 1.2 There is an issue with the 'continent' column data. Find the issue by using pandas functions to examine the column. Then fix it. Hint: look up fillna."
   ]
  },
  {
   "cell_type": "code",
   "execution_count": 0,
   "metadata": {
    "colab": {},
    "colab_type": "code",
    "id": "YdzQ3f_8_DQ7",
    "scrolled": true
   },
   "outputs": [],
   "source": [
    "# your work here\n",
    "# add cells as needed"
   ]
  },
  {
   "cell_type": "markdown",
   "metadata": {
    "colab_type": "text",
    "id": "ky-W20tfQLHk"
   },
   "source": [
    "### Cleaning Data\n",
    "* research information about the data and features \n",
    "* examine data for anomalies\n",
    "* consider consequences of possible fixes\n",
    "* handle NAs\n",
    "* handle dtypes\n",
    "* confirm changes\n",
    "\n",
    "\n",
    "\n",
    "\n",
    "\n",
    "\n"
   ]
  },
  {
   "cell_type": "markdown",
   "metadata": {
    "colab_type": "text",
    "id": "omGZTWGpn6IP"
   },
   "source": [
    "#### NA, NaN, nan, null processing\n",
    "* isnull(), isna()\n",
    "* notnull()\n",
    "* dropna()\n",
    "* fillna()\n"
   ]
  },
  {
   "cell_type": "markdown",
   "metadata": {
    "colab_type": "text",
    "id": "PONceC_Gn6fJ"
   },
   "source": [
    "#### dtype processing\n",
    "* astype()\n",
    "* dtypes\n",
    "* dtype\n",
    "* read_csv dtype parameter"
   ]
  }
 ],
 "metadata": {
  "colab": {
   "name": "airports_lesson3.ipynb",
   "provenance": [],
   "version": "0.3.2"
  },
  "kernelspec": {
   "display_name": "Python 3",
   "language": "python",
   "name": "python3"
  },
  "language_info": {
   "codemirror_mode": {
    "name": "ipython",
    "version": 3
   },
   "file_extension": ".py",
   "mimetype": "text/x-python",
   "name": "python",
   "nbconvert_exporter": "python",
   "pygments_lexer": "ipython3",
   "version": "3.7.3"
  }
 },
 "nbformat": 4,
 "nbformat_minor": 1
}
