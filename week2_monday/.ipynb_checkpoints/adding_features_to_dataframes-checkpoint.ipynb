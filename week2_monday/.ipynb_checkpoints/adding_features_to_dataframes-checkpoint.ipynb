{
 "cells": [
  {
   "cell_type": "markdown",
   "metadata": {
    "colab_type": "text",
    "id": "AEKq_ckkYZZn"
   },
   "source": [
    "# Building a table of features for a list of words\n",
    "This activity will have you analyze properties of a list of words and add such properties to a Pandas DataFrame. The goal of this exercise is to make sure you understand the fundamental concepts of python. We will have you create functions that analyze various properties and make tables to display said properties of the words. \n",
    "\n",
    "The review will cover concepts from Chapters 1- 14 (Runestone) (Week1 Online)\n",
    "\n",
    "***New concepts***:\n",
    "    Pandas DataFrames"
   ]
  },
  {
   "cell_type": "markdown",
   "metadata": {
    "colab_type": "text",
    "id": "P_WT2GVjYZZq"
   },
   "source": [
    "List of properties:\n",
    "\n",
    "* Length\n",
    "* Starts with a capital\n",
    "* Number of vowels\n",
    "* Proportion of vowels to total length\n",
    "* Proportion of vowels in word to total number of letters in list\n",
    "* Reversal of the word\n",
    "* Has its reversal also in the list\n",
    "* Is it a palindrome\n",
    "* List of letters in alphabetical order"
   ]
  },
  {
   "cell_type": "markdown",
   "metadata": {
    "colab_type": "text",
    "id": "3ejqLntTYZZs"
   },
   "source": [
    "### Import Packages PANDAS\n",
    "\n",
    "We will start off by importing a brand new package called pandas. Pandas will allow us to create a virtual spreadsheet in python without the use of nested arrays. This will allow us to make columns based on the properties of the strings we will be analyzing. "
   ]
  },
  {
   "cell_type": "code",
   "execution_count": 0,
   "metadata": {
    "colab": {},
    "colab_type": "code",
    "id": "YHFfzs5qYZZt"
   },
   "outputs": [],
   "source": []
  },
  {
   "cell_type": "markdown",
   "metadata": {
    "colab_type": "text",
    "id": "wWR8r3PPYZZx"
   },
   "source": [
    "### Import the data into a pandas dataframe\n",
    "\n",
    "Pandas creates an object called a dataframe. You can think of this as an excel spreadsheet. You can create custom rows and add columns at will. For now we will import a column from a CSV. A CSV (comma separated values) is a generic file type for a simple spreadsheet. It allows us to transfer data between different spreadsheet softwares. \n",
    "\n",
    "sample of how the code looks:\n",
    "```python\n",
    "my_dataframe = pandas.read_csv(\"file location\") \n",
    "```"
   ]
  },
  {
   "cell_type": "code",
   "execution_count": 0,
   "metadata": {
    "colab": {},
    "colab_type": "code",
    "id": "GF1ThVZyYZZy"
   },
   "outputs": [],
   "source": []
  },
  {
   "cell_type": "markdown",
   "metadata": {
    "colab_type": "text",
    "id": "MtJylzyOYZZ0"
   },
   "source": [
    "### Functions\n",
    "\n",
    "These functions will take a string as an input and will output the feature of the string that the function is responsible for. For example the length function will take a string as an input and output the number of characters present in the string.\n",
    "\n",
    "sample of how the code looks:\n",
    "\n",
    "```python\n",
    "# Length\n",
    "def my_function(string):\n",
    "    --mycode--\n",
    "    return something\n",
    "```"
   ]
  },
  {
   "cell_type": "code",
   "execution_count": 0,
   "metadata": {
    "colab": {},
    "colab_type": "code",
    "id": "fxu8ETmfYZZ1"
   },
   "outputs": [],
   "source": [
    "#list of properties we will analyze from the strings\n",
    "\n",
    "# Length\n",
    "# Starts with a capital\n",
    "# Number of vowels\n",
    "# Proportion of vowels to total length\n",
    "# Reversal of a word\n",
    "# Palindrome\n",
    "# List of letters in alphabetical order\n",
    "# Has its reversal also in the list\n",
    "\n",
    "number_of_vowels(\"fire truck\")"
   ]
  },
  {
   "cell_type": "markdown",
   "metadata": {
    "colab_type": "text",
    "id": "Ogt9rgcVYZZ3"
   },
   "source": [
    "### Add Features to the pandas dataframe \n",
    "\n",
    "Similar to adding columns to an excel spreadsheet you will add the feature of each word using the  functions created previously as a new column. To apply the function to every item on a list you can use the .map() method native to a column of a pandas dataframe. This results in a new column  by applying the given function to every item of the list. \n",
    "\n",
    "general code: \n",
    "```python\n",
    "my_dataframe['property_name'] = my_dataframe['WORD'].map(my_function_name)\n",
    "```"
   ]
  },
  {
   "cell_type": "code",
   "execution_count": 0,
   "metadata": {
    "colab": {},
    "colab_type": "code",
    "id": "Lw4LZLaBYZZ4",
    "scrolled": false
   },
   "outputs": [],
   "source": []
  }
 ],
 "metadata": {
  "colab": {
   "name": "adding_features_to_dataframe.ipynb",
   "provenance": [],
   "version": "0.3.2"
  },
  "kernelspec": {
   "display_name": "Python 3",
   "language": "python",
   "name": "python3"
  },
  "language_info": {
   "codemirror_mode": {
    "name": "ipython",
    "version": 3
   },
   "file_extension": ".py",
   "mimetype": "text/x-python",
   "name": "python",
   "nbconvert_exporter": "python",
   "pygments_lexer": "ipython3",
   "version": "3.7.3"
  }
 },
 "nbformat": 4,
 "nbformat_minor": 1
}
