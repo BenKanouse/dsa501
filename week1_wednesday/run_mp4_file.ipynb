{
 "cells": [
  {
   "cell_type": "code",
   "execution_count": 5,
   "metadata": {},
   "outputs": [
    {
     "name": "stdout",
     "output_type": "stream",
     "text": [
      "1\n",
      "2\n",
      "3\n",
      "4\n",
      "5\n",
      "6\n"
     ]
    }
   ],
   "source": [
    "import cv2\n",
    "import sys\n",
    "videofile = 'face.mp4' # any video from your phone\n",
    "vidcap = cv2.VideoCapture(videofile)\n",
    "count = 0\n",
    "while True:\n",
    "    success,image = vidcap.read()\n",
    "    if not success: \n",
    "        print(\"mega cool error message\")\n",
    "        break\n",
    "    cv2.imwrite('temp_frame'+str(count).zfill(4)+'.jpg',image)\n",
    "    count += 1\n",
    "    print(count)\n",
    "    if count > 5: break"
   ]
  },
  {
   "cell_type": "code",
   "execution_count": null,
   "metadata": {},
   "outputs": [],
   "source": []
  }
 ],
 "metadata": {
  "kernelspec": {
   "display_name": "Python 3",
   "language": "python",
   "name": "python3"
  },
  "language_info": {
   "codemirror_mode": {
    "name": "ipython",
    "version": 3
   },
   "file_extension": ".py",
   "mimetype": "text/x-python",
   "name": "python",
   "nbconvert_exporter": "python",
   "pygments_lexer": "ipython3",
   "version": "3.7.3"
  }
 },
 "nbformat": 4,
 "nbformat_minor": 2
}
