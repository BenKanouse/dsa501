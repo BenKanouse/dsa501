{
 "cells": [
  {
   "cell_type": "markdown",
   "metadata": {},
   "source": [
    "# Numpy\n",
    "Numpy provides **array** data structures and ways to efficiently operate on them. It is the basis of fast numerical computation in Python, and is what Pandas uses \"under the hood\". Today we will explore using numpy directly.\n",
    "\n",
    "Key ideas are vectorization (e.g. adding one array to another), slicing and \"fancy\" indexing (referring to a part of an array), and broadcasting (replicating a small array across a big one). We'll study each of these through a set of examples.\n",
    "\n",
    "Here is a [good reference on numpy](https://www.oreilly.com/library/view/python-for-data/9781449323592/ch04.html) by Wes McKinney."
   ]
  },
  {
   "cell_type": "markdown",
   "metadata": {},
   "source": [
    "## 0. Numpy arrays: some elementary operations\n",
    "Creation, scalar multiplication, addition, simple indexing, slicing."
   ]
  },
  {
   "cell_type": "markdown",
   "metadata": {},
   "source": [
    "## 1. Balloon ascent\n",
    "In this exercise, we'll use slicing and basic array operations, reading data from a file into a numpy array, and basic plotting.\n",
    "\n",
    "Use the code below to download data from a weather balloon.\n",
    "\n",
    "<img align=left height=136px src=http://blue.math.buffalo.edu/dsa501/balloon.png><br> "
   ]
  },
  {
   "cell_type": "code",
   "execution_count": 2,
   "metadata": {},
   "outputs": [],
   "source": [
    "import requests\n",
    "r = requests.get('http://blue.math.buffalo.edu/dsa501/balloon_launch.txt')\n",
    "with open('balloon_launch.txt','w') as f:\n",
    "    f.write(r.text)"
   ]
  },
  {
   "cell_type": "markdown",
   "metadata": {},
   "source": [
    "Goal: make a plot of temperature vs time."
   ]
  },
  {
   "cell_type": "markdown",
   "metadata": {},
   "source": [
    "## 2. Video processing\n",
    "In this exercise we'll extract frames from a video and do arithmetic on 3-dimensional arrays that represent images. \n",
    "Taking the difference between frames shows what has changed between them. This has many applications in detecting things - from burglars to supernovae. \n",
    "\n",
    "You can use either [this video I took in my back yard](http://blue.math.buffalo.edu/dsa501/20190615_093346.mp4) or one you take with your own phone.\n",
    "\n",
    "Goal: Visualize the changes in a mostly static video.\n",
    "\n",
    "<img align=left height=136px src=http://blue.math.buffalo.edu/dsa501/potatobug.png>"
   ]
  },
  {
   "cell_type": "markdown",
   "metadata": {},
   "source": [
    "## 3. Green screen\n",
    "In this exercise, we will use index-array indexing, boolean indexing, broadcasting, array type-casting.\n",
    "\n",
    "Goal: Use the green screen technique to insert an interesting background into an image of yourself on a green background.\n",
    "\n",
    "<img align=left height=136px src=http://blue.math.buffalo.edu/dsa501/greenscreen.png>\n",
    "\n",
    "\n"
   ]
  },
  {
   "cell_type": "markdown",
   "metadata": {},
   "source": [
    "## 4. Tartans\n",
    "In this exercise we'll use slicing and array arithmetic to make a picture of a woven fabric.\n",
    "\n",
    "Goal: Make a picture of a tartan designed by you.\n",
    "\n",
    "<img align=left height=136px src=http://blue.math.buffalo.edu/dsa501/tartan.png>\n",
    "<img align=left src=http://blue.math.buffalo.edu/dsa501/tartan_weave.png>"
   ]
  },
  {
   "cell_type": "code",
   "execution_count": null,
   "metadata": {},
   "outputs": [],
   "source": []
  },
  {
   "cell_type": "code",
   "execution_count": null,
   "metadata": {},
   "outputs": [],
   "source": []
  }
 ],
 "metadata": {
  "kernelspec": {
   "display_name": "Python 3",
   "language": "python",
   "name": "python3"
  },
  "language_info": {
   "codemirror_mode": {
    "name": "ipython",
    "version": 3
   },
   "file_extension": ".py",
   "mimetype": "text/x-python",
   "name": "python",
   "nbconvert_exporter": "python",
   "pygments_lexer": "ipython3",
   "version": "3.7.3"
  }
 },
 "nbformat": 4,
 "nbformat_minor": 2
}
