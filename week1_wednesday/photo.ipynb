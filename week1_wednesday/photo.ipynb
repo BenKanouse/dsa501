{
 "cells": [
  {
   "cell_type": "code",
   "execution_count": 24,
   "metadata": {},
   "outputs": [],
   "source": [
    "import cv2\n",
    "import numpy as np"
   ]
  },
  {
   "cell_type": "code",
   "execution_count": 26,
   "metadata": {},
   "outputs": [],
   "source": [
    "video = cv2.VideoCapture('dirt.mp4')"
   ]
  },
  {
   "cell_type": "code",
   "execution_count": 70,
   "metadata": {},
   "outputs": [
    {
     "name": "stdout",
     "output_type": "stream",
     "text": [
      "True <class 'numpy.ndarray'> (1080, 1920, 3)\n",
      "True <class 'numpy.ndarray'> (1080, 1920, 3)\n",
      "True <class 'numpy.ndarray'> (1080, 1920, 3)\n",
      "True <class 'numpy.ndarray'> (1080, 1920, 3)\n",
      "True <class 'numpy.ndarray'> (1080, 1920, 3)\n",
      "True <class 'numpy.ndarray'> (1080, 1920, 3)\n"
     ]
    }
   ],
   "source": [
    "count = 0\n",
    "\n",
    "success, previous_image = video.read()\n",
    "while True:\n",
    "    success, image = video.read()\n",
    "    print(success, type(image), image.shape)\n",
    "   \n",
    "    diff_image = np.abs(previous_image.astype(int) - image)\n",
    "    previous_image = image\n",
    "\n",
    "    cv2.imwrite(f'foo{count}.jpg', 255 - diff_image)\n",
    "    count += 1\n",
    "    if count>5: break"
   ]
  },
  {
   "cell_type": "code",
   "execution_count": 112,
   "metadata": {},
   "outputs": [
    {
     "name": "stderr",
     "output_type": "stream",
     "text": [
      "/anaconda3/lib/python3.7/site-packages/ipykernel_launcher.py:5: RuntimeWarning: divide by zero encountered in true_divide\n",
      "  \"\"\"\n",
      "/anaconda3/lib/python3.7/site-packages/ipykernel_launcher.py:5: RuntimeWarning: invalid value encountered in true_divide\n",
      "  \"\"\"\n",
      "/anaconda3/lib/python3.7/site-packages/ipykernel_launcher.py:5: RuntimeWarning: invalid value encountered in greater\n",
      "  \"\"\"\n"
     ]
    },
    {
     "data": {
      "text/plain": [
       "True"
      ]
     },
     "execution_count": 112,
     "metadata": {},
     "output_type": "execute_result"
    }
   ],
   "source": [
    "fore = cv2.imread('me.jpg')\n",
    "back = cv2.imread('background3.jpg')\n",
    "\n",
    "fore.shape, back.shape\n",
    "greenpixels = fore[:,:,1] / fore.sum(axis=2) > .4\n",
    "\n",
    "# we need to replicate this 3 times since we have a true false for in image, but not one fore each color.\n",
    "greenbits = np.dstack([greenpixels,greenpixels,greenpixels])\n",
    "\n",
    "fore[greenbits] = back[greenbits]\n",
    "\n",
    "cv2.imwrite('result.jpg', fore)"
   ]
  },
  {
   "cell_type": "code",
   "execution_count": null,
   "metadata": {},
   "outputs": [],
   "source": []
  }
 ],
 "metadata": {
  "kernelspec": {
   "display_name": "Python 3",
   "language": "python",
   "name": "python3"
  },
  "language_info": {
   "codemirror_mode": {
    "name": "ipython",
    "version": 3
   },
   "file_extension": ".py",
   "mimetype": "text/x-python",
   "name": "python",
   "nbconvert_exporter": "python",
   "pygments_lexer": "ipython3",
   "version": "3.7.3"
  }
 },
 "nbformat": 4,
 "nbformat_minor": 2
}
