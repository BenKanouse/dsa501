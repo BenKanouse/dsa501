{
 "cells": [
  {
   "cell_type": "code",
   "execution_count": 9,
   "metadata": {},
   "outputs": [
    {
     "name": "stdout",
     "output_type": "stream",
     "text": [
      "Skipping adding_features_to_dataframes.ipynb because you already have it\n",
      "Skipping string.csv because you already have it\n",
      "Skipping day1_nhtsa.ipynb because you already have it\n",
      "Skipping day2_numpy.ipynb because you already have it\n",
      "Skipping 20190615_093346.mp4 because you already have it\n"
     ]
    }
   ],
   "source": [
    "#  LIST OF PAIRS (URL, FILENAME)\n",
    "urlsfns = [\n",
    "('https://drive.google.com/uc?export=download&id=19354XDjueK7GK6H3RpLEwveeExxQsrxy','adding_features_to_dataframes.ipynb'),\n",
    "('http://136.183.56.191/DSA501public/string.csv','string.csv'),\n",
    "('https://drive.google.com/uc?export=download&id=1hL4kDb4bRgWJj3QK2pb9CSSvMv_UST8z','day1_nhtsa.ipynb'),\n",
    "('http://blue.math.buffalo.edu/dsa501/2019_day2_numpy.ipynb','day2_numpy.ipynb'),\n",
    "('http://blue.math.buffalo.edu/dsa501/20190615_093346.mp4','20190615_093346.mp4')\n",
    "]\n",
    "\n",
    "\n",
    "#######  DON'T MODIFY BELOW THIS LINE!  ##################\n",
    "\n",
    "\n",
    "import requests\n",
    "from os.path import exists\n",
    "\n",
    "\n",
    "for url,fn in urlsfns:\n",
    "\n",
    "\n",
    "    if not exists(fn):\n",
    "            r = requests.get(url)\n",
    "            print('Downloading',fn)\n",
    "            with open(fn,'w') as f:\n",
    "                    f.write(r.text)\n",
    "    else:\n",
    "            print('Skipping',fn, 'because you already have it')"
   ]
  },
  {
   "cell_type": "code",
   "execution_count": 8,
   "metadata": {},
   "outputs": [
    {
     "data": {
      "text/plain": [
       "'testing 4'"
      ]
     },
     "execution_count": 8,
     "metadata": {},
     "output_type": "execute_result"
    }
   ],
   "source": [
    "count = 4\n",
    "f'testing {count}'"
   ]
  },
  {
   "cell_type": "code",
   "execution_count": null,
   "metadata": {},
   "outputs": [],
   "source": []
  }
 ],
 "metadata": {
  "kernelspec": {
   "display_name": "Python 3",
   "language": "python",
   "name": "python3"
  },
  "language_info": {
   "codemirror_mode": {
    "name": "ipython",
    "version": 3
   },
   "file_extension": ".py",
   "mimetype": "text/x-python",
   "name": "python",
   "nbconvert_exporter": "python",
   "pygments_lexer": "ipython3",
   "version": "3.7.3"
  }
 },
 "nbformat": 4,
 "nbformat_minor": 2
}
