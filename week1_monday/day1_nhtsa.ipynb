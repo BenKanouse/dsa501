{
 "cells": [
  {
   "cell_type": "markdown",
   "metadata": {
    "colab_type": "text",
    "id": "V-58XBvpS0Wn"
   },
   "source": [
    "## JSON\n",
    "\n",
    "JSON (JavaScript Object Notation) is a lightweight data-interchange format. It is easy for humans to read and write. It is easy for machines to parse and generate. [https://www.json.org/]\n",
    "\n",
    "JSON is more expressive than CSV format, mainly because it supports lists and dictionaries (called \"arrays\" and \"objects\" in JSON).\n",
    "\n",
    "JSON has been increasingly widely used over the past decade. For example, Jupyter notebook (.ipynb) files are JSON documents."
   ]
  },
  {
   "cell_type": "markdown",
   "metadata": {
    "colab_type": "text",
    "id": "CVSrTBFcS0Wo"
   },
   "source": [
    "\n",
    "Correspondence with Python data structures\n",
    "\n",
    "- object = dictionary (string:value)\n",
    "- array = list\n",
    "- value = string/number/true/false/null/object/array/\n",
    "\n",
    "JSON text looks *almost* like Python code. Example of JSON text:\n",
    "\n",
    "    [{\"x\":5, \"y\":true, \"ZZZ\":\"hahaha\"}, [5,6,7], null]"
   ]
  },
  {
   "cell_type": "markdown",
   "metadata": {
    "colab_type": "text",
    "id": "xxCT3KawS0Wp"
   },
   "source": [
    "Differences:\n",
    "    \n",
    "- JSON strings are enclosed by double-quote characters (\"). Single-quotes (') not allowed.\n",
    "- JSON *true/false* map to Python *True/False*\n",
    "- JSON *null* maps to Python *None*\n",
    "\n",
    "and most seriously,\n",
    "\n",
    "- JSON keys can only be strings (while any \"hashable\" object can be a key in a Python dictionary)\n"
   ]
  },
  {
   "cell_type": "markdown",
   "metadata": {
    "colab_type": "text",
    "id": "-IE_kSsUS0Wp"
   },
   "source": [
    "### Reading and writing JSON files with Python\n",
    "\n",
    "This is made easy with the *json* module."
   ]
  },
  {
   "cell_type": "code",
   "execution_count": 2,
   "metadata": {
    "colab": {},
    "colab_type": "code",
    "id": "96K2EVs9S0Wq"
   },
   "outputs": [
    {
     "data": {
      "text/plain": [
       "[3, 4, 77, 'hahaha', {'foo': 'bar', 'bro': 'dawg'}]"
      ]
     },
     "execution_count": 2,
     "metadata": {},
     "output_type": "execute_result"
    }
   ],
   "source": [
    "import json\n",
    "with open('sample.json') as f:\n",
    "        myobj = json.load(f)\n",
    "\n",
    "with open('bar.json','w') as f:\n",
    "        json.dump(myobj,f,indent=2,sort_keys=True)\n",
    "        \n",
    "myobj"
   ]
  },
  {
   "cell_type": "markdown",
   "metadata": {
    "colab_type": "text",
    "id": "m_8odTXyS0Wt"
   },
   "source": [
    "Quick exercise: manually make a plain text file \"foo.json\" (Click New ... Text File in the Jupyter Home tab.), whose content is a valid JSON string.\n",
    "Then read and re-write it using the above code."
   ]
  },
  {
   "cell_type": "markdown",
   "metadata": {
    "colab_type": "text",
    "id": "tJ93n6T8S0Wu"
   },
   "source": [
    "A JSON string can be converted to a data structure using *json.loads*:"
   ]
  },
  {
   "cell_type": "code",
   "execution_count": 3,
   "metadata": {
    "colab": {},
    "colab_type": "code",
    "id": "PL_k26CxS0Wv"
   },
   "outputs": [
    {
     "data": {
      "text/plain": [
       "[1, 2, 3, [4, 5], {'6': 7}]"
      ]
     },
     "execution_count": 3,
     "metadata": {},
     "output_type": "execute_result"
    }
   ],
   "source": [
    "import json\n",
    "myjsonstring = '[1,2,3,[4,5],{\"6\":7}]'\n",
    "myobj = json.loads(myjsonstring)\n",
    "myobj"
   ]
  },
  {
   "cell_type": "markdown",
   "metadata": {
    "colab_type": "text",
    "id": "w-tSKMLTS0Wx"
   },
   "source": [
    "What is the difference between myjsonstring and myobj?"
   ]
  },
  {
   "cell_type": "markdown",
   "metadata": {
    "colab_type": "text",
    "id": "cMg_HMJWS0Wx"
   },
   "source": [
    "## NHTSA complaint database and the 2005 Chevrolet Cobalt"
   ]
  },
  {
   "cell_type": "code",
   "execution_count": 0,
   "metadata": {
    "colab": {},
    "colab_type": "code",
    "id": "fet_-KuqS0Wy"
   },
   "outputs": [],
   "source": []
  },
  {
   "cell_type": "markdown",
   "metadata": {
    "colab_type": "text",
    "id": "An4Ow_09S0W0"
   },
   "source": [
    "The National Highway Traffic Safety Administration (NHTSA) maintains an open database of all complaints it receives from the public about problems with vehicles. It is easy to get all the reports about any make, model, year:"
   ]
  },
  {
   "cell_type": "code",
   "execution_count": 4,
   "metadata": {
    "colab": {},
    "colab_type": "code",
    "id": "KvB57AwJS0W1"
   },
   "outputs": [
    {
     "data": {
      "text/plain": [
       "(10836,\n",
       " '{\"Count\":9,\"Message\":\"Results returned successfully\",\"Results\":[{\"ODINumber\":11048462,\"Manufacturer\":\"General Motors LLC\",\"Crash\":\"No\",\"Fire\":\"No\",\"NumberOfInjured\":0,\"NumberOfDeaths\":0,\"DateofInciden')"
      ]
     },
     "execution_count": 4,
     "metadata": {},
     "output_type": "execute_result"
    }
   ],
   "source": [
    "import requests\n",
    "r = requests.get( 'http://www.nhtsa.gov/webapi/api/Complaints/vehicle/modelyear/2018/make/chevrolet/model/impala?format=json' )\n",
    "s = r.text\n",
    "len(s),s[:200]"
   ]
  },
  {
   "cell_type": "markdown",
   "metadata": {
    "colab_type": "text",
    "id": "SFT_TzSFS0W2"
   },
   "source": [
    "Exercise: Get the complaints for a year, make, model of your choice and figure out the structure of the results."
   ]
  },
  {
   "cell_type": "markdown",
   "metadata": {
    "colab_type": "text",
    "id": "jh4aQspIS0W3"
   },
   "source": [
    "From the Wikipedia article on the Chevrolet Cobalt: Faulty ignition switches in the Cobalts, which cut power to the car while in motion, were eventually linked to many crashes resulting in fatalities, starting with a teenager in 2005 who drove her new Cobalt into a tree. The switch continued to be used in the manufacture of the vehicles even after the problem was known to GM. On February 21, 2014, GM recalled over 700,000 Cobalts for issues traceable to the defective ignition switches. In May 2014 the NHTSA fined the company $35 million for failing to recall cars with faulty ignition switches for a decade, despite knowing there was a problem with the switches. Thirteen deaths were linked to the faulty switches during the time the company failed to recall the cars."
   ]
  },
  {
   "cell_type": "markdown",
   "metadata": {
    "colab_type": "text",
    "id": "opCqLkoTS0W4"
   },
   "source": [
    "Exercise: Explore the database to see if complaints to see if complaints that mention \"steer\" or \"steering\" are unusually frequent for the Chevrolet Cobalt."
   ]
  },
  {
   "cell_type": "markdown",
   "metadata": {
    "colab_type": "text",
    "id": "rgYJKhqAS0W4"
   },
   "source": [
    "## Preparation for next class\n",
    "\n",
    "- Please take a photo with your phone that you'd like to use as a background for a \"green-screen\" exercise we'll do next time. \n",
    "\n",
    "- As inspiration for another exercise we'll do next time, wear some plaid (tartan) to class next time if you have some and are willing."
   ]
  },
  {
   "cell_type": "code",
   "execution_count": 5,
   "metadata": {},
   "outputs": [
    {
     "data": {
      "text/plain": [
       "{'ODINumber': 11048462,\n",
       " 'Manufacturer': 'General Motors LLC',\n",
       " 'Crash': 'No',\n",
       " 'Fire': 'No',\n",
       " 'NumberOfInjured': 0,\n",
       " 'NumberOfDeaths': 0,\n",
       " 'DateofIncident': '/Date(1511672400000-0500)/',\n",
       " 'DateComplaintFiled': '/Date(1511718716000-0500)/',\n",
       " 'VIN': '2G1105S37J9',\n",
       " 'Component': 'UNKNOWN OR OTHER',\n",
       " 'Summary': 'WHILE DRIVING ON HIGHWAY, WENT TO TOUCH THE HAZARD BUTTON BUT PUSHED THE ENGINE START/ STOP BUTTON INSTEAD. ENGINE SHUT OFF. HAD TO PULL OFF THE ROAD, ENGAGE BRAKE, PUT TRANSMISSION INTO PARK TO BE ABLE TO START CAR. THE HAZARD LIGHTS BUTTON IS WAAAYYY TO CLOSE TO THE START STOP BUTTON. ESPECIALLY WHILE KEEPING AN EYE ON THE ROAD. THIS IS A NEW RENTAL CAR BELONGING TO EAN HOLDINGS LLC.',\n",
       " 'ProductType': 'VEHICLE',\n",
       " 'ModelYear': '2018',\n",
       " 'Make': 'CHEVROLET',\n",
       " 'Model': 'IMPALA'}"
      ]
     },
     "execution_count": 5,
     "metadata": {},
     "output_type": "execute_result"
    }
   ],
   "source": [
    "mydata = json.loads(s)\n",
    "mydata[\"Results\"][0]"
   ]
  },
  {
   "cell_type": "code",
   "execution_count": 26,
   "metadata": {},
   "outputs": [],
   "source": [
    "string = 'testing STEER testing'\n",
    "if c in string:\n",
    "    "
   ]
  },
  {
   "cell_type": "code",
   "execution_count": 6,
   "metadata": {
    "colab": {},
    "colab_type": "code",
    "id": "z3QT77GpS0W5"
   },
   "outputs": [
    {
     "data": {
      "text/plain": [
       "4"
      ]
     },
     "execution_count": 6,
     "metadata": {},
     "output_type": "execute_result"
    }
   ],
   "source": [
    "count = 0\n",
    "for result in mydata['Results']:\n",
    "    if \"ROAD\" in result[\"Summary\"]:\n",
    "        count = count + 1\n",
    "        \n",
    "count"
   ]
  },
  {
   "cell_type": "code",
   "execution_count": null,
   "metadata": {},
   "outputs": [],
   "source": []
  }
 ],
 "metadata": {
  "colab": {
   "name": "dsa501_day1_nhtsa.ipynb",
   "provenance": [],
   "version": "0.3.2"
  },
  "kernelspec": {
   "display_name": "Python 3",
   "language": "python",
   "name": "python3"
  },
  "language_info": {
   "codemirror_mode": {
    "name": "ipython",
    "version": 3
   },
   "file_extension": ".py",
   "mimetype": "text/x-python",
   "name": "python",
   "nbconvert_exporter": "python",
   "pygments_lexer": "ipython3",
   "version": "3.7.3"
  }
 },
 "nbformat": 4,
 "nbformat_minor": 1
}
